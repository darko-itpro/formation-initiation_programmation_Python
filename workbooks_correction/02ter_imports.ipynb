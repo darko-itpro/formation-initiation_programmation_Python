{
 "cells": [
  {
   "cell_type": "markdown",
   "metadata": {},
   "source": [
    "# Les imports\n",
    "\n",
    "Nous avons créé dans le document précédent une fonction généraliste qui peut être utilisée dans plusieurs contextes. Pour cela, nous devons créer un *module*, c'est à dire un fichier texte contenant du code Python afin qu'il soit utilisé dans différents contextes.\n",
    "\n",
    "Le répertoire notebook contient un fichier `helpers.py`. Copiez le code de la fonction `duration_for` du document d'introduction aux fonctions dans ce module. Ce module est donc une bibliothèque, ou lib.\n",
    "\n",
    "Pour utiliser les ressources de cette lib, il faut l'importer dans le module courant. Cela va se faire par l'instruction import. La méthode est présentée en formation."
   ]
  },
  {
   "cell_type": "code",
   "execution_count": null,
   "metadata": {},
   "outputs": [],
   "source": [
    "import helpers\n",
    "\n",
    "print(helpers.duration_for(2))"
   ]
  },
  {
   "cell_type": "code",
   "execution_count": null,
   "metadata": {},
   "outputs": [],
   "source": [
    "import helpers as h\n",
    "\n",
    "print(h.duration_for(2))"
   ]
  },
  {
   "cell_type": "code",
   "execution_count": null,
   "metadata": {},
   "outputs": [],
   "source": [
    "from helpers import duration_for # à éviter\n",
    "\n",
    "print(duration_for(2))"
   ]
  },
  {
   "cell_type": "markdown",
   "metadata": {},
   "source": [
    "Notez que cette instruction dépend du répertoire de travail de Python.\n",
    "\n",
    "## Recharger une dépendance\n",
    "Une lib ne peut être importée qu'une seule fois. Si vous en modifiez le contenu, il faut la recharger. Recharger une lib se fait de la manière suivante :"
   ]
  },
  {
   "cell_type": "code",
   "execution_count": null,
   "metadata": {},
   "outputs": [],
   "source": [
    "import importlib\n",
    "importlib.reload(helpers)"
   ]
  },
  {
   "cell_type": "markdown",
   "metadata": {},
   "source": [
    "Notez que recharger une lib est une action utilisée principalement dans le shell intéractif (et donc iPython) lorsque nous travaillons sur un module. Cela peut aussi arriver dans le cas d'un Jupyter Notebook, mais il est plus facile de redémarrer et exécuter à nouveau le Notebook.\n",
    "\n",
    "## Documenter la fonction\n",
    "Documenter la fonction est indispensable pour pouvoir informer l'appelant sur son usage. La documentation est accessible avec la fonction `help()`.\n",
    "\n",
    "Vous pouvez essayer les deux cellules suivantes. Vous verrez que la documentation est pauvre car nous ne l'avons pas écrite. Nous allons voir comment remédier à cela."
   ]
  },
  {
   "cell_type": "code",
   "execution_count": null,
   "metadata": {},
   "outputs": [],
   "source": [
    "help(helpers)"
   ]
  },
  {
   "cell_type": "code",
   "execution_count": null,
   "metadata": {},
   "outputs": [],
   "source": [
    "help(helpers.duration_for)"
   ]
  }
 ],
 "metadata": {
  "kernelspec": {
   "display_name": "Python 3",
   "language": "python",
   "name": "python3"
  }
 },
 "nbformat": 4,
 "nbformat_minor": 2
}
