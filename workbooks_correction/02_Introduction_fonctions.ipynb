{
 "cells": [
  {
   "cell_type": "markdown",
   "metadata": {},
   "source": [
    "# Introduction aux fonctions\n",
    "\n",
    "Une fonction est une structure qui permet de grouper des instructions sous un nom (le nom de la fonction) et de les exécuter par *appel* de cette fonction.\n",
    "\n",
    "Les fonctions sont définies par l'instruction **def** et sont appelées par leur nom suivi de parenthèses. Les parenthèses déclarent les paramètres attendus."
   ]
  },
  {
   "cell_type": "code",
   "execution_count": null,
   "metadata": {},
   "outputs": [],
   "source": [
    "def print_something():\n",
    "    print(\"Something\")\n",
    "    \n",
    "print_something()"
   ]
  },
  {
   "cell_type": "markdown",
   "metadata": {},
   "source": [
    "`print_something` n'attends pas de paramètre. Vous pouvez l'appeler dans la cellule suivante (après avoir exécuté la cellule précédente afin que la fonction soit connue dans le notebook actuel)."
   ]
  },
  {
   "cell_type": "code",
   "execution_count": null,
   "metadata": {},
   "outputs": [],
   "source": []
  },
  {
   "cell_type": "markdown",
   "metadata": {},
   "source": [
    "Les fonctions peuvent avoir des paramètres. Vous pouvez tester la fonction suivante en lui passant un paramètre."
   ]
  },
  {
   "cell_type": "code",
   "execution_count": null,
   "metadata": {},
   "outputs": [],
   "source": [
    "def print_param(param_to_print):\n",
    "    print(\"exécuté avec\", param_to_print)"
   ]
  },
  {
   "cell_type": "code",
   "execution_count": null,
   "metadata": {},
   "outputs": [],
   "source": []
  },
  {
   "cell_type": "markdown",
   "metadata": {},
   "source": [
    "## Exercice\n",
    "\n",
    "Dans le notebook précédent, nous avons un code qui calcul la durée en heure d'une formation. Écrivez une fonction qui prend un paramètre `days` et affiche la durée en heures de la formation (une journée de formation dure 7 heures)."
   ]
  },
  {
   "cell_type": "code",
   "execution_count": 1,
   "metadata": {},
   "outputs": [],
   "source": [
    "def training_duration(days):\n",
    "    print(days * 7)"
   ]
  },
  {
   "cell_type": "markdown",
   "metadata": {},
   "source": [
    "Éxécutez cette fonction avec différents paramètres"
   ]
  },
  {
   "cell_type": "code",
   "execution_count": 2,
   "metadata": {},
   "outputs": [
    {
     "name": "stdout",
     "output_type": "stream",
     "text": [
      "14\n",
      "35\n"
     ]
    }
   ],
   "source": [
    "training_duration(2)\n",
    "training_duration(5)"
   ]
  },
  {
   "cell_type": "markdown",
   "metadata": {},
   "source": [
    "Avez vous essayé d'appeler cette fonction avec le paramètre `\"2\"` ? Que se passe-t-il ?"
   ]
  },
  {
   "cell_type": "code",
   "execution_count": 3,
   "metadata": {},
   "outputs": [
    {
     "name": "stdout",
     "output_type": "stream",
     "text": [
      "2222222\n"
     ]
    }
   ],
   "source": [
    "training_duration('2')"
   ]
  },
  {
   "cell_type": "markdown",
   "metadata": {},
   "source": [
    "Si le comportement est incohérent, corrigez la fonction ci-dessous"
   ]
  },
  {
   "cell_type": "code",
   "execution_count": 4,
   "metadata": {},
   "outputs": [],
   "source": [
    "def training_duration(days):\n",
    "    print(int(days) * 7)"
   ]
  },
  {
   "cell_type": "code",
   "execution_count": 5,
   "metadata": {},
   "outputs": [
    {
     "name": "stdout",
     "output_type": "stream",
     "text": [
      "14\n"
     ]
    }
   ],
   "source": [
    "training_duration('2')"
   ]
  },
  {
   "cell_type": "markdown",
   "metadata": {},
   "source": [
    "Une *bonne* fonction ne fait qu'une seule chose (et la fait bien). Notre fonction en fait 2 : elle calcule une valeur et l'affiche. Ceci est une mauvaise pratique car :\n",
    " - si nous exécutons la fonction dans un environnement sans terminal, nous ne pouvons pas voir la valeur\n",
    " - si nous souhaitons obtenir cette valeur pour en faire quelque chose… et bien nous ne pouvons pas.\n",
    "\n",
    "Il est donc préférable qu'une fonction qui calcule une valeur retourne cette valeur. Redefinissez la fonction ci-dessous pour qu'elle retourne cette durée."
   ]
  },
  {
   "cell_type": "code",
   "execution_count": 6,
   "metadata": {},
   "outputs": [],
   "source": [
    "def training_duration(days):\n",
    "    return int(days) * 7"
   ]
  },
  {
   "cell_type": "markdown",
   "metadata": {},
   "source": [
    "Et écrivez l'instruction ci-dessous qui affiche la durée en heure d'une formation de 2 jours à l'aide de cette fonction."
   ]
  },
  {
   "cell_type": "code",
   "execution_count": 7,
   "metadata": {},
   "outputs": [
    {
     "name": "stdout",
     "output_type": "stream",
     "text": [
      "14\n"
     ]
    }
   ],
   "source": [
    "print(training_duration(2))"
   ]
  }
 ],
 "metadata": {
  "kernelspec": {
   "display_name": "Python 3",
   "language": "python",
   "name": "python3"
  },
  "language_info": {
   "codemirror_mode": {
    "name": "ipython",
    "version": 3
   },
   "file_extension": ".py",
   "mimetype": "text/x-python",
   "name": "python",
   "nbconvert_exporter": "python",
   "pygments_lexer": "ipython3",
   "version": "3.8.0"
  }
 },
 "nbformat": 4,
 "nbformat_minor": 2
}
