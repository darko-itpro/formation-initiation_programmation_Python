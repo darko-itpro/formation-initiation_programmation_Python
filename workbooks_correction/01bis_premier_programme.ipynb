{
 "cells": [
  {
   "cell_type": "markdown",
   "metadata": {},
   "source": [
    "# Information sur une formation\n",
    "\n",
    "Ce calepin va vous montrer comment les calepins peuvent être utilisés pour répondre à un besoin.\n",
    "\n",
    "Ce calepin permet de déterminer le cout d'une formation en fonction d'un cout horaire. Une fois la seconde cellule de code complétée, vous pouvez vous en servir comme *template* pour gérer votre catalogue de formation, c'est à dire de le dupliquer avant de saisir les informations ci-dessous.\n",
    "\n",
    "En effet, cette première cellule est destinée à paraméter le programme. Elle déclare les variables attendues et les valeurs qui leur seront affectées."
   ]
  },
  {
   "cell_type": "code",
   "execution_count": null,
   "metadata": {},
   "outputs": [],
   "source": [
    "name = \"\"\n",
    "days = 0\n",
    "hourly_cost = 40"
   ]
  },
  {
   "cell_type": "markdown",
   "metadata": {},
   "source": [
    "La cellule suivante doit calculer la durée en heure de la formation à partir de la variable `days`. Déclarez une variable `hour_duration` à laquelle vous affecterez la durée en heure en fonction de la variable `days`. La durée d'une journée de formation est de 7 heures."
   ]
  },
  {
   "cell_type": "code",
   "execution_count": null,
   "metadata": {},
   "outputs": [],
   "source": []
  },
  {
   "cell_type": "markdown",
   "metadata": {},
   "source": [
    "La cellule suivante affiche toutes les informations nécessaires à la gestion des formations. Nous verrons plus tard le contenu des fonctions print."
   ]
  },
  {
   "cell_type": "code",
   "execution_count": null,
   "metadata": {},
   "outputs": [],
   "source": [
    "print(f\"Formation {name}\")\n",
    "print(f\"Durée de la formation : {hour_duration} heures\")\n",
    "print(f\"Cout de la formation  : {hour_duration * hourly_cost} €\")"
   ]
  },
  {
   "cell_type": "markdown",
   "metadata": {},
   "source": [
    "Lorsque votre calepin est complet, vous pouvez utiliser différentes valeurs dans la première cellule et exécuter tout le calepin avec le menu Cell/Run All"
   ]
  }
 ],
 "metadata": {
  "kernelspec": {
   "display_name": "Python 3",
   "language": "python",
   "name": "python3"
  },
  "language_info": {
   "codemirror_mode": {
    "name": "ipython",
    "version": 3
   },
   "file_extension": ".py",
   "mimetype": "text/x-python",
   "name": "python",
   "nbconvert_exporter": "python",
   "pygments_lexer": "ipython3",
   "version": "3.8.0"
  }
 },
 "nbformat": 4,
 "nbformat_minor": 4
}
