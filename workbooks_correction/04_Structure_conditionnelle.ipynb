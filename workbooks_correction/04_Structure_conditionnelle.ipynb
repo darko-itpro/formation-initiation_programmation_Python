{
 "cells": [
  {
   "cell_type": "markdown",
   "metadata": {},
   "source": [
    "# Les structures de contrôle : les conditionnelles\n",
    "Les structures de contrôle permettent d'exécuter du code soit\n",
    " - de manière conditionnelle\n",
    " - en boucle\n",
    " \n",
    "Dans ce notebook, nous traiterons de la structure conditionnelle.\n",
    " \n",
    "Celle-ci se fait par la structure `if`.\n",
    "\n",
    "### Exercices\n",
    "La cellule suivante déclare deux nombres.\n",
    "\n",
    "Comparez les pour afficher le plus petit"
   ]
  },
  {
   "cell_type": "code",
   "execution_count": null,
   "metadata": {},
   "outputs": [],
   "source": [
    "a = 6\n",
    "b = 9\n",
    "\n",
    "if a < b:\n",
    "    print(a)\n",
    "else:\n",
    "    print(b)"
   ]
  },
  {
   "cell_type": "markdown",
   "metadata": {},
   "source": [
    "On souhaite contrôler un chauffage collectif. On fixe **T_MAX = 26** et **T_MIN = 18**. Demandez la température et simulez le comportement suivant :\n",
    "\n",
    "* Si la température est suppérieur à la température max, exigez l'arrêt du chauffage.\n",
    "* Si la température est inférieur à la température limite, demandez d'augmenter le chauffage.\n",
    "* Sinon, dites que tout va bien.\n",
    "\n",
    "\n",
    "Écrivez la structure simulant ce comportement."
   ]
  },
  {
   "cell_type": "code",
   "execution_count": null,
   "metadata": {},
   "outputs": [],
   "source": [
    "T_MAX = 26\n",
    "T_MIN = 18\n",
    "\n",
    "temp = int(input('Quelle est la température ? '))\n",
    "\n",
    "if temp > T_MAX:\n",
    "    print('Stop !')\n",
    "elif temp < T_MIN:\n",
    "    print('Froid, chauffons')\n",
    "else:\n",
    "    print('Ok')"
   ]
  }
 ],
 "metadata": {
  "kernelspec": {
   "display_name": "Python 3",
   "language": "python",
   "name": "python3"
  },
  "language_info": {
   "codemirror_mode": {
    "name": "ipython",
    "version": 3
   },
   "file_extension": ".py",
   "mimetype": "text/x-python",
   "name": "python",
   "nbconvert_exporter": "python",
   "pygments_lexer": "ipython3",
   "version": "3.7.0"
  }
 },
 "nbformat": 4,
 "nbformat_minor": 1
}
