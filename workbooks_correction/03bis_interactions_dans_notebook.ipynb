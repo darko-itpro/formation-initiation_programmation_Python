{
 "cells": [
  {
   "cell_type": "markdown",
   "metadata": {},
   "source": [
    "# Notebook d'illustration de traitement de données\n",
    "\n",
    "Dans le notebook précédent, nous avons vu comment utiliser la fonction `input()` pour demander à l'utilisateur de saisir des données. C'est une fonction utile lorsqu'un programme s'exécute dans un terminal (ligne de commande). \n",
    "\n",
    "Dans un notebook, cette fonction a peu d'intérêt car nous pouvons prévoir une cellule qui va demander tous les paramètres pour l'exécution de notre programme. Par exemple :"
   ]
  },
  {
   "cell_type": "code",
   "execution_count": null,
   "metadata": {},
   "outputs": [],
   "source": [
    "duree_jours = 5"
   ]
  },
  {
   "cell_type": "markdown",
   "metadata": {},
   "source": [
    "Nous pouvons alors écrire le code de traitement de cette information en séparant des concepts par cellule en cas de besoin. Les deux cellules suivantes pourraient être goupées mais je préfère une cellule qui définit les fonctions et une autre pour le traitement. Nous devons alors exécuter les cellules les unes après les autres."
   ]
  },
  {
   "cell_type": "code",
   "execution_count": null,
   "metadata": {},
   "outputs": [],
   "source": [
    "def duree_formation(nombre_de_jours):\n",
    "    return int(nombre_de_jours) * 7"
   ]
  },
  {
   "cell_type": "code",
   "execution_count": null,
   "metadata": {},
   "outputs": [],
   "source": [
    "total_time = duree_formation(duree_jours)\n",
    "print(\"la formation va durer {} heures\".format(total_time))"
   ]
  },
  {
   "cell_type": "markdown",
   "metadata": {},
   "source": [
    "Mais un Notebook permet aussi d'exécuter toutes les cellules à partir du menu `Cellule>Exécuter tout`.\n",
    "\n",
    "Dans un Notebook, préférez donc dédier une cellule à l'initiatlisaiton des informations plutôt que de les demander à l'utiliateur. Celui-ci les changera avant d'exécuter le notebook.\n",
    "\n",
    "La fonction `input()` peut tout de même se révéler utile si la suite de l'éxécution dépend d'un choix utilisateur qui ne peut être pris qu'en fonction du début de l'exécution du programme. Par exemple, si la durée en heure dépasse 35, il faut choisir quoi faire :"
   ]
  },
  {
   "cell_type": "code",
   "execution_count": null,
   "metadata": {},
   "outputs": [],
   "source": [
    "if total_time > 35:\n",
    "    print(\"Durée suppérieur à 35 heure, continuer quand même avec des heures sup ?\")\n",
    "    answer = input(\"O/n\").lower()\n",
    "    \n",
    "    if answer == \"o\" or len(answer) == 0:\n",
    "        print(\"On continue\")\n",
    "    elif answer == \"n\":\n",
    "        print(\" On s'arrête\")\n",
    "    else:\n",
    "        print(\"Rien compris, je m'arrête au cas où…\")\n",
    "else:\n",
    "    print(\"On continue automatiquement\")"
   ]
  }
 ],
 "metadata": {
  "kernelspec": {
   "display_name": "Python 3",
   "language": "python",
   "name": "python3"
  },
  "language_info": {
   "codemirror_mode": {
    "name": "ipython",
    "version": 3
   },
   "file_extension": ".py",
   "mimetype": "text/x-python",
   "name": "python",
   "nbconvert_exporter": "python",
   "pygments_lexer": "ipython3",
   "version": "3.7.3"
  }
 },
 "nbformat": 4,
 "nbformat_minor": 2
}
