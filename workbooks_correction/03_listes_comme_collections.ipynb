{
 "cells": [
  {
   "cell_type": "markdown",
   "metadata": {},
   "source": [
    "# Les listes comme collection de données\n",
    "\n",
    "Une liste peut être utilisée pour stocker différentes données du même type."
   ]
  },
  {
   "cell_type": "code",
   "execution_count": 12,
   "metadata": {},
   "outputs": [],
   "source": [
    "stranger_code = [['Installing the softwares', 1, False],\n",
    "                 ['It works !', 2, False],\n",
    "                 ['It does not work anymore', 3, False],\n",
    "                 ['Launching the debug', 4, False],\n",
    "                 ['Did someone read the doc ?', 5, False],\n",
    "                 ['Trying that stuff from Stack Overflow…', 6, False],\n",
    "                 ['The client wants a demo', 7, False]]"
   ]
  },
  {
   "cell_type": "markdown",
   "metadata": {},
   "source": [
    "### Exercices\n",
    "\n",
    "affichez **le nombre** d'épisodes de cette série"
   ]
  },
  {
   "cell_type": "code",
   "execution_count": 13,
   "metadata": {},
   "outputs": [
    {
     "name": "stdout",
     "output_type": "stream",
     "text": [
      "7\n"
     ]
    }
   ],
   "source": [
    "print(len(stranger_code))"
   ]
  },
  {
   "cell_type": "markdown",
   "metadata": {},
   "source": [
    "récupérez dans une variable le **troisième élément**.\n",
    "\n",
    "Affichez le numéro de cet épisode"
   ]
  },
  {
   "cell_type": "code",
   "execution_count": 14,
   "metadata": {},
   "outputs": [
    {
     "name": "stdout",
     "output_type": "stream",
     "text": [
      "False\n"
     ]
    }
   ],
   "source": [
    "episode = stranger_code[2]\n",
    "print(episode[1])"
   ]
  },
  {
   "cell_type": "markdown",
   "metadata": {},
   "source": [
    "L'épisode est représenté par une liste. Sa troisième valeur représente si il est vu ou non. Cette valeur est à `False`. Je viens de le voir, modifiez donc cette valeur en la remplaçant par la valeur `True`."
   ]
  },
  {
   "cell_type": "code",
   "execution_count": 15,
   "metadata": {},
   "outputs": [],
   "source": [
    "episode[2] = True"
   ]
  },
  {
   "cell_type": "markdown",
   "metadata": {},
   "source": [
    "Affichez cet épisode"
   ]
  },
  {
   "cell_type": "code",
   "execution_count": 16,
   "metadata": {},
   "outputs": [
    {
     "name": "stdout",
     "output_type": "stream",
     "text": [
      "['It does not work anymore', 3, True]\n"
     ]
    }
   ],
   "source": [
    "print(episode)"
   ]
  },
  {
   "cell_type": "markdown",
   "metadata": {},
   "source": [
    "Vérifions la liste `Stranger Code`. Exceptionnellement, ne l'affichez pas, la mise en forme du `print` n'est pas très lisible… Testez si voue le souhaitez."
   ]
  },
  {
   "cell_type": "code",
   "execution_count": 18,
   "metadata": {},
   "outputs": [
    {
     "data": {
      "text/plain": [
       "[['Installing the softwares', 1, False],\n",
       " ['It works !', 2, False],\n",
       " ['It does not work anymore', 3, True],\n",
       " ['Launching the debug', 4, False],\n",
       " ['Did someone read the doc ?', 5, False],\n",
       " ['Trying that stuff from Stack Overflow…', 6, False],\n",
       " ['The client wants a demo', 7, False]]"
      ]
     },
     "execution_count": 18,
     "metadata": {},
     "output_type": "execute_result"
    }
   ],
   "source": [
    "stranger_code"
   ]
  },
  {
   "cell_type": "markdown",
   "metadata": {},
   "source": [
    "Qu'observez-vous ?"
   ]
  }
 ],
 "metadata": {
  "kernelspec": {
   "display_name": "Python 3",
   "language": "python",
   "name": "python3"
  },
  "language_info": {
   "codemirror_mode": {
    "name": "ipython",
    "version": 3
   },
   "file_extension": ".py",
   "mimetype": "text/x-python",
   "name": "python",
   "nbconvert_exporter": "python",
   "pygments_lexer": "ipython3",
   "version": "3.8.5"
  }
 },
 "nbformat": 4,
 "nbformat_minor": 4
}
