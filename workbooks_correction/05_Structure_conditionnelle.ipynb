{
 "cells": [
  {
   "cell_type": "markdown",
   "metadata": {},
   "source": [
    "# Les structures de contrôle : les conditionnelles\n",
    "Les structures de contrôle permettent d'exécuter du code soit\n",
    " - de manière conditionnelle\n",
    " - en boucle\n",
    " \n",
    "Dans ce notebook, nous traiterons de la structure conditionnelle.\n",
    " \n",
    "Celle-ci se déclare par la structure `if`. Les mots clefs sont `if`, `elif` et `else`.\n",
    "\n",
    "### Exercices\n",
    "La cellule suivante déclare deux durées.\n",
    "\n",
    "Comparez les pour afficher la **durée** la plus courte."
   ]
  },
  {
   "cell_type": "code",
   "execution_count": null,
   "metadata": {},
   "outputs": [],
   "source": [
    "harry_potter = 152\n",
    "new_hope = 120\n",
    "\n",
    "if harry_potter < new_hope:\n",
    "    print(harry_potter)\n",
    "else:\n",
    "    print(new_hope)"
   ]
  },
  {
   "cell_type": "markdown",
   "metadata": {},
   "source": [
    "On souhaite contrôler un chauffage collectif. On fixe **T_MAX = 26** et **T_MIN = 18**. Déclarez une variable `temp` et affectez lui un entier représentant la température.\n",
    "\n",
    "* Si la température est suppérieur à la température max, exigez l'arrêt du chauffage.\n",
    "* Si la température est inférieur à la température limite, demandez d'augmenter le chauffage.\n",
    "* Sinon, dites que tout va bien.\n",
    "\n",
    "\n",
    "Écrivez la structure simulant ce comportement. *Note* : définisser une variable à laquelle vous affecterez la température et que vous modifierez pour les différents essais."
   ]
  },
  {
   "cell_type": "code",
   "execution_count": null,
   "metadata": {},
   "outputs": [],
   "source": [
    "T_MAX = 26\n",
    "T_MIN = 18\n",
    "\n",
    "temp = int(input('Quelle est la température ? '))\n",
    "\n",
    "if temp > T_MAX:\n",
    "    print('Stop !')\n",
    "elif temp < T_MIN:\n",
    "    print('Froid, chauffons')\n",
    "else:\n",
    "    print('Ok')"
   ]
  },
  {
   "cell_type": "markdown",
   "metadata": {},
   "source": [
    "Une autre implémentation peut être :"
   ]
  },
  {
   "cell_type": "code",
   "execution_count": null,
   "metadata": {},
   "outputs": [],
   "source": [
    "T_MAX = 26\n",
    "T_MIN = 18\n",
    "\n",
    "temp = int(input('Quelle est la température ? '))\n",
    "\n",
    "if temp > T_MAX:\n",
    "    print('Stop !')\n",
    "elif temp > T_MIN:\n",
    "    print('Ok')\n",
    "else:\n",
    "    print('Froid, chauffons')"
   ]
  }
 ],
 "metadata": {
  "kernelspec": {
   "display_name": "Python 3",
   "language": "python",
   "name": "python3"
  },
  "language_info": {
   "codemirror_mode": {
    "name": "ipython",
    "version": 3
   },
   "file_extension": ".py",
   "mimetype": "text/x-python",
   "name": "python",
   "nbconvert_exporter": "python",
   "pygments_lexer": "ipython3",
   "version": "3.8.5"
  }
 },
 "nbformat": 4,
 "nbformat_minor": 1
}
