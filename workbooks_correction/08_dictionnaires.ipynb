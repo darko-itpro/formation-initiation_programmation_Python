{
 "cells": [
  {
   "cell_type": "markdown",
   "metadata": {},
   "source": [
    "## Usage des dictionnaires\n",
    "Les Dictionnairs (`dict`) sont des collections non ordonnées de couples clef-valeur.\n",
    "Un dictionnaire vide peut être créé par l'une des instructions suivantes :\n",
    "```python\n",
    "my_dict = {}\n",
    "my_dict = dict()\n",
    "```\n",
    "\n",
    "Pour ajouter un couple clef/valeur, il suffit d'affecter la valeur à la clef :\n",
    "```python\n",
    "my_dict['key'] = 'Value'\n",
    "```\n",
    "\n",
    "Remplacer la valeur associée à une clef se fait de la même manière.\n",
    "\n",
    "L'accès à une valeur est réalisé en accédant par sa clef\n",
    "```python\n",
    "my_dict['key'] # retourne la valeur associée à la clef\n",
    "```\n",
    "\n",
    "### Exercices - dictionnaires\n",
    "Les questions suivantes vont vous faire manipuler les principales instructions.\n",
    "\n",
    "Nous allons gérer des formations. Une formation possède un sujet, une durée et un nombre de participants. Nous allons représenter une formation par un dictionnaire. Les couples clef/valeur représenteront les données de chaque formation.\n",
    "\n",
    "La cellule suivante crée un dictionnaire vide."
   ]
  },
  {
   "cell_type": "code",
   "execution_count": null,
   "metadata": {},
   "outputs": [],
   "source": [
    "training = {}"
   ]
  },
  {
   "cell_type": "markdown",
   "metadata": {},
   "source": [
    "Ajoutez une clef `subject` avec la valeur `Python`"
   ]
  },
  {
   "cell_type": "code",
   "execution_count": null,
   "metadata": {},
   "outputs": [],
   "source": [
    "training[\"subject\"] = \"Python\""
   ]
  },
  {
   "cell_type": "markdown",
   "metadata": {},
   "source": [
    "Ajoutez une clef `duration` avec la valeur correspondant au nombre de jours de formation (ce nombre de jours est un entier"
   ]
  },
  {
   "cell_type": "code",
   "execution_count": null,
   "metadata": {},
   "outputs": [],
   "source": [
    "training[\"duration\"] = 2"
   ]
  },
  {
   "cell_type": "markdown",
   "metadata": {},
   "source": [
    "Affichez si la clef `students` existe (l'instruction doit retourner `True` ou `False`)"
   ]
  },
  {
   "cell_type": "code",
   "execution_count": null,
   "metadata": {},
   "outputs": [],
   "source": [
    "print(\"students\" in training)"
   ]
  },
  {
   "cell_type": "markdown",
   "metadata": {},
   "source": [
    "Créez la clef `students` et affectez lui une valeur correspondant au nombre de stagiaires."
   ]
  },
  {
   "cell_type": "code",
   "execution_count": null,
   "metadata": {},
   "outputs": [],
   "source": [
    "training[\"students\"] = 6"
   ]
  },
  {
   "cell_type": "markdown",
   "metadata": {},
   "source": [
    "Modifiez la clef `students` pour que la valeur associée soit incrémentée de 2. **Attention**, n'affectez pas une nouvelle valeur mais la valeur actuelle incrémentée de 2."
   ]
  },
  {
   "cell_type": "code",
   "execution_count": null,
   "metadata": {},
   "outputs": [],
   "source": [
    "training[\"students\"] += 2"
   ]
  },
  {
   "cell_type": "markdown",
   "metadata": {},
   "source": [
    "Créez une nouvelle formation avec le sujet et la durée de votre choix."
   ]
  },
  {
   "cell_type": "code",
   "execution_count": null,
   "metadata": {},
   "outputs": [],
   "source": [
    "new_training = dict(subject='Pandas', duration=4)"
   ]
  },
  {
   "cell_type": "markdown",
   "metadata": {},
   "source": [
    "Testez ci-dessous si la clef `students` existe dans cette formation. Si elle n'existe pas, créez la et affectez lui une valeur correspondant au nombre de stagiaires. Sinon, incrémentez cette la valeur associée de 2.\n",
    "\n",
    "Affichez ensuite ce dictionnaire.\n",
    "\n",
    "Exécutez cette cellule plusieurs fois."
   ]
  },
  {
   "cell_type": "code",
   "execution_count": null,
   "metadata": {},
   "outputs": [],
   "source": [
    "if \"students\" not in new_training:\n",
    "    new_training['students'] = 6\n",
    "else:\n",
    "    new_training['students'] += 2\n",
    "    \n",
    "print(new_training)"
   ]
  }
 ],
 "metadata": {
  "kernelspec": {
   "display_name": "Python 3",
   "language": "python",
   "name": "python3"
  },
  "language_info": {
   "codemirror_mode": {
    "name": "ipython",
    "version": 3
   },
   "file_extension": ".py",
   "mimetype": "text/x-python",
   "name": "python",
   "nbconvert_exporter": "python",
   "pygments_lexer": "ipython3",
   "version": "3.8.0"
  }
 },
 "nbformat": 4,
 "nbformat_minor": 2
}
