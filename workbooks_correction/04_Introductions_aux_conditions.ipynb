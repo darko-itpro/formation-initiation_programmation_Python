{
 "cells": [
  {
   "cell_type": "markdown",
   "metadata": {},
   "source": [
    "# Les structures de contrôle : les conditionnelles\n",
    "Les structures de contrôle permettent d'exécuter du code soit\n",
    " - de manière conditionnelle\n",
    " - en boucle\n",
    " \n",
    "Dans ce notebook, nous traiterons de la structure conditionnelle.\n",
    " \n",
    "Celle-ci se déclare par la structure `if`. Les mots clefs sont `if`, `elif` et `else`.\n",
    "\n",
    "### Exercices\n",
    "La cellule suivante déclare deux durées.\n",
    "\n",
    "Comparez les pour afficher la **durée** la plus courte."
   ]
  },
  {
   "cell_type": "code",
   "execution_count": null,
   "metadata": {},
   "outputs": [],
   "source": [
    "harry_potter = 152\n",
    "new_hope = 120\n",
    "\n",
    "if harry_potter < new_hope:\n",
    "    print(harry_potter)\n",
    "else:\n",
    "    print(new_hope)"
   ]
  },
  {
   "source": [
    "Sur PyFlix, un épisode est une liste contenant l'information si il a été vu en troisième position. Cette information est représentée par un booléen. Soit un épisode associé à la variable `episode`."
   ],
   "cell_type": "markdown",
   "metadata": {}
  },
  {
   "cell_type": "code",
   "execution_count": null,
   "metadata": {},
   "outputs": [],
   "source": [
    "episode = ['Installing the softwares', 1, False]"
   ]
  },
  {
   "source": [
    "Dans la cellule ci-dessous, affichez \"A été vu\" ou \"N'a pas été vu\" en fonction de cette valeur."
   ],
   "cell_type": "markdown",
   "metadata": {}
  },
  {
   "cell_type": "code",
   "execution_count": null,
   "metadata": {},
   "outputs": [],
   "source": [
    "if episode[2]:\n",
    "    print(\"A été vu\")\n",
    "else:\n",
    "    print(\"N'a pas été vu\")"
   ]
  },
  {
   "cell_type": "markdown",
   "metadata": {},
   "source": [
    "Nous allons essayer une autre manière de gérer les données. Ci-dessous, la nouvelle manière de représenter un épisode."
   ]
  },
  {
   "cell_type": "code",
   "execution_count": null,
   "metadata": {},
   "outputs": [],
   "source": [
    "episode = ['Installing the softwares', 1, 0]"
   ]
  },
  {
   "cell_type": "markdown",
   "metadata": {},
   "source": [
    "La troisième donnée est un compteur de *vus*. Si il est à 0, il n'a pas été vu. Dans la cellule ci-dessous, affichez \"A été vu\" ou \"N'a pas été vu\" en fonction de cette valeur."
   ]
  },
  {
   "cell_type": "code",
   "execution_count": null,
   "metadata": {},
   "outputs": [],
   "source": [
    "if episode[2] > 0:\n",
    "    print(\"A été vu\")\n",
    "else:\n",
    "    print(\"N'a pas été vu\")"
   ]
  },
  {
   "cell_type": "markdown",
   "metadata": {},
   "source": [
    "Modifiez dans la cellule précédente la valeur des vus afin de voir la différence de comportement.\n",
    "\n",
    "Python permet une simplification de l'écriture de code que nous allons pouvoir illustrer avec cet exemple. Après les explications, "
   ]
  },
  {
   "cell_type": "code",
   "execution_count": null,
   "metadata": {},
   "outputs": [],
   "source": [
    "if episode[2]:\n",
    "    print(\"A été vu\")\n",
    "else:\n",
    "    print(\"N'a pas été vu\")"
   ]
  }
 ],
 "metadata": {
  "kernelspec": {
   "display_name": "Python 3",
   "language": "python",
   "name": "python3"
  },
  "language_info": {
   "codemirror_mode": {
    "name": "ipython",
    "version": 3
   },
   "file_extension": ".py",
   "mimetype": "text/x-python",
   "name": "python",
   "nbconvert_exporter": "python",
   "pygments_lexer": "ipython3",
   "version": "3.8.5"
  }
 },
 "nbformat": 4,
 "nbformat_minor": 4
}