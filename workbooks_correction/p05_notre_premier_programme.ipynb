{
 "cells": [
  {
   "cell_type": "markdown",
   "metadata": {},
   "source": [
    "# Notre programme avec une mise en forme\n",
    "\n",
    "Nous allons maintenant mettre en forme le résultat en utilisant une chaine de caractères.\n",
    "\n",
    "Reprenons le contenu du calepin précédent nous permétant de calculer le nombre d'heures de cours. Nous allons toujours déclarer les variables spécifiques à l'exécution du programme. Mais afin de mettre en forme correctement le programme, la première cellule contindra les imports nécessaires.\n",
    "\n",
    "Déclarez également une constante avec une chaine de caractère *template* (vous pouvez la préparer au choix pour la méthode `format` ou pour les fstring)."
   ]
  },
  {
   "cell_type": "code",
   "execution_count": null,
   "metadata": {},
   "outputs": [],
   "source": [
    "import wblib.helpers as h"
   ]
  },
  {
   "cell_type": "code",
   "execution_count": null,
   "metadata": {},
   "outputs": [],
   "source": [
    "days = 3\n",
    "\n",
    "TEMPLATE_F_DUREE = f\"Durée en heures : {h.duration_for(days)}\"\n",
    "TEMPLATE_M_DUREE = \"Durée en heures : {}\""
   ]
  },
  {
   "cell_type": "markdown",
   "metadata": {},
   "source": [
    "Nous allons cette fois déclarer dans la cellule suivante l'import du module contenant la fonction `duration_for`."
   ]
  },
  {
   "cell_type": "markdown",
   "metadata": {},
   "source": [
    "Nous allons donc utiliser cette fonction pour afficher la durée comme précédemment ou un message si le nombre de jours est négatif."
   ]
  },
  {
   "cell_type": "code",
   "execution_count": null,
   "metadata": {},
   "outputs": [],
   "source": [
    "if days > 0:\n",
    "    print(TEMPLATE_F_DUREE)\n",
    "else:\n",
    "    print(\"La durée doit être positive\")"
   ]
  },
  {
   "cell_type": "code",
   "execution_count": null,
   "metadata": {},
   "outputs": [],
   "source": [
    "if days > 0:\n",
    "    print(TEMPLATE_M_DUREE.format(h.duration_for(days)))\n",
    "else:\n",
    "    print(\"La durée doit être positive\")"
   ]
  }
 ],
 "metadata": {
  "kernelspec": {
   "display_name": "Python 3",
   "language": "python",
   "name": "python3"
  },
  "language_info": {
   "codemirror_mode": {
    "name": "ipython",
    "version": 3
   },
   "file_extension": ".py",
   "mimetype": "text/x-python",
   "name": "python",
   "nbconvert_exporter": "python",
   "pygments_lexer": "ipython3",
   "version": "3.8.0"
  }
 },
 "nbformat": 4,
 "nbformat_minor": 2
}
