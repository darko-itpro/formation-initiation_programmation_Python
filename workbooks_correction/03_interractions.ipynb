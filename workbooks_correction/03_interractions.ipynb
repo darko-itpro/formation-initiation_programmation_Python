{
 "cells": [
  {
   "cell_type": "markdown",
   "metadata": {},
   "source": [
    "## Entrées de l'utilisateur\n",
    "Tout programme a besoin de paramètres. En Python, il est possible de demander à l'utilisateur de fournir des informations. La manière historique repose sur la fonction `input()`. Cette fonction attends une saisie de l'utilisateur et retourne cette saisie sous forme d'une chaine de caractères. Il est donc nécessaire de transtyper au besoin.\n",
    "```python\n",
    "name = input('Quel est votre langage favori ? ')\n",
    "print(name)\n",
    "year = int(input('Quand a-t-il été créé ? ')\n",
    "print(year)\n",
    "```\n",
    "\n",
    "Cette fonction permet une saisie de l'utilisateur via l'invite de commande. Celle-ci est peu ergonomique selon nos standards actuels, nous n'allons pas l'utiliser. Elle a tout de même un intérêt lorsque un programme a besoin d'une information en cours d'exécution (voir notebook bis).\n",
    "\n",
    "Dans le cas des Notebooks, nous allons dédier une cellule pour le renseignement d'informations.\n",
    "\n",
    "### Préparez l'exercice\n",
    "Déclarez dans la cellule suivante une variable `training` avec en valeur le nom de votre formation et une variable `duration`avec en valeur un entier représentant la durée en jours."
   ]
  },
  {
   "cell_type": "code",
   "execution_count": 3,
   "metadata": {},
   "outputs": [],
   "source": [
    "training = \"Python\"\n",
    "duration = 2"
   ]
  },
  {
   "cell_type": "markdown",
   "metadata": {},
   "source": [
    "Les deux cellules suivantes utilisent ces variables. Pour voir le résultat, vous pouvez soit les exécuter l'une après l'autre soit avec le menu Cellule/Exécuter tout."
   ]
  },
  {
   "cell_type": "code",
   "execution_count": 4,
   "metadata": {},
   "outputs": [
    {
     "name": "stdout",
     "output_type": "stream",
     "text": [
      "Vous êtes en formation de Python\n"
     ]
    }
   ],
   "source": [
    "print(f\"Vous êtes en formation de {training}\")"
   ]
  },
  {
   "cell_type": "code",
   "execution_count": 6,
   "metadata": {},
   "outputs": [
    {
     "name": "stdout",
     "output_type": "stream",
     "text": [
      "Votre formation dure 2 jours\n"
     ]
    }
   ],
   "source": [
    "print(f\"Votre formation dure {duration} jours\")"
   ]
  },
  {
   "cell_type": "markdown",
   "metadata": {},
   "source": [
    "Dans le notebook précédent, vous avez défini une fonction calculant et affichant la durée d'une formation. Recopiez la dans la cellule suivante et exécutez la."
   ]
  },
  {
   "cell_type": "code",
   "execution_count": null,
   "metadata": {},
   "outputs": [],
   "source": [
    "def duree_formation(nombre_de_jours):\n",
    "    return int(nombre_de_jours) * 7"
   ]
  },
  {
   "cell_type": "markdown",
   "metadata": {},
   "source": [
    "Dans la cellule suivante, posez la question à l'utilisateur sur le nombre de jours de sa formation et utilisez la fonction pour lui afficher la durée de la formation en heures."
   ]
  },
  {
   "cell_type": "code",
   "execution_count": null,
   "metadata": {},
   "outputs": [],
   "source": [
    "duree = int(input(\"Combien de jour de formation ? \"))\n",
    "print(duree_formation(duree))"
   ]
  },
  {
   "cell_type": "markdown",
   "metadata": {},
   "source": [
    "## Mise en forme de chaines de caractères\n",
    "Il existe plusieurs moyens de mettre en forme une donnée au sein d'une chaine de caractères. Nous pouvons utiliser la méthode `format()` des chaines de caractères :\n",
    "```python\n",
    "pref_string = \"Mon langage favori est {}\"\n",
    "print(pref_string.format(name))\n",
    "```\n",
    "Les accolades permettent de mettre en forme les données à afficher. Le microlangage étant assez complexe, je vous invite à consulter [la documentation](https://docs.python.org/3.6/library/string.html#format-string-syntax) pour les fonctionnalités exhaustives.\n",
    "\n",
    "On retiendra les plus courantes :\n",
    " * `{1}` permet d'afficher le second élément de la liste des données.\n",
    " * `{:.2f}` permet d'afficher la donnée sous forme de réel avec deux chiffres après la virgule\n",
    " * `{:10}` réserve 10 espaces pour afficher la donnée\n",
    " * `{:10.2f}` réserve 10 espaces pour afficher un réel avec deux chiffres après la virgule\n",
    " * `{1:10.2f}` réserve 10 espaces pour afficher sous forme de réel avec deux chiffres après la virgule le second élément de la liste des données\n",
    " \n",
    "Nous pouvons aussi utiliser les f-String :\n",
    "```python\n",
    "pref_string = f\"Mon langage favori est {name}\"\n",
    "print(pref_string).\n",
    "```\n",
    "Réserver un certain nombre de caractères ou spécifier la précision se fait, avec les f-string, de la même manière que pour la fonction `.format()` : `{age:10.2f}`.\n",
    "\n",
    "### Exercices\n",
    "Reprenons l'exercice sur la vitesse calculée précédemment et améliorons l'affichage en imposant deux chiffres après le point décimal et en affichant l'unité (m/s). Essayez d'utiliser la fonction format et les f-string."
   ]
  },
  {
   "cell_type": "code",
   "execution_count": 18,
   "metadata": {},
   "outputs": [
    {
     "name": "stdout",
     "output_type": "stream",
     "text": [
      "2.86 m/s\n",
      "2.86 m/s\n"
     ]
    }
   ],
   "source": [
    "temps = 6.892\n",
    "distance = 19.7\n",
    "\n",
    "print(\"{:.2f} m/s\".format(distance / temps))\n",
    "print(f\"{distance / temps:.2f} m/s\")"
   ]
  },
  {
   "cell_type": "markdown",
   "metadata": {
    "collapsed": true
   },
   "source": [
    "Affichez une phrase mettant en forme le nom de la formation et sa durée ( exemple : `La formation Python dure 2 jours` ) en utilisant les données saisies précédemment (n'oubliez pas que les variables affectées précédemment sont accessibles dans cette cellule)."
   ]
  },
  {
   "cell_type": "code",
   "execution_count": null,
   "metadata": {},
   "outputs": [],
   "source": [
    "print(\"{} a {} ans\".format(name, age))"
   ]
  },
  {
   "cell_type": "markdown",
   "metadata": {},
   "source": [
    "## Opérations sur données\n",
    "Nous allons maintenant combiner traitement de données et affichage.\n",
    "### Exercices\n",
    "Il me reste 7 épisodes de 26 minutes de Big Bang Theory à regarder.\n",
    " * Combien de temps (en heures et minutes) cela représente-t-il ?\n",
    " * Sachant qu'il est 20h42, quelle sera l'heure de fin si je les regarde à la suite ?\n",
    "Affichez ces deux résultats à l'aide des templates suivants."
   ]
  },
  {
   "cell_type": "code",
   "execution_count": 19,
   "metadata": {},
   "outputs": [],
   "source": [
    "TIME_REMAINING = 'Il reste {:2}h{:02} à visionner.'\n",
    "END_HOURE = 'Vous aurez fini de regarder vos émission à {:2}h{:02}'"
   ]
  },
  {
   "cell_type": "code",
   "execution_count": null,
   "metadata": {},
   "outputs": [],
   "source": [
    "EPISODE_DURATION = 26\n",
    "total_time = 7 * EPISODE_DURATION\n",
    "\n",
    "total_hours = total_time // 60\n",
    "total_minutes = total_time % 60\n",
    "\n",
    "print(TIME_REMAINING.format(total_hours, total_minutes))\n",
    "\n",
    "end_hour = 20 * 60 + 42 + total_time\n",
    "\n",
    "end_hour, end_minutes = divmod(end_hour, 60)\n",
    "print(END_HOURE.format(end_hour, end_minutes))"
   ]
  },
  {
   "cell_type": "markdown",
   "metadata": {},
   "source": [
    "La cellule suivante présente le même code en utilisant la fonction que nous avons défini plus tôt."
   ]
  },
  {
   "cell_type": "code",
   "execution_count": 20,
   "metadata": {},
   "outputs": [
    {
     "name": "stdout",
     "output_type": "stream",
     "text": [
      "Il reste  3h02 à visionner.\n",
      "Vous aurez fini de regarder vos émission à 23h44\n"
     ]
    }
   ],
   "source": [
    "import helpers as h\n",
    "\n",
    "total_time = h.duration_for(7, unit_duration=26)\n",
    "\n",
    "total_hours = total_time // 60\n",
    "total_minutes = total_time % 60\n",
    "\n",
    "print(TIME_REMAINING.format(total_hours, total_minutes))\n",
    "\n",
    "end_hour = 20 * 60 + 42 + total_time\n",
    "\n",
    "end_hour, end_minutes = divmod(end_hour, 60)\n",
    "print(END_HOURE.format(end_hour, end_minutes))"
   ]
  }
 ],
 "metadata": {
  "kernelspec": {
   "display_name": "Python 3",
   "language": "python",
   "name": "python3"
  },
  "language_info": {
   "codemirror_mode": {
    "name": "ipython",
    "version": 3
   },
   "file_extension": ".py",
   "mimetype": "text/x-python",
   "name": "python",
   "nbconvert_exporter": "python",
   "pygments_lexer": "ipython3",
   "version": "3.7.3"
  }
 },
 "nbformat": 4,
 "nbformat_minor": 1
}
