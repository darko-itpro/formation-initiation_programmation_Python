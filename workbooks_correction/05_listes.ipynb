{
 "cells": [
  {
   "cell_type": "markdown",
   "metadata": {},
   "source": [
    "## Les collections\n",
    "Les collections sont des types de données qui contiennent plusieurs données. Nous avons vu :\n",
    " * les chaines de caractères (`str`)\n",
    " * les listes (`list`)\n",
    " * les tuples (`tuple`)\n",
    " * les dictionnaires (`dict`)\n",
    " \n",
    "Listes et chaines de caractères sont des **séquences**. Les éléments sont ordonnés et peuvent être redondants. Vous pouvez accéder à un élément de la collection par son indice avec la sémantique suivante :\n",
    "```python\n",
    "knights = [\"Arthur\", \"Lancelot\", \"Galahad\", \"Robin\", \"Karadoc\"]\n",
    "knights[2] # retourne l'élément à l'indice 2\n",
    "```\n",
    "Vous pouvez tester cette instrucion dans la cellule suivante."
   ]
  },
  {
   "cell_type": "code",
   "execution_count": null,
   "metadata": {},
   "outputs": [],
   "source": [
    "knights = [\"Arthur\", \"Lancelot\", \"Galahad\", \"Robin\", \"Karadoc\"]\n",
    "print(knights[2])"
   ]
  },
  {
   "cell_type": "markdown",
   "metadata": {},
   "source": [
    "Vous pouvez également extraire une partie de la liste en sous-liste grâce au *slicing* :\n",
    "```python\n",
    "knights[2:4] # retourne une liste de 2 éléments\n",
    "knights[:2] # retourne la liste des deux premiers éléments\n",
    "```"
   ]
  },
  {
   "cell_type": "code",
   "execution_count": null,
   "metadata": {},
   "outputs": [],
   "source": [
    "print(knights[2:4])\n",
    "print(knights[:2])"
   ]
  },
  {
   "cell_type": "markdown",
   "metadata": {},
   "source": [
    "Vous pouvez avoir la taille de la collection avec la fonction\n",
    "```python\n",
    "len(knights)\n",
    "```\n",
    "En python, **tout est objet**. Un objet est une entité caractérisée par :\n",
    " - un état (des données)\n",
    " - des comportements (des fonctions associées appelées méthodes)\n",
    " \n",
    "Contrairement aux types numériques, les collections utilisent et se manipulent à l'aide de méthodes. Leur *état* correspond aux données contenues.\n",
    "Ainsi, si nous avons une liste, trier la liste est réalisé par une méthode :\n",
    "```python\n",
    "knights.sort() # tri la liste\n",
    "```\n",
    "Vous pouvez consulter les autres méthodes disponibles pour le type liste par les fonctions `dir(list)` et `help(list)`."
   ]
  },
  {
   "cell_type": "markdown",
   "metadata": {},
   "source": [
    "### Exercices - listes\n",
    "Pour l'exercice suivant, il y a plusieurs manipulations sur la liste définie ci-dessous. Pour une question de lisibilité, chaque question est à traiter dans sa cellule. **Attention**, l'enchainement des instructions transformera la liste, leur séquence est donc importante. Aussi, je vous conseille à chaque fois d'exécute **toutes** les cellules.\n",
    "\n",
    "Ainsi, soit la liste suivante."
   ]
  },
  {
   "cell_type": "code",
   "execution_count": null,
   "metadata": {},
   "outputs": [],
   "source": [
    "ma_liste = [17, 19, 3, 18, 22, 21, 20, 2]"
   ]
  },
  {
   "cell_type": "markdown",
   "metadata": {},
   "source": [
    "Il s'agit de la liste des épisodes de Big Bang Theory qui me reste à voir et là, c'est organisé n'importe comment.\n",
    "\n",
    "Commencez par ajouter l'élément 23 à la liste et affichez la."
   ]
  },
  {
   "cell_type": "code",
   "execution_count": null,
   "metadata": {},
   "outputs": [],
   "source": [
    "ma_liste.append(23)\n",
    "print(ma_liste)"
   ]
  },
  {
   "cell_type": "markdown",
   "metadata": {},
   "source": [
    "Affichez la valeur la plus petite"
   ]
  },
  {
   "cell_type": "code",
   "execution_count": null,
   "metadata": {},
   "outputs": [],
   "source": [
    "print(min(ma_liste))"
   ]
  },
  {
   "cell_type": "markdown",
   "metadata": {},
   "source": [
    "Affichez l'indice (la position en commençant à 0) de la plus petite valeur"
   ]
  },
  {
   "cell_type": "code",
   "execution_count": null,
   "metadata": {},
   "outputs": [],
   "source": [
    "print(ma_liste.index(min(ma_liste)))"
   ]
  },
  {
   "cell_type": "markdown",
   "metadata": {},
   "source": [
    "Elle n'est pas au début. Triez et affichez la liste."
   ]
  },
  {
   "cell_type": "code",
   "execution_count": null,
   "metadata": {},
   "outputs": [],
   "source": [
    "ma_liste.sort()\n",
    "print(ma_liste)"
   ]
  },
  {
   "cell_type": "markdown",
   "metadata": {},
   "source": [
    "Mais en fait, j'ai déjà vu l'épisode 17, supprimez le et affichez la liste."
   ]
  },
  {
   "cell_type": "code",
   "execution_count": null,
   "metadata": {},
   "outputs": [],
   "source": [
    "ma_liste.remove(17)\n",
    "print(ma_liste)"
   ]
  },
  {
   "cell_type": "markdown",
   "metadata": {},
   "source": [
    "Il y a donc 2 épisodes que j'ai raté au début, affichez la liste des 2 premiers éléments."
   ]
  },
  {
   "cell_type": "code",
   "execution_count": null,
   "metadata": {},
   "outputs": [],
   "source": [
    "print(ma_liste[:2])"
   ]
  },
  {
   "cell_type": "markdown",
   "metadata": {},
   "source": [
    "Et puis affichez la liste des éléments à partir du 3eme"
   ]
  },
  {
   "cell_type": "code",
   "execution_count": null,
   "metadata": {},
   "outputs": [],
   "source": [
    "print(ma_liste[3:])"
   ]
  },
  {
   "cell_type": "markdown",
   "metadata": {},
   "source": [
    "Affichez la liste des 2 derniers éléments"
   ]
  },
  {
   "cell_type": "code",
   "execution_count": null,
   "metadata": {},
   "outputs": [],
   "source": [
    "print(ma_liste[-2:])"
   ]
  },
  {
   "cell_type": "markdown",
   "metadata": {},
   "source": [
    "Affichez le dernier élément"
   ]
  },
  {
   "cell_type": "code",
   "execution_count": null,
   "metadata": {},
   "outputs": [],
   "source": [
    "print(ma_liste[-1])"
   ]
  },
  {
   "cell_type": "markdown",
   "metadata": {},
   "source": [
    "À partir de cette liste, on va gérer une copie pour le conjoint. Créez donc une copie de cette liste dans une nouvelle variable."
   ]
  },
  {
   "cell_type": "code",
   "execution_count": null,
   "metadata": {},
   "outputs": [],
   "source": [
    "mon_autre_liste = ma_liste.copy()\n",
    "mon_autre_liste = list(ma_liste)\n",
    "mon_autre_liste = ma_liste[:]"
   ]
  },
  {
   "cell_type": "markdown",
   "metadata": {},
   "source": [
    "Ajoutez à votre nouvelle liste l’élément 16, que remarquez-vous ?"
   ]
  },
  {
   "cell_type": "code",
   "execution_count": null,
   "metadata": {},
   "outputs": [],
   "source": [
    "mon_autre_liste.append(16)\n",
    "print(ma_liste)\n",
    "print(mon_autre_liste)"
   ]
  },
  {
   "cell_type": "markdown",
   "metadata": {},
   "source": [
    "## Les listes comme structures de données\n",
    "\n",
    "En Python, une liste est une collection d'objets, nous pouvons donc créer une liste pour structurer des données. Par exemple, plutôt que des numéros, ma playlist pourra s'organiser avec des données de ce type :\n",
    "\n",
    "`[\"The Philosopher's Stone\", 2001, 152, False]`\n",
    "\n",
    "Cette liste pourra représenter une donnée à propos d'un film en définissant que la première donnée est le titre, la seconde l'année, la troisième la durée et la dernière un booléen indiquant si je l'ai vu ou non. Bien entendu, une donnée structurée de cette manière doit être construite avec rigueur. Afin d'éviter les erreurs, nous pouvons créer une méthode qui construira cette donnée.\n",
    "\n",
    "Comme nous allons gérer ces données dans une liste, créez une fonction qui prend en paramètres la liste, titre, année, durée et booléen. Cette fonction ne doit rien retourner."
   ]
  },
  {
   "cell_type": "code",
   "execution_count": null,
   "metadata": {},
   "outputs": [],
   "source": [
    "playlist = []"
   ]
  },
  {
   "cell_type": "code",
   "execution_count": null,
   "metadata": {},
   "outputs": [],
   "source": [
    "def add_media():\n",
    "    pass  #TODO: complétez les paramètres et le corp de cette fonction."
   ]
  },
  {
   "cell_type": "code",
   "execution_count": null,
   "metadata": {},
   "outputs": [],
   "source": [
    "def add_media(collection, title, year, duration, viewed):\n",
    "    collection.append([title, year, duration, viewed])\n",
    "\n",
    "add_media(playlist, \"The Philosopher's Stone\", 2001, 152, False)\n",
    "print(playlist)\n",
    "add_media(playlist, \"The Chamber of Secrets\", 2002, 161, False)\n",
    "print(playlist)"
   ]
  }
 ],
 "metadata": {
  "kernelspec": {
   "display_name": "Python 3",
   "language": "python",
   "name": "python3"
  },
  "language_info": {
   "codemirror_mode": {
    "name": "ipython",
    "version": 3
   },
   "file_extension": ".py",
   "mimetype": "text/x-python",
   "name": "python",
   "nbconvert_exporter": "python",
   "pygments_lexer": "ipython3",
   "version": "3.7.0"
  }
 },
 "nbformat": 4,
 "nbformat_minor": 2
}
