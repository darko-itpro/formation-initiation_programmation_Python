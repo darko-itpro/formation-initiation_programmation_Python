{
 "cells": [
  {
   "cell_type": "markdown",
   "metadata": {},
   "source": [
    "# Lets do it the Python way\n",
    "Jusqu'ici, nous avons vu la sémantique du langage Python. Avec les connaissance acquises jusqu'ici, vous savez écrire un programme avec la syntaxe Python. Si vous avez vu certaines caractéristiques du langage, il est est temps de voir les plus intéressantes."
   ]
  },
  {
   "cell_type": "markdown",
   "metadata": {},
   "source": [
    "## Les fonctions\n",
    "En Python, **tout est objet**. Les fonctions sont donc des objets… Il ne faut donc pas confondre les instructions\n",
    "```python\n",
    "ma_func()\n",
    "```\n",
    "qui est un appel de la fonction et qui retourne le retour de la fonction et\n",
    "```python\n",
    "ma_func\n",
    "```\n",
    "qui est une référence à la fonction et retourne donc… La fonction.\n",
    "\n",
    "Une fonction est un *callable* et pour être *appelé*, sa déclaration doit être suivie de parenthèses.\n",
    "\n",
    "Si le nom de la fonction retourne la fonction et que ce retour peut être exécuté par ajout de parenthèses, alors nous pouvons affecter une fonction à une variable, un paramètre de fonction ou un retour de fonction…\n",
    "\n",
    "Voyons un exemple avec ces deux fonctions qui permettent d'appliquer des opérations commerciales"
   ]
  },
  {
   "cell_type": "code",
   "execution_count": null,
   "metadata": {},
   "outputs": [],
   "source": [
    "def third_free(price, quantity=1):\n",
    "    \"\"\"\n",
    "    Le troisième gratuit\n",
    "    \"\"\"\n",
    "    return price * (quantity - quantity // 3)\n",
    "\n",
    "def second_half_price(price, quantity=1):\n",
    "    \"\"\"\n",
    "    Le second à 50%\n",
    "    \"\"\"\n",
    "    return (price * (quantity // 2) * 1.5) + (price * (quantity % 2))"
   ]
  },
  {
   "cell_type": "markdown",
   "metadata": {},
   "source": [
    "En caisse, nous avons évidemment une liste de produits. La liste est composé d'une liste de 3 éléments : nom, prix et quantité."
   ]
  },
  {
   "cell_type": "code",
   "execution_count": null,
   "metadata": {},
   "outputs": [],
   "source": [
    "products_list = [['Kit Kat', 3.5, 2],\n",
    "                 ['Choucroute', 7, 6],\n",
    "                 ['Madeleines', 6.5, 3],\n",
    "                 ['Sardines', 4, 5],\n",
    "                 ['Pates', 5, 4]]"
   ]
  },
  {
   "cell_type": "markdown",
   "metadata": {},
   "source": [
    "nous avons les algorithmes de calcul des remises et la liste des courses. Il nous manque un composant qui fera la relation entre les produits et les opérations commerciales.\n",
    "\n",
    "Le dictionnaire suivant permet d'associer une promotion à un produit."
   ]
  },
  {
   "cell_type": "code",
   "execution_count": null,
   "metadata": {},
   "outputs": [],
   "source": [
    "active_promotions = {'Kit Kat': second_half_price,\n",
    "                     'Choucroute': third_free,\n",
    "                     'Madeleines': second_half_price,\n",
    "                     'Sardines': third_free,\n",
    "                     'Pates': third_free}"
   ]
  },
  {
   "cell_type": "markdown",
   "metadata": {},
   "source": [
    "Vous voyez que pour chaque clef produit, le dictionnaire retourne une fonction. Nous pouvons donc itérer sur les éléments de la manière suivante :"
   ]
  },
  {
   "cell_type": "code",
   "execution_count": null,
   "metadata": {},
   "outputs": [],
   "source": [
    "for product, price, quantity in products_list:\n",
    "    print(product, active_promotions[product](price, quantity))"
   ]
  },
  {
   "cell_type": "markdown",
   "metadata": {},
   "source": [
    "## Utilisation des lambdas\n",
    "La liste de promotions suivante ne couvre pas tous les produits. il faut donc une fonction par défaut. Nous pouvons utiliser une lambda et la méthode `get()`."
   ]
  },
  {
   "cell_type": "code",
   "execution_count": null,
   "metadata": {},
   "outputs": [],
   "source": [
    "active_promotions = {'Kit Kat': second_half_price,\n",
    "                     'Madeleines': second_half_price,\n",
    "                     'Pates': third_free}\n",
    "\n",
    "for product, price, quantity in products_list:\n",
    "    print(product, active_promotions.get(product, lambda price, quantity: price * quantity)(price, quantity))"
   ]
  },
  {
   "cell_type": "markdown",
   "metadata": {},
   "source": [
    "## Intégrons ce que nous avons vu…\n",
    "Intégrons ce que nous avons vu jusqu'ici, mettons en forme un joli ticket de caisse.\n",
    "\n",
    "Chaque ligne doit indiquer le produit, la quantité du produit et le prix total pour le produit. Une dernière ligne devra indiquer le total.\n",
    "\n",
    "La mise en forme sera réalisée par 2 *templates* de chaines de caractères. Les numérotations dans le code suivant servent pour les explications."
   ]
  },
  {
   "cell_type": "code",
   "execution_count": null,
   "metadata": {},
   "outputs": [],
   "source": [
    "PRODUCT = \"{:15} (x{:2}) : {:8.2f} €\"\n",
    "SUM = \"Total {:26.2f} €\"\n",
    "\n",
    "for product_entry in products_list:  # (1)\n",
    "    product, price, quantity = product_entry\n",
    "    total_price = active_promotions.get(product,\n",
    "                                        lambda price, quantity: price * quantity)(price, quantity)\n",
    "    product_entry.append(total_price)  #(2)\n",
    "    \n",
    "    print(PRODUCT.format(product,\n",
    "                         quantity,\n",
    "                         total_price))\n",
    "    \n",
    "print(\"-\" * 33)\n",
    "print(SUM.format(sum([p[-1] for p in products_list])))"
   ]
  }
 ],
 "metadata": {
  "kernelspec": {
   "display_name": "Python 3",
   "language": "python",
   "name": "python3"
  },
  "language_info": {
   "codemirror_mode": {
    "name": "ipython",
    "version": 3
   },
   "file_extension": ".py",
   "mimetype": "text/x-python",
   "name": "python",
   "nbconvert_exporter": "python",
   "pygments_lexer": "ipython3",
   "version": "3.8.0"
  }
 },
 "nbformat": 4,
 "nbformat_minor": 2
}
