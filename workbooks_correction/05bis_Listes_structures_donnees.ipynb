{
 "cells": [
  {
   "cell_type": "markdown",
   "metadata": {},
   "source": [
    "# Les listes comme structures de données\n",
    "Les listes peuvent être utilisées pour représenter une donnée complexe. Une formation par exemple ne se limite pas à un nom. Les informations que nous souhaitons conserver par formation sont le titre, la durée (en jours) et le nombre d'inscrits. Ceci peut se représenter par la liste suivante :\n",
    "`[\"Python\", 2, 10]`\n",
    "Nous pourrions gérer la manipulation à la main, mais il y a un risque d'erreur de frappe qui seront difficiles à identifier.\n",
    "\n",
    "Pour gérer les listes sous forme de structures de données, il est nécessaire de créer des fonctions afin faire comprendre la manipulation.\n",
    "\n",
    "Dans la cellule suivante, créez une fonction `create_training` qui prend en paramètre une chaine de caractères pour le titre et deux entiers respectivement pour la durée et le nombre d'inscrits. Ce dernier est optionnel. Cette fonction retourne la liste représentant la formation.\n",
    "\n",
    "Créez ensuite une fonction `add_attendent` qui ajoute la valeur passée en paramètre au nombre d'inscrits."
   ]
  },
  {
   "cell_type": "code",
   "execution_count": 1,
   "metadata": {},
   "outputs": [],
   "source": [
    "def create_training(subject, duration, attendents=0):\n",
    "    return [subject, int(duration), int(attendents)]\n",
    "\n",
    "def add_attendents(training, how_many):\n",
    "    training[-1] += how_many"
   ]
  },
  {
   "cell_type": "markdown",
   "metadata": {},
   "source": [
    "Utilisez ces fonctions ci-dessous pour créer quelques formations."
   ]
  },
  {
   "cell_type": "code",
   "execution_count": null,
   "metadata": {},
   "outputs": [],
   "source": []
  }
 ],
 "metadata": {
  "kernelspec": {
   "display_name": "Python 3",
   "language": "python",
   "name": "python3"
  },
  "language_info": {
   "codemirror_mode": {
    "name": "ipython",
    "version": 3
   },
   "file_extension": ".py",
   "mimetype": "text/x-python",
   "name": "python",
   "nbconvert_exporter": "python",
   "pygments_lexer": "ipython3",
   "version": "3.7.0"
  }
 },
 "nbformat": 4,
 "nbformat_minor": 2
}
