{
 "cells": [
  {
   "cell_type": "markdown",
   "metadata": {},
   "source": [
    "# Les structures de contrôle\n",
    "Les structures de contrôle permettent d'exécuter du code soit\n",
    " - de manière conditionnelle\n",
    " - en boucle\n",
    "\n",
    "Les boucles consistent à définir du code qui sera répété plusieurs fois. Il existe deux structures pour deux cas différents :\n",
    "\n",
    " - La structure `for` permet d'itérer sur des collections.\n",
    "\n",
    " - La structure `while` exécute du code tant qu'une condition est vrai.\n",
    "\n",
    "### Exercices\n",
    "Affichez les entiers de 0 à 15 de 3 en 3 en utilisant la boucle for et la fonction range()"
   ]
  },
  {
   "cell_type": "code",
   "execution_count": null,
   "metadata": {},
   "outputs": [],
   "source": [
    "print(list(range(0, 16, 3)))"
   ]
  },
  {
   "cell_type": "markdown",
   "metadata": {},
   "source": [
    "Affichez chaque caractère d’une chaine en utilisant la boucle for"
   ]
  },
  {
   "cell_type": "code",
   "execution_count": null,
   "metadata": {},
   "outputs": [],
   "source": [
    "CHAR_STRING = \"Chaine de plusieurs mots\"\n",
    "for char in CHAR_STRING:\n",
    "    print(char)"
   ]
  },
  {
   "cell_type": "markdown",
   "metadata": {},
   "source": [
    "Affichez chaque élément d’une liste en utilisant la boucle for"
   ]
  },
  {
   "cell_type": "code",
   "execution_count": null,
   "metadata": {},
   "outputs": [],
   "source": [
    "ELEMENTS_LIST = [\"Liste\", \"de\", \"plusieurs\", \"elements\"]\n",
    "for element in ELEMENTS_LIST:\n",
    "    print(element)"
   ]
  },
  {
   "cell_type": "markdown",
   "metadata": {},
   "source": [
    "N'avez-vous pas l'impression d'avoir écrit (avant de lire ce paragraphe) la même chose ?\n",
    "\n",
    "Reprenez le code d'itération et créez une fonction qui affiche chaque élément d'une séquence qui sera passée en paramètre."
   ]
  },
  {
   "cell_type": "code",
   "execution_count": null,
   "metadata": {},
   "outputs": [],
   "source": [
    "def display_elements(collection):\n",
    "    for element in collection:\n",
    "        print(element)"
   ]
  },
  {
   "cell_type": "markdown",
   "metadata": {},
   "source": [
    "Utilisez maintenant cette fonction pour afficher chaque caractère de `CHAR_STRING`"
   ]
  },
  {
   "cell_type": "code",
   "execution_count": null,
   "metadata": {},
   "outputs": [],
   "source": [
    "display_elements(CHAR_STRING)"
   ]
  },
  {
   "cell_type": "markdown",
   "metadata": {},
   "source": [
    "Utilisez cette fonction pour afficher chaque élément de `ELEMENT_LIST`"
   ]
  },
  {
   "cell_type": "code",
   "execution_count": null,
   "metadata": {},
   "outputs": [],
   "source": [
    "display_elements(ELEMENT_LIST)"
   ]
  },
  {
   "cell_type": "markdown",
   "metadata": {},
   "source": [
    "Utilisez maintenant cette fonction pour afficher chaque mot de `CHAR_STRING`"
   ]
  },
  {
   "cell_type": "code",
   "execution_count": null,
   "metadata": {},
   "outputs": [],
   "source": [
    "display_elements(CHAR_STRING.split())"
   ]
  },
  {
   "cell_type": "markdown",
   "metadata": {},
   "source": [
    "Avez-vous remarqué que vous avez utilisé la même fonction pour des paramètres de types différents ? En Python, le type des données n'est pas important, c'est le principe du Duck Typing qui se résume par :\n",
    "\n",
    "> Si je vois un animal qui vole comme un canard, cancane comme un canard, et nage comme un canard, alors j'appelle cet oiseau un canard"
   ]
  }
 ],
 "metadata": {
  "kernelspec": {
   "display_name": "Python 3",
   "language": "python",
   "name": "python3"
  },
  "language_info": {
   "codemirror_mode": {
    "name": "ipython",
    "version": 3
   },
   "file_extension": ".py",
   "mimetype": "text/x-python",
   "name": "python",
   "nbconvert_exporter": "python",
   "pygments_lexer": "ipython3",
   "version": "3.8.0"
  }
 },
 "nbformat": 4,
 "nbformat_minor": 1
}
