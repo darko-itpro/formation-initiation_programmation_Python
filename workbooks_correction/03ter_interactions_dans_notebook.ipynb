{
 "cells": [
  {
   "cell_type": "markdown",
   "metadata": {},
   "source": [
    "# Notebook d'illustration de traitement de données\n",
    "\n",
    "Ce notebook combine la déclaration de données dans une première cellule et l'utilisation de la fonction `input()` afin de demander à l'utilisateur une information en cours d'exécution.\n",
    "\n",
    "Ce notebook permet de déterminer le nombre de jours de formation en fonction du nombre d'heures et du nombre d'heures travaillées par jour. Si la durée dépasse 5 jours, il faut une confirmation pour programmer la formation.\n",
    "\n",
    "La première cellule déclare le nombre d'heures de la formation."
   ]
  },
  {
   "cell_type": "code",
   "execution_count": null,
   "metadata": {},
   "outputs": [],
   "source": [
    "nombre_heures = 36"
   ]
  },
  {
   "cell_type": "markdown",
   "metadata": {},
   "source": [
    "La ou les cellules suivantes déclarent les instructions nécessaires au traitement. J'ai choisi de séparer la déclaration des fonctions du reste de l'exécution pour une question de lisibilité."
   ]
  },
  {
   "cell_type": "code",
   "execution_count": null,
   "metadata": {},
   "outputs": [],
   "source": [
    "def duree_formation(nombre_heures):\n",
    "    return int(nombre_heures) / 7"
   ]
  },
  {
   "cell_type": "code",
   "execution_count": null,
   "metadata": {},
   "outputs": [],
   "source": [
    "days_for_training = duree_formation(nombre_heures)\n",
    "print(\"la formation va durer {} heures\".format(days_for_training))"
   ]
  },
  {
   "cell_type": "markdown",
   "metadata": {},
   "source": [
    "La cellule suivante (séparée du code précédent pour une facilité de commentaire ;) ) réalise un test et en fonction du résultat, interrompt l'exécution pour demander une information complémentaire à l'utilisateur.\n",
    "\n",
    "Vous pouvez donc exécuter toutes les cellules à partir du menu `Cellule>Exécuter tout`. C'est la manière *naturelle* d'exécution des Notebooks."
   ]
  },
  {
   "cell_type": "code",
   "execution_count": null,
   "metadata": {},
   "outputs": [],
   "source": [
    "if days_for_training > 5:\n",
    "    print(\"Durée suppérieur à 5 jours, continuer quand même sur plus d'une semaine ?\")\n",
    "    answer = input(\"O/n\").lower()\n",
    "    \n",
    "    if answer == \"o\" or len(answer) == 0:\n",
    "        print(\"On continue\")\n",
    "    elif answer == \"n\":\n",
    "        print(\" On s'arrête\")\n",
    "    else:\n",
    "        print(\"Rien compris, je m'arrête au cas où…\")\n",
    "else:\n",
    "    print(\"On continue automatiquement\")"
   ]
  }
 ],
 "metadata": {
  "kernelspec": {
   "display_name": "Python 3",
   "language": "python",
   "name": "python3"
  },
  "language_info": {
   "codemirror_mode": {
    "name": "ipython",
    "version": 3
   },
   "file_extension": ".py",
   "mimetype": "text/x-python",
   "name": "python",
   "nbconvert_exporter": "python",
   "pygments_lexer": "ipython3",
   "version": "3.7.0"
  }
 },
 "nbformat": 4,
 "nbformat_minor": 2
}
