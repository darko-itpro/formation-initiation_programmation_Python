{
 "cells": [
  {
   "cell_type": "markdown",
   "metadata": {},
   "source": [
    "## Les structures de contrôle, exercice avancé.\n",
    "\n",
    "### Conditions multiples\n",
    "Cet exercice reprends l'exercice des conditions multiples, à savoir :\n",
    "\n",
    "On souhaite contrôler un chauffage collectif. On fixe **T_MAX = 26** et **T_MIN = 18**. Demandez la température et simulez le comportement suivant :\n",
    "\n",
    "* Si la température est suppérieur à la température max + 5 degrés, exigez l'extinction.\n",
    "* Si la température est suppérieur à la temérature max, demandez de la diminuer.\n",
    "* Si la température est inférieur à la température limite, demandez de l'augmenter.\n",
    "* Sinon, dites que tout va bien.\n",
    "\n",
    "Pour cet exercice, vous pouvez évidemment reprendre le code précédent. Incluez celui-ci dans une boucle qui répète la question jusqu'à ce que tout va bien ou que l'extinction soit demandée.\n",
    "\n",
    "Complétez le code pour renseigner de quelle température doit être modifié le chauffage."
   ]
  },
  {
   "cell_type": "code",
   "execution_count": null,
   "metadata": {
    "collapsed": true
   },
   "outputs": [],
   "source": []
  }
 ],
 "metadata": {
  "kernelspec": {
   "display_name": "Python 3",
   "language": "python",
   "name": "python3"
  },
  "language_info": {
   "codemirror_mode": {
    "name": "ipython",
    "version": 3
   },
   "file_extension": ".py",
   "mimetype": "text/x-python",
   "name": "python",
   "nbconvert_exporter": "python",
   "pygments_lexer": "ipython3",
   "version": "3.7.0"
  }
 },
 "nbformat": 4,
 "nbformat_minor": 2
}
