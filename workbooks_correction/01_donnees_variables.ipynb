{
 "cells": [
  {
   "cell_type": "markdown",
   "metadata": {},
   "source": [
    "# Découverte du langage\n",
    "## Manipuer des données, les variables\n",
    "La programmation a pour but de manipuler des données. La manipulation la plus simple est le calcul. Les calculs sont réalisés par les opérateurs mathématiques standards.\n",
    "\n",
    "Vous pouvez utiliser des données directement dans les instructions ou les affecter à des variables pour les utiliser *plus tard*. Dans le contexte du notebook, une variable déclarée dans une cellule peut être utilisée dans une autre cellule."
   ]
  },
  {
   "cell_type": "markdown",
   "metadata": {},
   "source": [
    "### Exercices\n",
    "Écrivez dans la cellule suivante la ou les instructions pour **afficher** la somme des valeurs 4 et 3"
   ]
  },
  {
   "cell_type": "code",
   "execution_count": 1,
   "metadata": {
    "tags": []
   },
   "outputs": [
    {
     "name": "stdout",
     "output_type": "stream",
     "text": [
      "7\n"
     ]
    }
   ],
   "source": [
    "print(4 + 3)"
   ]
  },
  {
   "cell_type": "markdown",
   "metadata": {},
   "source": [
    "Sur mon compte PyFlix (c'est un peu comme Netflix, mais en Python), j'ai la première saison de Stranger Code à regarder. Il y a 8 épisodes et chaque épisode fait 45 minutes (c'est du Python, c'est carré…)\n",
    "Affichez dans la cellule suivante ces deux valeurs (durée et nombre d'épisodes). N'affichez que les valeurs, nous verrons la mise en forme plus tard."
   ]
  },
  {
   "cell_type": "code",
   "execution_count": 2,
   "metadata": {
    "tags": []
   },
   "outputs": [
    {
     "name": "stdout",
     "output_type": "stream",
     "text": [
      "45\n",
      "8\n"
     ]
    }
   ],
   "source": [
    "EPISODE_DURATION = 45\n",
    "episodes = 8\n",
    "\n",
    "print(EPISODE_DURATION)\n",
    "print(episodes)"
   ]
  },
  {
   "cell_type": "markdown",
   "metadata": {},
   "source": [
    "Affichez dans la cellule suivante la durée en minutes de la série. Vous devez en effet réutiliser les valeurs affichées précédemment."
   ]
  },
  {
   "cell_type": "code",
   "execution_count": 3,
   "metadata": {
    "tags": []
   },
   "outputs": [
    {
     "name": "stdout",
     "output_type": "stream",
     "text": [
      "360\n"
     ]
    }
   ],
   "source": [
    "print(EPISODE_DURATION * episodes)"
   ]
  },
  {
   "cell_type": "markdown",
   "metadata": {},
   "source": [
    "Nous allons d'ailleurs voir comment un code bien organisé aide à être maintenu : je me suis trompé, il y a 9 épisodes…\n",
    "\n",
    "Corrigez le code pour utiliser cette valeur. Logiquement, vous n'avez d'un caractère à corriger et à réexécuter le code.\n",
    "\n",
    "**Astuce :** plutôt que d'exécuter à nouveau 2 cellules, vous pouvez choisir dans le menu *Cell* l'entrée *All cells* qui exécutera tout le callepin.\n",
    "\n",
    "Une fois que vous avez fait la correction (ne bloquez pas dessus), la variable suivante déclare le nombre d'épisodes qu'il me reste à regarder. Quelle est la durée en minutes ? **Attention au type…**"
   ]
  },
  {
   "cell_type": "code",
   "execution_count": 7,
   "metadata": {
    "tags": []
   },
   "outputs": [
    {
     "name": "stdout",
     "output_type": "stream",
     "text": [
      "135\n"
     ]
    }
   ],
   "source": [
    "remaining_episodes = '3'\n",
    "remaining_episodes = int(remaining_episodes)\n",
    "\n",
    "remaining_duration = remaining_episodes * EPISODE_DURATION\n",
    "\n",
    "print(remaining_duration)"
   ]
  },
  {
   "cell_type": "markdown",
   "metadata": {},
   "source": [
    "Calculez combien cela représente en heures et en minutes (ne vous occupez pas de l'esthétisme de la présentaiton, affichez simplment les valeurs, une par ligne)."
   ]
  },
  {
   "cell_type": "code",
   "execution_count": 5,
   "metadata": {
    "tags": []
   },
   "outputs": [
    {
     "name": "stdout",
     "output_type": "stream",
     "text": [
      "2\n",
      "15\n"
     ]
    }
   ],
   "source": [
    "print(remaining_duration // 60)\n",
    "print(remaining_duration % 60)"
   ]
  },
  {
   "cell_type": "markdown",
   "metadata": {},
   "source": [
    "## Complément\n",
    "Il est possible d'utiliser une fonction *built in* : `divmod()`."
   ]
  },
  {
   "cell_type": "code",
   "execution_count": 6,
   "metadata": {
    "tags": []
   },
   "outputs": [
    {
     "name": "stdout",
     "output_type": "stream",
     "text": [
      "(2, 15)\n"
     ]
    }
   ],
   "source": [
    "print(divmod(remaining_duration, 60))"
   ]
  }
 ],
 "metadata": {
  "kernelspec": {
   "display_name": "Python 3",
   "language": "python",
   "name": "python3"
  },
  "language_info": {
   "codemirror_mode": {
    "name": "ipython",
    "version": 3
   },
   "file_extension": ".py",
   "mimetype": "text/x-python",
   "name": "python",
   "nbconvert_exporter": "python",
   "pygments_lexer": "ipython3",
   "version": "3.8.5"
  }
 },
 "nbformat": 4,
 "nbformat_minor": 1
}
