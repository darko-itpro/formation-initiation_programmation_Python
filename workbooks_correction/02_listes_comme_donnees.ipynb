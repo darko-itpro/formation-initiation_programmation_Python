{
 "cells": [
  {
   "cell_type": "markdown",
   "metadata": {},
   "source": [
    "# Les listes comme données\n",
    "Une liste est une séquence de données. Il est donc possible de l'utiliser pour représenter une données *complexe* représentée par plusieurs informations.\n",
    "\n",
    "Python connait aussi le type *tuple* qui est une séquence immuable. Les tuples se manipulent de manière identique aux listes en ce qui concerne l'accès aux données mais ne peuvent être modifiés.\n",
    "\n",
    "### Exercices\n",
    "Soit la représentation suivante d'un épisode de *Stranger Code*."
   ]
  },
  {
   "cell_type": "code",
   "execution_count": null,
   "metadata": {},
   "outputs": [],
   "source": [
    "episode_1 = ['Installing the softwares', 1, False]"
   ]
  },
  {
   "cell_type": "markdown",
   "metadata": {},
   "source": [
    "Cette liste comporte trois données, la première représente le titre, la seconde le numéro d'épisode et la troisième si je l'ai vu ou non.\n",
    "\n",
    "Affichez le titre de l'épisode"
   ]
  },
  {
   "cell_type": "code",
   "execution_count": null,
   "metadata": {},
   "outputs": [],
   "source": [
    "print(episode_1[0])"
   ]
  },
  {
   "cell_type": "markdown",
   "metadata": {},
   "source": [
    "Affichez si je l'ai vu ou non"
   ]
  },
  {
   "cell_type": "code",
   "execution_count": null,
   "metadata": {},
   "outputs": [],
   "source": [
    "print(episode_1[2])"
   ]
  },
  {
   "cell_type": "markdown",
   "metadata": {},
   "source": [
    "Si ce n'est fait, utilisez une écriture plus *lisible* pour manipuler les données du titre, numéro et vu. Affichez ainsi ces informations."
   ]
  },
  {
   "cell_type": "code",
   "execution_count": null,
   "metadata": {},
   "outputs": [],
   "source": [
    "title, number, viewed = episode_1\n",
    "\n",
    "print(title)\n",
    "print(number)\n",
    "print(viewed)"
   ]
  },
  {
   "cell_type": "markdown",
   "metadata": {},
   "source": [
    "## Complément\n",
    "La fonction `print()` peut prendre plusieurs données qu'elle affiche à la suite sur la ligne, séparées par un espace."
   ]
  },
  {
   "cell_type": "code",
   "execution_count": null,
   "metadata": {},
   "outputs": [],
   "source": [
    "print(title, number, viewed)"
   ]
  },
  {
   "cell_type": "code",
   "execution_count": null,
   "metadata": {},
   "outputs": [],
   "source": [
    "print(\"titre  :\", title)\n",
    "print(\"numéro :\", number)\n",
    "print(\"vu     :\", viewed)"
   ]
  },
  {
   "cell_type": "code",
   "execution_count": null,
   "metadata": {},
   "outputs": [],
   "source": []
  }
 ],
 "metadata": {
  "kernelspec": {
   "display_name": "Python 3",
   "language": "python",
   "name": "python3"
  },
  "language_info": {
   "codemirror_mode": {
    "name": "ipython",
    "version": 3
   },
   "file_extension": ".py",
   "mimetype": "text/x-python",
   "name": "python",
   "nbconvert_exporter": "python",
   "pygments_lexer": "ipython3",
   "version": "3.8.5"
  }
 },
 "nbformat": 4,
 "nbformat_minor": 4
}
