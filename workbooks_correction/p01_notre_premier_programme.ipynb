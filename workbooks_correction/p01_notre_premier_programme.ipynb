{
 "cells": [
  {
   "cell_type": "markdown",
   "metadata": {},
   "source": [
    "# Notre premier programme\n",
    "Le calepin nous a permi de découvrir comment écrire des instructions. C'est déjà un programme, mais nous attendons d'un programme de pouvoir l'exécuter plusieurs fois avec des paramètres différents. Nous pouvons utiliser les calepins pour créer des programmes.\n",
    "\n",
    "Nous allons devoir commencer par déclarer des variables. Déclarez dans la cellule suivante une constante `DAILY_DURATION` et affectez-y une valeur. Déclarez une variable `days` et affectez-y une valeur."
   ]
  },
  {
   "cell_type": "code",
   "execution_count": 1,
   "metadata": {},
   "outputs": [],
   "source": [
    "DAILY_DURATION = 7\n",
    "days = 3"
   ]
  },
  {
   "cell_type": "markdown",
   "metadata": {},
   "source": [
    "Dans la cellule suivante, écrivez le code qui permet de calculer la durée en heures d'une formation. Récupérez cette valeur dans une variable.\n",
    "\n",
    "**Attention** : n'oubliez pas que les valeurs saisies dans la cellule précédente ne sont pas forcément du bon type…"
   ]
  },
  {
   "cell_type": "code",
   "execution_count": 2,
   "metadata": {},
   "outputs": [],
   "source": [
    "duration = DAILY_DURATION * int(days)"
   ]
  },
  {
   "cell_type": "markdown",
   "metadata": {},
   "source": [
    "L'utilisateur du programme attends maintenant que le resultat lui soit affiché. Mais il attends une certaine mise en forme, par exemple : \n",
    "\n",
    "```\n",
    "Durée en heures : 42\n",
    "```\n",
    "\n",
    "Dans le cadre du Notebook, le plus simple est d'utiliser une propriété de la fonction `print()`. En effet, la fonction peut prendre plusieurs paramètres et les afficher à la suite sur la même ligne. Ces différents paramètres n'ont pas à être du même type. Ainsi, on peut écrire :\n",
    "\n",
    "```python\n",
    "print(\"Durée en heures :\", 42)\n",
    "```\n",
    "\n",
    "Écrivez le code pour afficher l'information."
   ]
  },
  {
   "cell_type": "code",
   "execution_count": 4,
   "metadata": {},
   "outputs": [
    {
     "name": "stdout",
     "output_type": "stream",
     "text": [
      "Durée en heures : 21\n"
     ]
    }
   ],
   "source": [
    "print(\"Durée en heures :\", duration)"
   ]
  }
 ],
 "metadata": {
  "kernelspec": {
   "display_name": "Python 3",
   "language": "python",
   "name": "python3"
  },
  "language_info": {
   "codemirror_mode": {
    "name": "ipython",
    "version": 3
   },
   "file_extension": ".py",
   "mimetype": "text/x-python",
   "name": "python",
   "nbconvert_exporter": "python",
   "pygments_lexer": "ipython3",
   "version": "3.8.0"
  }
 },
 "nbformat": 4,
 "nbformat_minor": 2
}
