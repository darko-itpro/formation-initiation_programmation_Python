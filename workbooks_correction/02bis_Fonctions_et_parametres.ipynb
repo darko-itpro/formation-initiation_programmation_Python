{
 "cells": [
  {
   "cell_type": "markdown",
   "metadata": {},
   "source": [
    "# Fonctions et paramètres optionnels\n",
    "En Python, une fonction peut avoir un paramère optionnel. Un paramètre optionnel est un paramètre pour lequel l'appelant n'est pas obligé de fournir une donnée. Lors de l'exécution de la fonction, l'interpréteur utilisera le paramètre *par défaut* (au sens premier du terme) renseigné dans la déclaration.\n",
    "\n",
    "Nous avons donc le fonctionnement suivant :"
   ]
  },
  {
   "cell_type": "code",
   "execution_count": null,
   "metadata": {},
   "outputs": [],
   "source": [
    "def say_hello(who=\"World\"):\n",
    "    print(\"Hello\", who)"
   ]
  },
  {
   "cell_type": "code",
   "execution_count": null,
   "metadata": {},
   "outputs": [],
   "source": [
    "say_hello('Me')\n",
    "say_hello()"
   ]
  },
  {
   "cell_type": "markdown",
   "metadata": {},
   "source": [
    "Vous pouvez lors de l'appel d'une fonction déclarer un paramètre par son nom. Ceci esr utile lorsqu'il y a plusieurs paramètres optionnels et que vous souhaitez en modifier un en particulier ou pour améliorer la lisibilité."
   ]
  },
  {
   "cell_type": "code",
   "execution_count": null,
   "metadata": {},
   "outputs": [],
   "source": [
    "say_hello(who=\"Me\")"
   ]
  },
  {
   "cell_type": "markdown",
   "metadata": {},
   "source": [
    "## Exercices\n",
    "Dans la cellule suivante, nous allons généraliser la fonction de calcul de durée totale.\n",
    "\n",
    "Écrivez une fonction `duration_for` qui prend en paramètre une durée et possède un second paramètre qui représentant la durée unitaire. Ce second paramètre sera optionnel avec une valeur par défaut de 7."
   ]
  },
  {
   "cell_type": "code",
   "execution_count": null,
   "metadata": {},
   "outputs": [],
   "source": [
    "def duration_for(how_many, unit_duration=7):\n",
    "    return int(how_many) * int(unit_duration)"
   ]
  },
  {
   "cell_type": "markdown",
   "metadata": {},
   "source": [
    "Notez que cette fonction, bien qu'elle s'appelle **duration_for**, n'impose aucune unité. Cette unité sera définie par le contexte d'utilisation.\n",
    "\n",
    "Dans la cellule suivante :\n",
    " - utilisez cette fonction pour calculer et afficher la durée en heure d'une formation de 5 jour (durée par défaut).\n",
    " - utilisez cette fonction pour calculer et afficher la durée en minutes d'une journée de cours ayant 5 cours de 50 minutes.\n",
    " - utilisez cette fonction pour calculer et afficher la durée en minutes du binge-watching de mes 4 épisodes restants de The Witcher de 45 minutes."
   ]
  },
  {
   "cell_type": "code",
   "execution_count": null,
   "metadata": {},
   "outputs": [],
   "source": [
    "print(duration_for(5))\n",
    "print(duration_for(5, 50))\n",
    "print(duration_for(4, 45))\n",
    "# Ou\n",
    "print(duration_for(4, unit_duration=45))\n",
    "print(duration_for(5, unit_duration=50))"
   ]
  },
  {
   "cell_type": "markdown",
   "metadata": {},
   "source": [
    "Vous voyez que nous pouvons utiliser cette fonction dans différents contextes. La prochaine étape consistera à la rendre disponible pour l'utiliser dans différents programmes."
   ]
  }
 ],
 "metadata": {
  "kernelspec": {
   "display_name": "Python 3",
   "language": "python",
   "name": "python3"
  },
  "language_info": {
   "codemirror_mode": {
    "name": "ipython",
    "version": 3
   },
   "file_extension": ".py",
   "mimetype": "text/x-python",
   "name": "python",
   "nbconvert_exporter": "python",
   "pygments_lexer": "ipython3",
   "version": "3.7.0"
  }
 },
 "nbformat": 4,
 "nbformat_minor": 2
}
