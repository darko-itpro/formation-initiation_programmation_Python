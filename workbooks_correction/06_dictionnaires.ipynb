{
 "cells": [
  {
   "cell_type": "markdown",
   "metadata": {},
   "source": [
    "## Les collections\n",
    "Les collections sont des types de données qui contiennent plusieurs données. Nous avons vu :\n",
    " * les chaines de caractères (`str`)\n",
    " * les listes (`list`)\n",
    " * les tuples (`tuple`)\n",
    " * les dictionnaires (`dict`)\n",
    "\n",
    "Les Dictionnairs (`dict`) sont des collections non ordonnées de couples clef-valeur.\n",
    "\n",
    "### Exercices - dictionnaires\n",
    "Les questions suivantes vont vous faire manipuler les instructions principales.\n",
    "\n",
    "La cellule suivante crée un dictionnaire vide."
   ]
  },
  {
   "cell_type": "code",
   "execution_count": null,
   "metadata": {},
   "outputs": [],
   "source": [
    "training = {}"
   ]
  },
  {
   "cell_type": "markdown",
   "metadata": {},
   "source": [
    "Ajoutez une clef `subject` avec la valeur `Python`"
   ]
  },
  {
   "cell_type": "code",
   "execution_count": null,
   "metadata": {},
   "outputs": [],
   "source": [
    "training[\"subject\"] = \"Python\""
   ]
  },
  {
   "cell_type": "markdown",
   "metadata": {},
   "source": [
    "Ajoutez une clef `duration` avec la valeur correspondant au nombre de jours de formation (ce nombre de jours est un entier"
   ]
  },
  {
   "cell_type": "code",
   "execution_count": null,
   "metadata": {},
   "outputs": [],
   "source": [
    "training[\"duration\"] = 2"
   ]
  },
  {
   "cell_type": "markdown",
   "metadata": {},
   "source": [
    "Affichez si la clef `attendents` existe (l'instruction doit afficher `True` ou `False`)"
   ]
  },
  {
   "cell_type": "code",
   "execution_count": null,
   "metadata": {},
   "outputs": [],
   "source": [
    "print(\"attendents\" in training)"
   ]
  },
  {
   "cell_type": "markdown",
   "metadata": {},
   "source": [
    "Créez la clef `attendents` et affectez lui une valeur correspondant au nombre de stagiaires."
   ]
  },
  {
   "cell_type": "code",
   "execution_count": null,
   "metadata": {},
   "outputs": [],
   "source": [
    "training[\"attendents\"] = 6"
   ]
  },
  {
   "cell_type": "markdown",
   "metadata": {},
   "source": [
    "Affichez la liste des clefs"
   ]
  },
  {
   "cell_type": "code",
   "execution_count": null,
   "metadata": {},
   "outputs": [],
   "source": [
    "print(list(training))"
   ]
  },
  {
   "cell_type": "markdown",
   "metadata": {},
   "source": [
    "Modifiez la clef `attendents` pour que la valeur associée soit incrémentée de 2. **Attention**, n'affectez pas une nouvelle valeur mais la valeur actuelle incrémentée de 2."
   ]
  },
  {
   "cell_type": "code",
   "execution_count": null,
   "metadata": {},
   "outputs": [],
   "source": [
    "training[\"attendents\"] += 2"
   ]
  },
  {
   "cell_type": "markdown",
   "metadata": {},
   "source": [
    "Créez une nouvelle formation avec le sujet et la durée de votre choix."
   ]
  },
  {
   "cell_type": "code",
   "execution_count": null,
   "metadata": {},
   "outputs": [],
   "source": [
    "new_training = dict(subject='Pandas', duration=4)"
   ]
  },
  {
   "cell_type": "markdown",
   "metadata": {},
   "source": [
    "Testez ci-dessous si la clef `attendents` existe dans cette formation. Si elle n'existe pas, créez la et affectez lui une valeur correspondant au nombre de stagiaires. Sinon, incrémentez cette la valeur associée de 2.\n",
    "\n",
    "Affichez ensuite ce dictionnaire.\n",
    "\n",
    "Exécutez cette cellule plusieurs fois."
   ]
  },
  {
   "cell_type": "code",
   "execution_count": null,
   "metadata": {},
   "outputs": [],
   "source": [
    "if \"attendents\" not in new_training:\n",
    "    new_training['attendents'] = 6\n",
    "else:\n",
    "    new_training['attendents'] += 2\n",
    "    \n",
    "print(new_training)"
   ]
  },
  {
   "cell_type": "markdown",
   "metadata": {},
   "source": [
    "## Avec des fonctions\n",
    "Le dictionnaire créé précédemment sert à manipuler des données. Mais si vous gérez à la main les affectations de données, donc la création des clefs, vous courrez un risque d'erreurs suite à des fautes de frappe que vous ne pourrez pas détecter facilement. Pour éviter ce type d'erreurs, il est préférable d'encapsuler la logique dans des fonctions.\n",
    "\n",
    "Proposez les fonctions dans ce contexte."
   ]
  },
  {
   "cell_type": "code",
   "execution_count": null,
   "metadata": {},
   "outputs": [],
   "source": [
    "def create_training(name:str):\n",
    "    return dict(subject=name)\n",
    "\n",
    "def set_duration(training:dict, duration:int):\n",
    "    training['duration'] = int(duration)\n",
    "    \n",
    "def add_attendents(training:dict, how_many:int):\n",
    "    training['attendents'] = training.get('attendents', 0) + how_many"
   ]
  },
  {
   "cell_type": "code",
   "execution_count": null,
   "metadata": {},
   "outputs": [],
   "source": [
    "new_training = create_training('Inititation programmation')\n",
    "set_duration(new_training, 2)\n",
    "add_attendents(new_training, 4)\n",
    "print(new_training)\n",
    "add_attendents(new_training, 2)\n",
    "print(new_training)"
   ]
  }
 ],
 "metadata": {
  "kernelspec": {
   "display_name": "Python 3",
   "language": "python",
   "name": "python3"
  },
  "language_info": {
   "codemirror_mode": {
    "name": "ipython",
    "version": 3
   },
   "file_extension": ".py",
   "mimetype": "text/x-python",
   "name": "python",
   "nbconvert_exporter": "python",
   "pygments_lexer": "ipython3",
   "version": "3.7.0"
  }
 },
 "nbformat": 4,
 "nbformat_minor": 2
}
