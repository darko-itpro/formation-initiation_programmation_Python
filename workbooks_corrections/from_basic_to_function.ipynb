{
 "cells": [
  {
   "cell_type": "markdown",
   "metadata": {},
   "source": [
    "### Exercice\n",
    "Affectez la valeur de **152** à la variable `duration`."
   ]
  },
  {
   "cell_type": "code",
   "execution_count": null,
   "metadata": {},
   "outputs": [],
   "source": [
    "duration = 152"
   ]
  },
  {
   "cell_type": "markdown",
   "metadata": {},
   "source": [
    "Calculez dans la cellule suivante la durée en heure et minutes de la durée précédente."
   ]
  },
  {
   "cell_type": "code",
   "execution_count": null,
   "metadata": {},
   "outputs": [],
   "source": [
    "hours, minutes = divmod(152, 60)"
   ]
  },
  {
   "cell_type": "markdown",
   "metadata": {},
   "source": [
    "Créez une liste contenant la donnée `\"Harry Potter and the Sorcerer's Stone\"` et `152` affectée à la variable `media`."
   ]
  },
  {
   "cell_type": "code",
   "execution_count": 1,
   "metadata": {},
   "outputs": [],
   "source": [
    "media = [\"Harry Potter and the Sorcerer's Stone\", 152]"
   ]
  },
  {
   "cell_type": "markdown",
   "metadata": {},
   "source": [
    "Demandez à l'utiilsateur de saisir un titre de film puis sa durée en minutes. Stockez ces deux données dans une liste affectée à la variable `media`."
   ]
  },
  {
   "cell_type": "code",
   "execution_count": 2,
   "metadata": {},
   "outputs": [
    {
     "name": "stdout",
     "output_type": "stream",
     "text": [
      "Titre de votre film : Harry Potter\n",
      "Durée en minutes de votre film : 150\n"
     ]
    }
   ],
   "source": [
    "title = str(input(\"Titre de votre film : \"))\n",
    "duration = int(input(\"Durée en minutes de votre film : \"))\n",
    "\n",
    "media = [title, duration]"
   ]
  },
  {
   "cell_type": "markdown",
   "metadata": {},
   "source": [
    "Écrivez une boucle avec l'instruction `while` qui demande à l'utilisateur un titre de film et sa durée jusqu'à une _saisie vide_. Les titres et durée sont ajoutés sous forme d'une liste de 2 éléments à une liste référencée par la variable `medias`."
   ]
  },
  {
   "cell_type": "code",
   "execution_count": 3,
   "metadata": {},
   "outputs": [
    {
     "name": "stdout",
     "output_type": "stream",
     "text": [
      "Titre de votre film : Dirty Harry\n",
      "Durée en minutes de votre film : 150\n",
      "Titre de votre film : Harry Potter\n",
      "Durée en minutes de votre film : 156\n",
      "Titre de votre film : \n",
      "Ok\n",
      "[['Dirty Harry', 150], ['Harry Potter', 156]]\n"
     ]
    }
   ],
   "source": [
    "medias = []\n",
    "\n",
    "while True:\n",
    "    title = str(input(\"Titre de votre film : \"))\n",
    "    if not title:\n",
    "        break\n",
    "        \n",
    "    duration = int(input(\"Durée en minutes de votre film : \"))\n",
    "    \n",
    "    medias.append([title, duration])\n",
    "    \n",
    "print(\"Ok\")\n",
    "print(medias)"
   ]
  },
  {
   "cell_type": "code",
   "execution_count": null,
   "metadata": {},
   "outputs": [],
   "source": []
  }
 ],
 "metadata": {
  "kernelspec": {
   "display_name": "Python 3",
   "language": "python",
   "name": "python3"
  },
  "language_info": {
   "codemirror_mode": {
    "name": "ipython",
    "version": 3
   },
   "file_extension": ".py",
   "mimetype": "text/x-python",
   "name": "python",
   "nbconvert_exporter": "python",
   "pygments_lexer": "ipython3",
   "version": "3.7.0"
  }
 },
 "nbformat": 4,
 "nbformat_minor": 2
}
