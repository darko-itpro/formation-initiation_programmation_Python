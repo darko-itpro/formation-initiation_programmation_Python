{
 "cells": [
  {
   "cell_type": "markdown",
   "metadata": {
    "collapsed": true
   },
   "source": [
    "# Découvrir Python\n",
    "\n",
    "Bienvenu dans la session d'initiation à la programmation avec Python. Ceci est un document [Jupyter Notebook](http://jupyter.org/index.html). Il s'agit d'un des outils qui rend le langage Python un des langages les plus adaptés à l'enseigement de la programmation.\n",
    "\n",
    "Un notebook est un document (web) interractif. Vous écrivez et exécutez du code dans les cellules prévues à cet effet.\n",
    "\n",
    "Un *Notebook* est un document composé de **cellules**. Certaines cellules, comme celle-ci, contiennet du texte mis en forme. Ces cellules fournissent des informations. La cellule suivante contient une instruction affichant une chaine de caractères. Vous pouvez l'exécuter après l'avoir sélectionné et soit cliquer sur le bouton Run, soit utiliser le raccourci clavier `shift` + `enter`."
   ]
  },
  {
   "cell_type": "code",
   "execution_count": null,
   "metadata": {},
   "outputs": [],
   "source": [
    "print(\"Hello le monde\")"
   ]
  },
  {
   "cell_type": "markdown",
   "metadata": {
    "collapsed": true
   },
   "source": [
    "Si tout s'est bien passé, la phrase `Hello le monde` s'est affichée sous la cellule précédente.\n",
    "\n",
    "Vous pouvez modifier la cellule précédente et l'exécuter à nouveau.\n",
    "\n",
    "Vous pouvez voir un *Notebook Jupyter* comme un cahier d'exercices qui mèle documentation et cas pratique."
   ]
  },
  {
   "cell_type": "markdown",
   "metadata": {},
   "source": [
    "## Données et variables\n",
    "La programmation permet de manipuler des données. "
   ]
  },
  {
   "cell_type": "code",
   "execution_count": 1,
   "metadata": {},
   "outputs": [
    {
     "name": "stdout",
     "output_type": "stream",
     "text": [
      "Python a été créé en 1989\n"
     ]
    }
   ],
   "source": [
    "tp_name = \"Python\"\n",
    "tp_year = 1989\n",
    "print(tp_name + \" a été créé en \" + str(tp_year))"
   ]
  },
  {
   "cell_type": "markdown",
   "metadata": {},
   "source": [
    "Dans un même Notebook, les variables, fonctions ou classes déclarées dans une cellule sont disponibles dans les cellules suivantes."
   ]
  },
  {
   "cell_type": "code",
   "execution_count": 2,
   "metadata": {},
   "outputs": [
    {
     "name": "stdout",
     "output_type": "stream",
     "text": [
      "Python a bien été créé en 1989\n"
     ]
    }
   ],
   "source": [
    "print(tp_name + \" a bien été créé en \" + str(tp_year))"
   ]
  },
  {
   "cell_type": "markdown",
   "metadata": {},
   "source": [
    "**Attention** pour que les références déclarées dans les cellules précédentes soient effectivement connues du notebook, les cellules doivent avoir été exécutées au moins une fois dans la session active (depuis que vous avez exécuté le Notebook). Un Notebook enregistre un état. Lorsque vous découvrez ce Notebook, les cellules précédentes ont été exécutées dans une session précédente, le résultat a été affiché et l'état sauvegardé. Les variables `tp_name` et `tp_year` ne sont pas connues dans la session actuelle. Il faut donc exécuter à nouveau les cellules.\n",
    "\n",
    "Quelques exercices définiront des structures dans des cellules, assurez-vous soit de les exécuter avant les votres, soit, en ayant sélectionné votre cellule, dans le menu *cell* de la page, choisissez *Run All Above*.\n",
    "\n",
    "Considérez réellement ces Notebooks comme des cahiers d'exercice mais n'oubliez pas, comme il vous a été présenté, que les instructions Python peuvent aussi s'exécuter dans un terminal intéractif. N'hésitez pas à utiliser conjointement les deux environnements.\n",
    "\n",
    "Je vous propose pour commencer et suivre la formation un [premier notebook libre](http://localhost:8888/notebooks/00_free_notebook.ipynb). Rappelez-vous que vous pouvez créer autant de notebooks que vous le souhaitez.\n",
    "\n",
    "Je vous propose les notebooks suivants. Les 3 premiers suivent la présentation de la formation et vous proposent les exercices associés aux concepts présentés. Le dernier est une synthèse de ce qui vous a été présenté.\n",
    "* [Les bases](http://localhost:8888/notebooks/workbooks/01_bases_part_1.ipynb)\n",
    "* [Les structures de contrôle](http://localhost:8888/notebooks/workbooks/02_Structures_controle.ipynb)\n",
    "* [Les fonctions](http://localhost:8888/notebooks/workbooks/03_Fonctions.ipynb)\n"
   ]
  },
  {
   "cell_type": "code",
   "execution_count": null,
   "metadata": {},
   "outputs": [],
   "source": []
  }
 ],
 "metadata": {
  "kernelspec": {
   "display_name": "Python 3",
   "language": "python",
   "name": "python3"
  },
  "language_info": {
   "codemirror_mode": {
    "name": "ipython",
    "version": 3
   },
   "file_extension": ".py",
   "mimetype": "text/x-python",
   "name": "python",
   "nbconvert_exporter": "python",
   "pygments_lexer": "ipython3",
   "version": "3.7.0"
  }
 },
 "nbformat": 4,
 "nbformat_minor": 1
}
