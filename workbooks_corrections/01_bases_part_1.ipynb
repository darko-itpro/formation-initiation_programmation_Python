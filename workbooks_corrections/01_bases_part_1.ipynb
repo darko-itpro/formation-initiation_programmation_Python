{
 "cells": [
  {
   "cell_type": "markdown",
   "metadata": {},
   "source": [
    "# Découverte du langage\n",
    "## Manipuer des données, les variables\n",
    "La programmation a pour but de manipuler des données. Un type courant de manipulation de données est le calcul. Les calculs sont réalisés par les opérateurs mathématiques standards.\n",
    "\n",
    "La cellule suivante contient une instruction qui additionne deux valeurs. Vous pouvez exécuter cette cellule et voir un affichage."
   ]
  },
  {
   "cell_type": "code",
   "execution_count": null,
   "metadata": {},
   "outputs": [],
   "source": [
    "3 + 5"
   ]
  },
  {
   "cell_type": "markdown",
   "metadata": {},
   "source": [
    "*Programmer* consiste à formuler des instructions explicites. Chaque instruction fait une tâche et une seule. L'addition additionne les deux valeurs. L'opérateur d'addition n'est pas une instruction d'affichage. Ceci est démontré par la cellule suivante. Exécutez la."
   ]
  },
  {
   "cell_type": "code",
   "execution_count": null,
   "metadata": {},
   "outputs": [],
   "source": [
    "3 + 5\n",
    "3 * 5"
   ]
  },
  {
   "cell_type": "markdown",
   "metadata": {},
   "source": [
    "Les Notebooks ont un comportement particulier, ils *affichent* le **retour** de la dernière instruction d'une cellule.\n",
    "Il estiste une instruction d'affichage, la fonction `print()`. Éxécutez la ligne suivante."
   ]
  },
  {
   "cell_type": "code",
   "execution_count": null,
   "metadata": {},
   "outputs": [],
   "source": [
    "print(\"Hello world\")"
   ]
  },
  {
   "cell_type": "markdown",
   "metadata": {},
   "source": [
    "Vous voyez que ce qui est affiché est différent de la cellule précédente.\n",
    "**Ceci est une particularité d'iPython** (les Jupyter Notebooks sont exécutés sur un iPython). IPython *affiche* le retour de la dernière instruction. Mais à nouveau, il ne s'agit pas d'une instruction d'affichage.\n",
    "\n",
    "Il est important de toujours avoir à l'esprit qu'une instruction :\n",
    " * fait quelque chose\n",
    " * retourne quelque chose\n",
    " \n",
    "L'addition **additionne** les deux valeurs et **retourne** le résultat de cette addition.\n",
    "\n",
    "La fonction `print()` **affiche la donnée passée en paramètre** et **ne retourne *rien***.\n",
    "\n",
    "Une instruction retourne une donnée (même *rien* est une donnée représentée par la donnée `None`). Cette donnée peut être immédiatement utilisée"
   ]
  },
  {
   "cell_type": "code",
   "execution_count": null,
   "metadata": {},
   "outputs": [],
   "source": [
    "print(3 + 5)"
   ]
  },
  {
   "cell_type": "markdown",
   "metadata": {},
   "source": [
    "Pour l'utiliser *plus tard*, il faut *se rappeler* de cette valeur. Pour cela, nous l'affections à une variable. L'affectation à une variabel est réalisée par l'opérateur d'affectation `=`."
   ]
  },
  {
   "cell_type": "code",
   "execution_count": null,
   "metadata": {},
   "outputs": [],
   "source": [
    "somme = 3 + 5"
   ]
  },
  {
   "cell_type": "markdown",
   "metadata": {},
   "source": [
    "Nous avons vu que lorsqu'une donnée est affectée à une variable en Python, nous ne déclarons pas de type. Le type est déduit en fonction de la valeur affectée à la variable.\n",
    "```python\n",
    "name = \"Python\"\n",
    "year = 1989\n",
    "```\n",
    "Ici, `name` contient une donnée de type chaine de caractères (`str`) et `year` une donnée de type entier (`int`). Vous pouvez vérifier ceci par la fonction `type(name)`.\n",
    "\n",
    "Grâce à des fonctions, on peut transtyper une valeur. Dans l'exemple suivant, `year` référence une valeur de type entier bien que la donnée initiale soit du type chaine de caractères\n",
    "```python\n",
    "year = int(\"1989\")\n",
    "```\n",
    "\n",
    "Dans les Jupyter Notebooks, des variables déclarées dans une cellule (qui a été exécutée) sont disponibles pour les autres cellules du Notebook. Nous allons voir ceci avec le premier exercice.\n",
    "\n",
    "### Exercices\n",
    "Affectez les valeurs **6.892** et **19.7** aux variables `temps` (secondes) et `distance` (mètres) dans la cellule ci-dessous et exécutez-la."
   ]
  },
  {
   "cell_type": "code",
   "execution_count": null,
   "metadata": {},
   "outputs": [],
   "source": [
    "temps = 6.892\n",
    "distance = 19.7"
   ]
  },
  {
   "cell_type": "markdown",
   "metadata": {},
   "source": [
    "Calculez et affichez la valeur de la vitesse (qui sera donc en m/s) à l'aide des deux variables précédentes dans la cellule suivante."
   ]
  },
  {
   "cell_type": "code",
   "execution_count": null,
   "metadata": {},
   "outputs": [],
   "source": [
    "print(distance / temps)"
   ]
  },
  {
   "cell_type": "markdown",
   "metadata": {},
   "source": [
    "La cellule suivante déclare une variable `duree_heure`. Affectez à une variable `nombre_jours` une valeur correspondant au nombre de jours de formation. Multipliez les deux variables pour obtenir la durée en heure de la formation. **Attention au type…**"
   ]
  },
  {
   "cell_type": "code",
   "execution_count": null,
   "metadata": {},
   "outputs": [],
   "source": [
    "duree_heure = \"7\"\n",
    "nombre_jours = 2\n",
    "\n",
    "print(nombre_jours * int(duree_heure))"
   ]
  }
 ],
 "metadata": {
  "kernelspec": {
   "display_name": "Python 3",
   "language": "python",
   "name": "python3"
  },
  "language_info": {
   "codemirror_mode": {
    "name": "ipython",
    "version": 3
   },
   "file_extension": ".py",
   "mimetype": "text/x-python",
   "name": "python",
   "nbconvert_exporter": "python",
   "pygments_lexer": "ipython3",
   "version": "3.7.0"
  }
 },
 "nbformat": 4,
 "nbformat_minor": 1
}
