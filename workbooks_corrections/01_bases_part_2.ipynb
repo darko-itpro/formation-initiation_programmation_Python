{
 "cells": [
  {
   "cell_type": "markdown",
   "metadata": {},
   "source": [
    "## Saisie de l'utilisateur\n",
    "La fonction input permet de demander à l'utilisateur de saisir une donnée. La fonction input retourne une donnée de type chaine de caractères. Pensez donc à la transtyper au besoin.\n",
    "```python\n",
    "name = input('Quel est votre langage favori ? ')\n",
    "print(name)\n",
    "year = int(input('Quand a-t-il été créé ? ')\n",
    "print(year)\n",
    "```\n",
    "### Exercices\n",
    "La fonction `input` fonctionne dans un notebook Jupyter. Testez la ci-dessous en demandant le nom et l’âge puis en affichant ces données. Rappelez-vous que la fonction `print` peut avoir plusieurs arguments qu'elle affichera à la suite. Vous pouvez donc l'utiliser comme\n",
    "```python\n",
    "print(name, year)\n",
    "```\n",
    "Pensez à choisir des noms cohérents pour vos variables."
   ]
  },
  {
   "cell_type": "code",
   "execution_count": null,
   "metadata": {},
   "outputs": [],
   "source": [
    "name = input(\"Quel est votre nom ? \")\n",
    "age = int(input(\"Quel est votre âge ? \"))\n",
    "\n",
    "print(name, age)"
   ]
  },
  {
   "cell_type": "markdown",
   "metadata": {},
   "source": [
    "Affichez de nouveau ces données mais avec l'âge en nombre de mois."
   ]
  },
  {
   "cell_type": "code",
   "execution_count": null,
   "metadata": {},
   "outputs": [],
   "source": [
    "print(name, age * 12)"
   ]
  },
  {
   "cell_type": "markdown",
   "metadata": {},
   "source": [
    "## Mise en forme de chaines de caractères\n",
    "L'affichage précédent est limité dans sa mise en forme. L'outil le plus efficace est la méthode `format()` des chaines de caractères :\n",
    "```python\n",
    "pref_string = \"Mon langage favori est {}\"\n",
    "print(pref_string.format(name))\n",
    "```\n",
    "Les accolades permettent de mettre en forme les données à afficher. Le microlangage étant assez complexe, je vous invite à consulter [la documentation](https://docs.python.org/3.6/library/string.html#format-string-syntax) pour les fonctionnalités exhaustives.\n",
    "\n",
    "On retiendra les plus courantes :\n",
    " * `{1}` permet d'afficher le second élément de la liste des données.\n",
    " * `{:.2f}` permet d'afficher la donnée sous forme de réel avec deux chiffres après la virgule\n",
    " * `{:10}` réserve 10 espaces pour afficher la donnée\n",
    " * `{:10.2f}` réserve 10 espaces pour afficher un réel avec deux chiffres après la virgule\n",
    " * `{1:10.2f}` réserve 10 espaces pour afficher sous forme de réel avec deux chiffres après la virgule le second élément de la liste des données\n",
    "### Exercices\n",
    "Reprenons l'exercice sur la vitesse calculée précédemment et améliorons l'affichage en imposant deux chiffres après le point décimal."
   ]
  },
  {
   "cell_type": "code",
   "execution_count": null,
   "metadata": {},
   "outputs": [],
   "source": [
    "temps = 6.892\n",
    "distance = 19.7\n",
    "\n",
    "print(\":.2F\".format(distance / temps))"
   ]
  },
  {
   "cell_type": "markdown",
   "metadata": {
    "collapsed": true
   },
   "source": [
    "Affichez une phrase mettant en forme les noms et âge ( exemple : `Yoda a 800 ans` ) en utilisant les données saisies précédemment (n'oubliez pas que les variables affectées précédemment sont accessibles dans cette cellule)."
   ]
  },
  {
   "cell_type": "code",
   "execution_count": null,
   "metadata": {},
   "outputs": [],
   "source": [
    "print(\"{} a {} ans\".format(name, age))"
   ]
  },
  {
   "cell_type": "markdown",
   "metadata": {},
   "source": [
    "## Opérations sur données\n",
    "Nous allons maintenant combiner traitement de données et affichage.\n",
    "### Exercices\n",
    "Il me reste 3 épisodes de 53 minutes de Jessica Jones à regarder.\n",
    " * Combien de temps (en heures et minutes) cela représente-t-il ?\n",
    " * Sachant qu'il est 20h42, quelle sera l'heure de fin si je les regarde à la suite ?\n",
    "Affichez ces deux résultats à l'aide des templates suivants."
   ]
  },
  {
   "cell_type": "code",
   "execution_count": null,
   "metadata": {},
   "outputs": [],
   "source": [
    "TIME_REMAINING = 'Il reste {}h{} à visionner.'\n",
    "END_HOURE = 'Vous aurez fini de regarder vos émission à {}h{}'\n",
    "\n",
    "EPISODE_DURATION = 53\n",
    "total_time = 3 * EPISODE_DURATION\n",
    "\n",
    "total_hours = total_time // 60\n",
    "total_minutes = total_time % 60\n",
    "\n",
    "print(TIME_REMAINING.format(total_hours, total_minutes))\n",
    "\n",
    "end_hour = 20 * 60 + 42 + total_time\n",
    "\n",
    "end_hour, end_minutes = divmod(end_hour, 60)\n",
    "print(END_HOURE.format(end_hour, end_minutes))"
   ]
  }
 ],
 "metadata": {
  "kernelspec": {
   "display_name": "Python 3",
   "language": "python",
   "name": "python3"
  },
  "language_info": {
   "codemirror_mode": {
    "name": "ipython",
    "version": 3
   },
   "file_extension": ".py",
   "mimetype": "text/x-python",
   "name": "python",
   "nbconvert_exporter": "python",
   "pygments_lexer": "ipython3",
   "version": "3.7.0"
  }
 },
 "nbformat": 4,
 "nbformat_minor": 1
}
