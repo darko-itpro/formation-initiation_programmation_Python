{
 "cells": [
  {
   "metadata": {},
   "cell_type": "markdown",
   "source": "# Les listes, seconde partie",
   "id": "38cf8259a5475d31"
  },
  {
   "cell_type": "code",
   "id": "initial_id",
   "metadata": {
    "collapsed": true,
    "ExecuteTime": {
     "end_time": "2024-10-29T13:47:25.774843Z",
     "start_time": "2024-10-29T13:47:25.772562Z"
    }
   },
   "source": "camelot = [\"Arthur\", \"Merlin\", \"Lancelot\", \"Robin\", \"Perceval\", \"Karadoc\"]",
   "outputs": [],
   "execution_count": 1
  },
  {
   "metadata": {
    "ExecuteTime": {
     "end_time": "2024-10-29T13:48:21.769584Z",
     "start_time": "2024-10-29T13:48:21.764375Z"
    }
   },
   "cell_type": "code",
   "source": "\"Merlin\" in camelot",
   "id": "b20006e2f7536b6a",
   "outputs": [
    {
     "data": {
      "text/plain": [
       "True"
      ]
     },
     "execution_count": 2,
     "metadata": {},
     "output_type": "execute_result"
    }
   ],
   "execution_count": 2
  },
  {
   "metadata": {
    "ExecuteTime": {
     "end_time": "2024-10-29T13:48:45.681075Z",
     "start_time": "2024-10-29T13:48:45.677105Z"
    }
   },
   "cell_type": "code",
   "source": "len(camelot)",
   "id": "f7e38dc3e9a2650b",
   "outputs": [
    {
     "data": {
      "text/plain": [
       "6"
      ]
     },
     "execution_count": 3,
     "metadata": {},
     "output_type": "execute_result"
    }
   ],
   "execution_count": 3
  },
  {
   "metadata": {
    "ExecuteTime": {
     "end_time": "2024-10-29T13:50:26.635496Z",
     "start_time": "2024-10-29T13:50:26.632137Z"
    }
   },
   "cell_type": "code",
   "source": "camelot[-1]",
   "id": "777afd8a3d0575bc",
   "outputs": [
    {
     "data": {
      "text/plain": [
       "'Karadoc'"
      ]
     },
     "execution_count": 7,
     "metadata": {},
     "output_type": "execute_result"
    }
   ],
   "execution_count": 7
  },
  {
   "metadata": {
    "ExecuteTime": {
     "end_time": "2024-10-29T13:51:45.057388Z",
     "start_time": "2024-10-29T13:51:45.054326Z"
    }
   },
   "cell_type": "code",
   "source": "camelot = [\"Arthur\", \"Merlin\", \"Lancelot\", \"Robin\", \"Perceval\", \"Karadoc\"]",
   "id": "3e5df39b848e5483",
   "outputs": [],
   "execution_count": 8
  },
  {
   "metadata": {
    "ExecuteTime": {
     "end_time": "2024-10-29T13:52:22.351641Z",
     "start_time": "2024-10-29T13:52:22.347895Z"
    }
   },
   "cell_type": "code",
   "source": "camelot[1:4]",
   "id": "1a2c9ef60ca6a39c",
   "outputs": [
    {
     "data": {
      "text/plain": [
       "['Merlin', 'Lancelot', 'Robin']"
      ]
     },
     "execution_count": 9,
     "metadata": {},
     "output_type": "execute_result"
    }
   ],
   "execution_count": 9
  },
  {
   "metadata": {
    "ExecuteTime": {
     "end_time": "2024-10-29T13:53:34.480385Z",
     "start_time": "2024-10-29T13:53:34.475806Z"
    }
   },
   "cell_type": "code",
   "source": "camelot[:2]",
   "id": "48ffc5e242f03656",
   "outputs": [
    {
     "data": {
      "text/plain": [
       "['Arthur', 'Merlin']"
      ]
     },
     "execution_count": 10,
     "metadata": {},
     "output_type": "execute_result"
    }
   ],
   "execution_count": 10
  },
  {
   "metadata": {
    "ExecuteTime": {
     "end_time": "2024-10-29T13:54:43.857810Z",
     "start_time": "2024-10-29T13:54:43.852901Z"
    }
   },
   "cell_type": "code",
   "source": "camelot[-2:]",
   "id": "87827586f498263e",
   "outputs": [
    {
     "data": {
      "text/plain": [
       "['Perceval', 'Karadoc']"
      ]
     },
     "execution_count": 12,
     "metadata": {},
     "output_type": "execute_result"
    }
   ],
   "execution_count": 12
  },
  {
   "metadata": {
    "ExecuteTime": {
     "end_time": "2024-10-29T13:54:57.412170Z",
     "start_time": "2024-10-29T13:54:57.407823Z"
    }
   },
   "cell_type": "code",
   "source": "camelot[:]",
   "id": "2f64c60ba5dd6ca2",
   "outputs": [
    {
     "data": {
      "text/plain": [
       "['Arthur', 'Merlin', 'Lancelot', 'Robin', 'Perceval', 'Karadoc']"
      ]
     },
     "execution_count": 13,
     "metadata": {},
     "output_type": "execute_result"
    }
   ],
   "execution_count": 13
  },
  {
   "metadata": {
    "ExecuteTime": {
     "end_time": "2024-10-29T13:57:02.619341Z",
     "start_time": "2024-10-29T13:57:02.616677Z"
    }
   },
   "cell_type": "code",
   "source": "camelot[::2]",
   "id": "b0929a098b9b2b1f",
   "outputs": [
    {
     "data": {
      "text/plain": [
       "['Merlin', 'Robin', 'Karadoc']"
      ]
     },
     "execution_count": 15,
     "metadata": {},
     "output_type": "execute_result"
    }
   ],
   "execution_count": 15
  },
  {
   "metadata": {
    "ExecuteTime": {
     "end_time": "2024-10-29T13:58:58.456783Z",
     "start_time": "2024-10-29T13:58:58.453182Z"
    }
   },
   "cell_type": "code",
   "source": "camelot[0][::-1]",
   "id": "ab80dcada575adad",
   "outputs": [
    {
     "data": {
      "text/plain": [
       "'ruhtrA'"
      ]
     },
     "execution_count": 21,
     "metadata": {},
     "output_type": "execute_result"
    }
   ],
   "execution_count": 21
  },
  {
   "metadata": {
    "ExecuteTime": {
     "end_time": "2024-10-29T14:00:09.520437Z",
     "start_time": "2024-10-29T14:00:09.516824Z"
    }
   },
   "cell_type": "code",
   "source": "camelot",
   "id": "467da743ba96a09c",
   "outputs": [
    {
     "data": {
      "text/plain": [
       "['Arthur', 'Merlin', 'Lancelot', 'Robin', 'Perceval', 'Karadoc']"
      ]
     },
     "execution_count": 22,
     "metadata": {},
     "output_type": "execute_result"
    }
   ],
   "execution_count": 22
  },
  {
   "metadata": {
    "ExecuteTime": {
     "end_time": "2024-10-29T14:02:26.764555Z",
     "start_time": "2024-10-29T14:02:26.761272Z"
    }
   },
   "cell_type": "code",
   "source": "camelot[0:2]",
   "id": "31df7cb65a2130",
   "outputs": [
    {
     "data": {
      "text/plain": [
       "['Arthur', 'Merlin']"
      ]
     },
     "execution_count": 23,
     "metadata": {},
     "output_type": "execute_result"
    }
   ],
   "execution_count": 23
  },
  {
   "metadata": {
    "ExecuteTime": {
     "end_time": "2024-10-29T14:02:39.689367Z",
     "start_time": "2024-10-29T14:02:39.686202Z"
    }
   },
   "cell_type": "code",
   "source": "camelot[2:4]",
   "id": "383081e7e26f7b7d",
   "outputs": [
    {
     "data": {
      "text/plain": [
       "['Lancelot', 'Robin']"
      ]
     },
     "execution_count": 24,
     "metadata": {},
     "output_type": "execute_result"
    }
   ],
   "execution_count": 24
  },
  {
   "metadata": {},
   "cell_type": "code",
   "outputs": [],
   "execution_count": null,
   "source": "",
   "id": "9c518a11988d9062"
  }
 ],
 "metadata": {
  "kernelspec": {
   "display_name": "Python 3",
   "language": "python",
   "name": "python3"
  },
  "language_info": {
   "codemirror_mode": {
    "name": "ipython",
    "version": 2
   },
   "file_extension": ".py",
   "mimetype": "text/x-python",
   "name": "python",
   "nbconvert_exporter": "python",
   "pygments_lexer": "ipython2",
   "version": "2.7.6"
  }
 },
 "nbformat": 4,
 "nbformat_minor": 5
}
