{
 "cells": [
  {
   "cell_type": "markdown",
   "metadata": {},
   "source": [
    "# Lets do it the Python way\n",
    "Jusqu'ici, nous avons vu la sémantique du langage Python. Avec les connaissance acquises jusqu'ici, vous savez écrire un programme avec la syntaxe Python. Si vous avez vu certaines caractéristiques du langage, il est est temps de voir les plus intéressantes."
   ]
  },
  {
   "cell_type": "markdown",
   "metadata": {},
   "source": [
    "## Manipuler les listes\n",
    "Pour transformer et/ou filtrer les listes, Python propose un mécanisme inspiré du langage Haskell : les *Comprehension lists*. Soit les listes suivantes :\n",
    "```python\n",
    "camelot = [\"Arthur\", \"Merlin\", \"Lancelot\", \"Galahad\", \"Robin\", \"Karadoc\"]\n",
    "wizards = ['Merlin', \"Tim\"]\n",
    "```\n",
    "Nous pouvons obtenir une liste de la taille des éléments de la liste `camelot` de la manière suivante :\n",
    "```python\n",
    "[len(element) for element in camelot]\n",
    "```\n",
    "Nous pouvons obtenir la liste des chevaliers (éléments qui ne sont pas dans la liste `wizards`) de la manière suivante :\n",
    "```python\n",
    "[knight for knight in knights if knight not in wizards]\n",
    "```"
   ]
  },
  {
   "cell_type": "markdown",
   "metadata": {},
   "source": [
    "### Exercices\n",
    "Soit la liste de médias suivante. Chaque élément est une liste de deux éléments, une chaine et un booléen. Le booléen représente si un média a été visionné (`True`) ou non (`False`).\n",
    "\n",
    "Générez et affichez une liste contenant uniquement les titres des médias"
   ]
  },
  {
   "cell_type": "code",
   "execution_count": null,
   "metadata": {},
   "outputs": [],
   "source": [
    "medias = [[\"The Philosopher's Stone\", True],\n",
    "          [\"The Chamber of Secrets\", True],\n",
    "          [\"The Prisoner of Azkaban\", False],\n",
    "          [\"the Goblet of Fire\", True],\n",
    "          [\"the Order of the Phoenix\", False],\n",
    "          [\"the Half-Blood Prince\", True],\n",
    "          [\"the Deathly Hallows – Part 1\", False],\n",
    "          [\"the Deathly Hallows – Part 2\", False]]"
   ]
  },
  {
   "cell_type": "code",
   "execution_count": null,
   "metadata": {},
   "outputs": [],
   "source": []
  },
  {
   "cell_type": "markdown",
   "metadata": {},
   "source": [
    "Générez et affichez une liste des titres des médias **non visionnés**."
   ]
  },
  {
   "cell_type": "code",
   "execution_count": null,
   "metadata": {},
   "outputs": [],
   "source": []
  },
  {
   "cell_type": "markdown",
   "metadata": {},
   "source": [
    "### Exercice un peu avancé\n",
    "\n",
    "Il existe une fonction `sum(collection)` qui retourne la somme des éléments de la collection. Le fonctionnement est le suivant :\n",
    "```python\n",
    ">>> sum([3, 6, 10])\n",
    "19\n",
    "```\n",
    "Nous allons nous en servir pour les informations contenues dans la liste suivante :"
   ]
  },
  {
   "cell_type": "code",
   "execution_count": null,
   "metadata": {},
   "outputs": [],
   "source": [
    "movies = [[\"The Philosopher's Stone\", 152, True],\n",
    "          [\"The Chamber of Secrets\", 161, True],\n",
    "          [\"The Prisoner of Azkaban\", 142, False],\n",
    "          [\"the Goblet of Fire\", 157, True],\n",
    "          [\"the Order of the Phoenix\", 138, False],\n",
    "          [\"the Half-Blood Prince\", 153, True],\n",
    "          [\"the Deathly Hallows – Part 1\", 126, False],\n",
    "          [\"the Deathly Hallows – Part 2\", 130, False]]"
   ]
  },
  {
   "cell_type": "markdown",
   "metadata": {},
   "source": [
    "À l'aide des comprehension lists et du modèle suivant, affichez le temps total pour un marathon Harry Potter."
   ]
  },
  {
   "cell_type": "code",
   "execution_count": null,
   "metadata": {},
   "outputs": [],
   "source": [
    "TIME_WATCHING = 'Il y a {}h{} à visionner.'"
   ]
  },
  {
   "cell_type": "code",
   "execution_count": null,
   "metadata": {},
   "outputs": [],
   "source": []
  },
  {
   "cell_type": "markdown",
   "metadata": {},
   "source": [
    "Toujours à l'aide des comprehension lists et du modèle précédent, affichez le temps total des épisodes restant à voir."
   ]
  },
  {
   "cell_type": "code",
   "execution_count": null,
   "metadata": {},
   "outputs": [],
   "source": []
  },
  {
   "cell_type": "markdown",
   "metadata": {},
   "source": [
    "Enfin, intégrez ce code dans une fonction. Écrivez donc une fonction `time_remaining` qui prend en paramètre une collection sur le format précédent et qui retourne un entier représentant le temps des épisodes restant à voir.\n",
    "\n",
    "Afficher le temps total des épisodes restant à voir à l'aide de cette fonction, de la liste précédente et du template `TIME_WATCHING`."
   ]
  },
  {
   "cell_type": "code",
   "execution_count": null,
   "metadata": {},
   "outputs": [],
   "source": []
  }
 ],
 "metadata": {
  "kernelspec": {
   "display_name": "Python 3",
   "language": "python",
   "name": "python3"
  },
  "language_info": {
   "codemirror_mode": {
    "name": "ipython",
    "version": 3
   },
   "file_extension": ".py",
   "mimetype": "text/x-python",
   "name": "python",
   "nbconvert_exporter": "python",
   "pygments_lexer": "ipython3",
   "version": "3.7.0"
  }
 },
 "nbformat": 4,
 "nbformat_minor": 2
}
