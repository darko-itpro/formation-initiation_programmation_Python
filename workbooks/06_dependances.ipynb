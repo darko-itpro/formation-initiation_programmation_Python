{
 "cells": [
  {
   "cell_type": "markdown",
   "metadata": {},
   "source": [
    "# À la découverte des dépendances\n",
    "Nous allons commencer à déplacer du code dans des *modules*. Un module, c'est un fichier qui contient du code Python et qui doit être exécuté (interprété). Un module est un fichier texte avec pour extension `.py`.\n",
    "\n",
    "Dans un premier temps, nous allons exploiter les modules en tant que bibliothèques (libraries). C'est à dire que les modules contiendront des ressources que nous utiliserons dans notre programme. L'interpréteur ne connait pas le contenu des modules, il faudra donc les *importer*.\n",
    "\n",
    "Un module peut être dans un répertoire ou dans un *package*. Un package est un répertoire particulier puisqu'il contient un fichier nommé `__init__.py`. L'interpréteur peut trouver un module si il est dans l'arborescence connu par l'interpréteur. Les arborescences que connait l'interpréteur sont référencés dans une variable du module `sys`, `sys.path`. Nous verrons dans la prochaine cellule l'accès au contenu de cette liste.\n",
    "\n",
    "Nous allons commencer par utiliser le module `display_utilities` qui est dans le package `stage` du projet. Son nom complet est `stage.display_utilities`. Ce module contient une fonction, `display_elements()` qui affiche chaque élément d'une collection… Sounds familiar ?\n",
    "\n",
    "## Importer une ressource\n",
    "Il y a plusieurs moyens pour importer un module. Les plus évident est\n",
    "\n",
    "```python\n",
    "import stage.display_utilities\n",
    "```\n",
    "\n",
    "Après cet import, nous pourrons utiliser la fonction. Mais attention, l'interpréteur ne connait pas la fonction `display_elements`. Il faut donc préfixer son appel par le nom connu du module. L'usage complet est le suivant :\n",
    "\n",
    "```python\n",
    "import stage.display_utilities\n",
    "\n",
    "king = \"Arthur\"\n",
    "\n",
    "stage.display_utilities.display_elements(king)\n",
    "```\n",
    "\n",
    "Il est également possible d'utiliser l'écriture suivante qui simplifie l'écriture des appels :\n",
    "\n",
    "```python\n",
    "from stage import display_utilities\n",
    "\n",
    "king = \"Arthur\"\n",
    "\n",
    "display_utilities.display_elements(king)\n",
    "```\n",
    "\n",
    "Que vous pourriez également utiliser de la manière suivante :\n",
    "\n",
    "```python\n",
    "from stage import display_utilities as du\n",
    "\n",
    "king = \"Arthur\"\n",
    "\n",
    "du.display_elements(king)\n",
    "```\n",
    "\n",
    "Dans tous les cas, nous avons utilisé des *namespaces*. Utilisez toujours des namespaces. Évitez un import sans namespace comme :\n",
    "\n",
    "```python\n",
    "from stage.display_utilities import display_elements\n",
    "\n",
    "king = \"Arthur\"\n",
    "\n",
    "display_elements(king)\n",
    "```\n",
    "\n",
    "La cellule suivante affiche le contenu de cette variable. Le contenu du module `sys` n'est pas connu de l'interpréteur, pour le consulter, nous devons importer le module `sys`."
   ]
  },
  {
   "cell_type": "code",
   "execution_count": null,
   "metadata": {},
   "outputs": [],
   "source": [
    "import sys\n",
    "print(sys.path)"
   ]
  },
  {
   "cell_type": "markdown",
   "metadata": {},
   "source": [
    "Vous remarquerez dans la liste la chaine `''`. Elle représente le répertoire d'exécution de l'interpréteur. Si vous avez exécuté la commande `jupyter notebook` dans le répertoire `notebooks`, elle représente ce répertoire.\n",
    "\n",
    "## Ajouter le projet au path\n",
    "\n",
    "Les ressources dont nous avons besoin sont dans un package à la racine du projet, ce sera votre package de travail. Le kernel du notebook ne connait pas ce répertoire. Nous pouvons évidemment rajouer un path à cette liste. Techniquement, il s'agit de rajouter une chaine de caractères. La particularité dans notre cas est de rajouter un path en fonction du contexte d'exécution du notebook.\n",
    "\n",
    "La manipulation du path est en dehors du périmètre de la formation. Une instruction vous est fournie et pour pouvoir l'exécuter des différents notebooks, elle est dans un module qu'il faudra importer.\n",
    "\n",
    "Nous utiliserons également le fait que lors d'un import, l'interpréteur interprète les modules. Le simple import suivant exécute donc tout le code nécessaire."
   ]
  },
  {
   "cell_type": "code",
   "execution_count": null,
   "metadata": {},
   "outputs": [],
   "source": [
    "import nb_paths\n",
    "print(sys.path)"
   ]
  },
  {
   "cell_type": "markdown",
   "metadata": {},
   "source": [
    "## Importer, exporer et exploiter une ressource\n",
    "Importez le module `display_utilities` du path `stage`. Vous pouvez commencer par afficher l'aide de ce module avec la fonction `help()`."
   ]
  },
  {
   "cell_type": "code",
   "execution_count": null,
   "metadata": {},
   "outputs": [],
   "source": [
    "from stage import display_utilities\n",
    "help(display_utilities)"
   ]
  },
  {
   "cell_type": "markdown",
   "metadata": {},
   "source": [
    "À l'aide de la fonction `display_elements()` de ce module, affichez les éléments des collections suivantes :"
   ]
  },
  {
   "cell_type": "code",
   "execution_count": null,
   "metadata": {},
   "outputs": [],
   "source": [
    "CHAR_STRING = \"Chaine de plusieurs mots\"\n",
    "ELEMENTS_LIST = [\"Liste\", \"de\", \"plusieurs\", \"elements\"]"
   ]
  },
  {
   "cell_type": "markdown",
   "metadata": {},
   "source": [
    "#  Faire évoluer le module\n",
    "À l'aide de votre éditeur favori, éditez le module et ajoutez une fonction, `display_upperized_elements()` qui affiche chaque élément de la collection en capitales (voir méthode `upper()`).\n",
    "\n",
    "Vous ne pouvez pas dans le notebook faire appel à cette fonction car elle n'existait pas lorsque vous avez importé le module. De manière générale, les modifications ne sont jamais connues du module appelant. Pour cela, vous devez d'abord recharger le module à l'aide de la fonction `relaod()` du module `importlib` :\n",
    "```python\n",
    "import importlib\n",
    "importlib.relaod(display_utilities)\n",
    "```"
   ]
  },
  {
   "cell_type": "code",
   "execution_count": null,
   "metadata": {},
   "outputs": [],
   "source": []
  },
  {
   "cell_type": "markdown",
   "metadata": {},
   "source": [
    "Dans le [notebook sur les fonctions](http://localhost:8888/notebooks/workbooks/03_Fonctions.ipynb), vous avez créé une fonction `is_palindrom(sequence)`. Recopiez cette séquence dans le module `display_utilities` et assurez-vous de la bonne exécution de la cellule suivante"
   ]
  },
  {
   "cell_type": "code",
   "execution_count": null,
   "metadata": {},
   "outputs": [],
   "source": [
    "importlib.reload(display_utilities)\n",
    "\n",
    "if display_utilities.is_palindrom('radar') and not display_utilities.is_palindrom('assiette'):\n",
    "    print(\"Bien ! la fonction est disponible dans une bibliothèque de fonctions\")\n",
    "else:\n",
    "    print(\"Oups… Votre fonction est bien là mais quelque chose ne fonctionne pas bien…\")"
   ]
  }
 ],
 "metadata": {
  "kernelspec": {
   "display_name": "Python 3",
   "language": "python",
   "name": "python3"
  },
  "language_info": {
   "codemirror_mode": {
    "name": "ipython",
    "version": 3
   },
   "file_extension": ".py",
   "mimetype": "text/x-python",
   "name": "python",
   "nbconvert_exporter": "python",
   "pygments_lexer": "ipython3",
   "version": "3.6.0"
  }
 },
 "nbformat": 4,
 "nbformat_minor": 2
}
