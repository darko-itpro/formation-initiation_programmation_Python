{
 "cells": [
  {
   "cell_type": "markdown",
   "metadata": {},
   "source": [
    "# Lets do it the Python way\n",
    "Jusqu'ici, nous avons vu la sémantique du langage Python. Avec les connaissance acquises jusqu'ici, vous savez écrire un programme avec la syntaxe Python. Si vous avez vu certaines caractéristiques du langage, il est est temps de voir les plus intéressantes."
   ]
  },
  {
   "cell_type": "markdown",
   "metadata": {},
   "source": [
    "## Manipuler les listes\n",
    "Pour transformer et/ou filtrer les listes, Python propose un mécanisme inspiré du langage Haskell : les *Comprehension lists*. Soit les listes suivantes :\n",
    "```python\n",
    "camelot = [\"Arthur\", \"Merlin\", \"Lancelot\", \"Galahad\", \"Robin\", \"Karadoc\"]\n",
    "wizards = ['Merlin', \"Morgan\"]\n",
    "```\n",
    "Nous pouvons obtenir une liste de la taille des éléments de la liste `camelot` de la manière suivante :\n",
    "```python\n",
    "[len(element) for element in camelot]\n",
    "```\n",
    "Nous pouvons obtenir la liste des chevaliers (éléments qui ne sont pas dans la liste `wizards`) de la manière suivante :\n",
    "```python\n",
    "[knight for knight in knights if knight not in wizards]\n",
    "```"
   ]
  },
  {
   "cell_type": "markdown",
   "metadata": {},
   "source": [
    "### Exercices\n",
    "Soit la liste de médias suivante. Chaque élément est une liste de deux éléments, une chaine et un booléen. Le booléen représente si un média a été visionné (True) ou non (False).\n",
    "\n",
    "Générez et affichez une liste contenant uniquement les titres des médias"
   ]
  },
  {
   "cell_type": "code",
   "execution_count": null,
   "metadata": {},
   "outputs": [],
   "source": [
    "medias = [[\"The Philosopher's Stone\", True],\n",
    "          [\"The Chamber of Secrets\", True],\n",
    "          [\"The Prisoner of Azkaban\", False],\n",
    "          [\"the Goblet of Fire\", True],\n",
    "          [\"the Order of the Phoenix\", False],\n",
    "          [\"the Half-Blood Prince\", True],\n",
    "          [\"the Deathly Hallows – Part 1\", False],\n",
    "          [\"the Deathly Hallows – Part 2\", False]]"
   ]
  },
  {
   "cell_type": "markdown",
   "metadata": {},
   "source": [
    "Générez et affichez une liste des titres des médias **non visionnés**."
   ]
  },
  {
   "cell_type": "code",
   "execution_count": null,
   "metadata": {},
   "outputs": [],
   "source": []
  },
  {
   "cell_type": "markdown",
   "metadata": {},
   "source": [
    "*****\n",
    "## Les fonctions\n",
    "En Python, **tout est objet**. Les fonctions sont donc des objets… Il ne faut donc pas confondre les instructions\n",
    "```python\n",
    "ma_func()\n",
    "```\n",
    "qui est un appel de la fonction et qui retourne le retour de la fonction et\n",
    "```python\n",
    "ma_func\n",
    "```\n",
    "qui est une référence à la fonction et retourne donc… La fonction.\n",
    "\n",
    "Une fonction est un *callable* et pour être *appelé*, sa déclaration doit être suivie de parenthèses.\n",
    "\n",
    "Si le nom de la fonction retourne la fonction et que ce retour peut être exécuté par ajout de parenthèses, alors nous pouvons affecter une fonction à une variable, un paramètre de fonction ou un retour de fonction…\n",
    "\n",
    "Voyons un exemple avec ces deux fonctions qui permettent d'appliquer des opérations commerciales"
   ]
  },
  {
   "cell_type": "code",
   "execution_count": null,
   "metadata": {},
   "outputs": [],
   "source": [
    "def third_free(price, quantity=1):\n",
    "    \"\"\"\n",
    "    Le troisième gratuit\n",
    "    \"\"\"\n",
    "    return price * (quantity - quantity // 3)\n",
    "\n",
    "def second_half_price(price, quantity=1):\n",
    "    \"\"\"\n",
    "    Le second à 50%\n",
    "    \"\"\"\n",
    "    return (price * (quantity // 2) * 1.5) + (price * (quantity % 2))"
   ]
  },
  {
   "cell_type": "markdown",
   "metadata": {},
   "source": [
    "En caisse, nous avons évidemment une liste de produits. La liste est composé d'une liste de 3 éléments : nom, prix et quantité."
   ]
  },
  {
   "cell_type": "code",
   "execution_count": null,
   "metadata": {},
   "outputs": [],
   "source": [
    "products_list = [['Kit Kat', 3.5, 2],\n",
    "                 ['Choucroute', 7, 6],\n",
    "                 ['Madeleines', 6.5, 3],\n",
    "                 ['Sardines', 4, 5],\n",
    "                 ['Pates', 5, 4]]"
   ]
  },
  {
   "cell_type": "markdown",
   "metadata": {},
   "source": [
    "nous avons les algorithmes de calcul des remises et la liste des courses. Il nous manque un composant qui fera la relation entre les produits et les opérations commerciales.\n",
    "\n",
    "Le dictionnaire suivant permet d'associer une promotion à un produit."
   ]
  },
  {
   "cell_type": "code",
   "execution_count": null,
   "metadata": {},
   "outputs": [],
   "source": [
    "active_promotions = {'Kit Kat': second_half_price,\n",
    "                     'Choucroute': third_free,\n",
    "                     'Madeleines': second_half_price,\n",
    "                     'Sardines': third_free,\n",
    "                     'Pates': third_free}"
   ]
  },
  {
   "cell_type": "markdown",
   "metadata": {},
   "source": [
    "Vous voyez que pour chaque clef produit, le dictionnaire retourne une fonction. Nous pouvons donc itérer sur les éléments de la manière suivante :"
   ]
  },
  {
   "cell_type": "code",
   "execution_count": null,
   "metadata": {},
   "outputs": [],
   "source": [
    "for product, price, quantity in products_list:\n",
    "    print(product, active_promotions[product](price, quantity))"
   ]
  },
  {
   "cell_type": "markdown",
   "metadata": {},
   "source": [
    "## Utilisation des lambdas\n",
    "La liste de promotions suivante ne couvre pas tous les produits. il faut donc une fonction par défaut. Nous pouvons utiliser une lambda et la méthode `get()`."
   ]
  },
  {
   "cell_type": "code",
   "execution_count": null,
   "metadata": {},
   "outputs": [],
   "source": [
    "active_promotions = {'Kit Kat': second_half_price,\n",
    "                     'Madeleines': second_half_price,\n",
    "                     'Pates': third_free}\n",
    "\n",
    "for product, price, quantity in products_list:\n",
    "    print(product, active_promotions.get(product, lambda price, quantity: price * quantity)(price, quantity))"
   ]
  },
  {
   "cell_type": "markdown",
   "metadata": {},
   "source": [
    "## Et si vous êtes en avance\n",
    "Soit la liste des médias suivants, pour chacun, posez la question si il a été vu ou non."
   ]
  },
  {
   "cell_type": "code",
   "execution_count": null,
   "metadata": {},
   "outputs": [],
   "source": [
    "medias = [\"The Philosopher's Stone\",\n",
    "          \"The Chamber of Secrets\",\n",
    "          \"The Prisoner of Azkaban\",\n",
    "          \"the gOblet of Fire\",\n",
    "          \"the Order of the Phoenix\",\n",
    "          \"the Half-BlOOd Prince\",\n",
    "          \"the Deathly Hallows – Part 1\",\n",
    "          \"the Deathly Hallows – Part 2\"]"
   ]
  },
  {
   "cell_type": "markdown",
   "metadata": {},
   "source": [
    "Affichez le nombre de films restant à voir"
   ]
  },
  {
   "cell_type": "code",
   "execution_count": null,
   "metadata": {},
   "outputs": [],
   "source": [
    "HOW_MANY = \"Il reste {} films à voir\"\n",
    "NO_MORE = \"Il n'y a plus de film à voir\""
   ]
  }
 ],
 "metadata": {
  "kernelspec": {
   "display_name": "Python 3",
   "language": "python",
   "name": "python3"
  },
  "language_info": {
   "codemirror_mode": {
    "name": "ipython",
    "version": 3
   },
   "file_extension": ".py",
   "mimetype": "text/x-python",
   "name": "python",
   "nbconvert_exporter": "python",
   "pygments_lexer": "ipython3",
   "version": "3.6.0"
  }
 },
 "nbformat": 4,
 "nbformat_minor": 2
}
