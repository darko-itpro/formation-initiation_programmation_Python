{
 "cells": [
  {
   "cell_type": "markdown",
   "metadata": {},
   "source": [
    "# Améliorons notre programme\n",
    "\n",
    "Nous pouvons améliorer notre calepin contenant notre programme. Nous allons conserver la structure précédente, donc commencez par déclarer dans la cellule suivante une constante `DAILY_DURATION` et affectez-y une valeur. Déclarez une variable `days` et affectez-y une valeur."
   ]
  },
  {
   "cell_type": "code",
   "execution_count": 1,
   "metadata": {},
   "outputs": [],
   "source": []
  },
  {
   "cell_type": "markdown",
   "metadata": {},
   "source": [
    "Nous allons commencer par fusionner les codes qui étaient en cellules séparées en une seule cellule. La cellule suivante doit donc calculer la durée et afficher le résultat.\n",
    "\n",
    "Mais nous allons ajouter une conditionnelle. Si le nombre de jours est négatif, vous devez afficher un message indiquant que le calcul est impossible."
   ]
  },
  {
   "cell_type": "code",
   "execution_count": 2,
   "metadata": {},
   "outputs": [],
   "source": []
  }
 ],
 "metadata": {
  "kernelspec": {
   "display_name": "Python 3",
   "language": "python",
   "name": "python3"
  },
  "language_info": {
   "codemirror_mode": {
    "name": "ipython",
    "version": 3
   },
   "file_extension": ".py",
   "mimetype": "text/x-python",
   "name": "python",
   "nbconvert_exporter": "python",
   "pygments_lexer": "ipython3",
   "version": "3.8.0"
  }
 },
 "nbformat": 4,
 "nbformat_minor": 2
}
