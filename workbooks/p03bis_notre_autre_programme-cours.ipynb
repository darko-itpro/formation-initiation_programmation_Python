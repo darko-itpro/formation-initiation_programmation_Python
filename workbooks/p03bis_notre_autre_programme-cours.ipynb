{
 "cells": [
  {
   "cell_type": "markdown",
   "metadata": {},
   "source": [
    "# Notre autre programme avec une fonction\n",
    "\n",
    "Nous avons besoin d'un autre programme. Nous avons besoin de savoir combien de minutes durera la journée de cours au collège (école, peu importe…). Un cour dure 50 minutes.\n",
    "\n",
    "Déclarez dans la cellule suivante une constante référançant cette durée et une variable référançant le nombre de cours (un entier)."
   ]
  },
  {
   "cell_type": "code",
   "execution_count": null,
   "metadata": {},
   "outputs": [],
   "source": []
  },
  {
   "cell_type": "markdown",
   "metadata": {},
   "source": [
    "Déclarons dans la cellule suivante déclarer la fonction `duration_for` du calepin précédent. Copiez la fonction."
   ]
  },
  {
   "cell_type": "code",
   "execution_count": null,
   "metadata": {},
   "outputs": [],
   "source": []
  },
  {
   "cell_type": "markdown",
   "metadata": {},
   "source": [
    "Utilisez la fonction pour afficher la durée comme précédemment ou un message si le nombre de cours est négatif."
   ]
  },
  {
   "cell_type": "code",
   "execution_count": null,
   "metadata": {},
   "outputs": [],
   "source": []
  },
  {
   "cell_type": "markdown",
   "metadata": {},
   "source": [
    "Nous venons d'écrire un autre programme qui a besoin de la même fonction. L'intérêt d'une fonction est d'être réutilisée. Elle doit donc se trouver dans une bibliothèque de fonctions."
   ]
  }
 ],
 "metadata": {
  "kernelspec": {
   "display_name": "Python 3",
   "language": "python",
   "name": "python3"
  },
  "language_info": {
   "codemirror_mode": {
    "name": "ipython",
    "version": 3
   },
   "file_extension": ".py",
   "mimetype": "text/x-python",
   "name": "python",
   "nbconvert_exporter": "python",
   "pygments_lexer": "ipython3",
   "version": "3.8.0"
  }
 },
 "nbformat": 4,
 "nbformat_minor": 2
}
