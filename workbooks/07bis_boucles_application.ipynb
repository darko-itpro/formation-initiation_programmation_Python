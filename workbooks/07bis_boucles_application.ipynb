{
 "cells": [
  {
   "cell_type": "markdown",
   "metadata": {},
   "source": [
    "# Les boucles : applications\n",
    "\n",
    "Reprenons notre saison de Big Bang Theory"
   ]
  },
  {
   "cell_type": "code",
   "execution_count": null,
   "metadata": {},
   "outputs": [],
   "source": [
    "bbt_s12 = [\"The Conjugal Configuration\",\n",
    "           \"The Wedding Gift Wormhole\",\n",
    "           \"The Procreation Calculation\",\n",
    "           \"The Tam Turbulence\",\n",
    "           \"The Planetarium Collision\",\n",
    "           \"The Imitation Perturbation\",\n",
    "           \"The Grant Allocation Derivation\",\n",
    "           \"The Consummation Deviation\",\n",
    "           \"The Citation Negation\",\n",
    "           \"The VCR Illumination\",\n",
    "           \"The Paintball Scattering\",\n",
    "           \"The Propagation Proposition\",\n",
    "           \"The Confirmation Polarization\",\n",
    "           \"The Meteorite Manifestation\",\n",
    "           \"The Donation Oscillation\",\n",
    "           \"The D & D Vortex\",\n",
    "           \"The Conference Valuation\",\n",
    "           \"The Laureate Accumulation\",\n",
    "           \"The Inspiration Deprivation\",\n",
    "           \"The Decision Reverberation\",\n",
    "           \"The Plagiarism Schism\",\n",
    "           \"The Maternal Conclusion\",\n",
    "           \"The Change Constant\",\n",
    "           \"The Stockholm Syndrome\"]"
   ]
  },
  {
   "cell_type": "markdown",
   "metadata": {},
   "source": [
    "Reprenons ce que nous avons fait précédemment : Faites une copie de cette liste dans une variable `playlist` puis récupérer le nom du prochain épisode et supprimez le de la liste. Répétez cette opération plusieurs fois mais à l'aide d'une boucle cette fois-ci. "
   ]
  },
  {
   "cell_type": "code",
   "execution_count": null,
   "metadata": {},
   "outputs": [],
   "source": []
  },
  {
   "cell_type": "markdown",
   "metadata": {},
   "source": [
    "## Les listes comme données structurées.\n",
    "La liste suivante représente un épisode avec des métadonnées. Cette liste comporte les informations :\n",
    "titre, vu/pas vu, note (0 à 5).\n",
    "\n",
    "À partir de cette liste `episode`, affichez le titre de l'épisode."
   ]
  },
  {
   "cell_type": "code",
   "execution_count": null,
   "metadata": {},
   "outputs": [],
   "source": [
    "episode = ['The Conjugal Configuration', True, 3]"
   ]
  },
  {
   "cell_type": "code",
   "execution_count": null,
   "metadata": {},
   "outputs": [],
   "source": []
  },
  {
   "cell_type": "markdown",
   "metadata": {},
   "source": [
    "Si il est vu, affichez la note"
   ]
  },
  {
   "cell_type": "code",
   "execution_count": null,
   "metadata": {},
   "outputs": [],
   "source": []
  },
  {
   "cell_type": "markdown",
   "metadata": {},
   "source": [
    "Si ce n'est pas fait, améliorez votre code en récupérant les données dans des variables avec des noms parlant."
   ]
  },
  {
   "cell_type": "code",
   "execution_count": null,
   "metadata": {},
   "outputs": [],
   "source": []
  },
  {
   "cell_type": "markdown",
   "metadata": {},
   "source": [
    "Maintenant, répétez cette opération pour chaque épisode de la saison"
   ]
  },
  {
   "cell_type": "code",
   "execution_count": null,
   "metadata": {},
   "outputs": [],
   "source": [
    "managed_bbt_s12 = [['The Conjugal Configuration', True, 3],\n",
    "                   ['The Wedding Gift Wormhole', True, 4],\n",
    "                   ['The Procreation Calculation', True, 2],\n",
    "                   ['The Tam Turbulence', True, 3],\n",
    "                   ['The Planetarium Collision', True, 1],\n",
    "                   ['The Imitation Perturbation', True, 3],\n",
    "                   ['The Grant Allocation Derivation', True, 0],\n",
    "                   ['The Consummation Deviation', True, 4],\n",
    "                   ['The Citation Negation', True, 3],\n",
    "                   ['The VCR Illumination', True, 5],\n",
    "                   ['The Paintball Scattering', True, 4],\n",
    "                   ['The Propagation Proposition', True, 3],\n",
    "                   ['The Confirmation Polarization', True, 2],\n",
    "                   ['The Meteorite Manifestation', True, 1],\n",
    "                   ['The Donation Oscillation', True, 4],\n",
    "                   ['The D & D Vortex', True, 3],\n",
    "                   ['The Conference Valuation', False, 0],\n",
    "                   ['The Laureate Accumulation', False, 0],\n",
    "                   ['The Inspiration Deprivation', False, 0],\n",
    "                   ['The Decision Reverberation', False, 0],\n",
    "                   ['The Plagiarism Schism', False, 0],\n",
    "                   ['The Maternal Conclusion', False, 0],\n",
    "                   ['The Change Constant', False, 0],\n",
    "                   ['The Stockholm Syndrome', False, 0]]"
   ]
  },
  {
   "cell_type": "code",
   "execution_count": null,
   "metadata": {},
   "outputs": [],
   "source": []
  }
 ],
 "metadata": {
  "kernelspec": {
   "display_name": "Python 3",
   "language": "python",
   "name": "python3"
  },
  "language_info": {
   "codemirror_mode": {
    "name": "ipython",
    "version": 3
   },
   "file_extension": ".py",
   "mimetype": "text/x-python",
   "name": "python",
   "nbconvert_exporter": "python",
   "pygments_lexer": "ipython3",
   "version": "3.8.0"
  }
 },
 "nbformat": 4,
 "nbformat_minor": 1
}
