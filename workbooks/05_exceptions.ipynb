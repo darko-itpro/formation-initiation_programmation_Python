{
 "cells": [
  {
   "cell_type": "markdown",
   "metadata": {},
   "source": [
    "# Les exceptions\n",
    "Nous souhaitons écrire un programme pour gérer une playlist. Celui-ci doit demander un titre puis une durée en minutes."
   ]
  },
  {
   "cell_type": "code",
   "execution_count": null,
   "metadata": {},
   "outputs": [],
   "source": [
    "title = input(\"Quel est le titre ? \")\n",
    "duration = input(\"Quelle est la durée ? \")"
   ]
  },
  {
   "cell_type": "markdown",
   "metadata": {},
   "source": [
    "Le problème du code précédent est que duration est une chaine de caractères. Or, pour calculer la durée totale, nous avons besoin que ce soit un entier. La solution est évidemment le transtypage."
   ]
  },
  {
   "cell_type": "code",
   "execution_count": null,
   "metadata": {},
   "outputs": [],
   "source": [
    "title = input(\"Quel est le titre ? \")\n",
    "duration = int(input(\"Quelle est la durée ? \"))"
   ]
  },
  {
   "cell_type": "markdown",
   "metadata": {},
   "source": [
    "Mais si l'utilisateur saisit autre chose qu'un entier, ceci provoque une exception lors de la convertin en entier et l'arrêt du programme.\n",
    "\n",
    "Écrivez ci-dessous la version qui avertit l'utilisateur que ce n'est pas un entier et permet donc au programme de s'achever."
   ]
  },
  {
   "cell_type": "code",
   "execution_count": null,
   "metadata": {},
   "outputs": [],
   "source": [
    "title = input(\"Quel est le titre ? \")\n",
    "duration = int(input(\"Quelle est la durée ? \"))\n",
    "print(\"Ok, le programme s'est achevé\")"
   ]
  },
  {
   "cell_type": "markdown",
   "metadata": {},
   "source": [
    "La fonction suivante permet d'ajouter un épisode à une collection. Mais elle doit valider que la durée est un entier positif. Pour cela, elle doit lever une exceptions pour informer l'appelant que l'élément n'est pas ajouté."
   ]
  },
  {
   "cell_type": "code",
   "execution_count": null,
   "metadata": {},
   "outputs": [],
   "source": [
    "media_collection = []\n",
    "\n",
    "def add_element(title, duration):\n",
    "    if duration <= 0:\n",
    "        pass\n",
    "    media_collection.append([title, duration])\n",
    "    \n",
    "try:\n",
    "    add_element(\"The Last Jedi\", -152)\n",
    "except ValueError:\n",
    "    print(\"Duration should be a positive value\")"
   ]
  },
  {
   "cell_type": "markdown",
   "metadata": {},
   "source": [
    "La mise en œuvre pratique est réalisée dans les programmes."
   ]
  },
  {
   "cell_type": "code",
   "execution_count": null,
   "metadata": {},
   "outputs": [],
   "source": []
  }
 ],
 "metadata": {
  "kernelspec": {
   "display_name": "Python 3",
   "language": "python",
   "name": "python3"
  },
  "language_info": {
   "codemirror_mode": {
    "name": "ipython",
    "version": 3
   },
   "file_extension": ".py",
   "mimetype": "text/x-python",
   "name": "python",
   "nbconvert_exporter": "python",
   "pygments_lexer": "ipython3",
   "version": "3.6.0"
  }
 },
 "nbformat": 4,
 "nbformat_minor": 2
}
