{
 "cells": [
  {
   "cell_type": "markdown",
   "metadata": {},
   "source": [
    "## Vers un programme\n",
    "\n",
    "Nous allons préparer notre premier programme. Nous allons utiliser ce workbook pour préparer ce programme.\n",
    "\n",
    "### Sujet\n",
    "Nous voulons gérer une *liste de tâches*. Une tâche est composée de :\n",
    " * titre (`str`)\n",
    " * priority (`int` où 0 = faible, 1 = moyen, 2 = élevé)\n",
    " * done (`bool`, `False` par défaut)\n",
    " \n",
    "Par exemple :\n",
    "```Python\n",
    "[\"Déclarer les impôts\", 1]\n",
    "```\n",
    "\n",
    "Pour gérer cette liste, nous allons commencer par écrire une fonction `add_to(collection, title)`. `collection` doit être une collecion de type `list` (ne vérifiez pas le type) et `title` est le titre. Cette fonction retourne la liste `collection` complétée d'une liste comportant le titre et la priorité faible (0)."
   ]
  },
  {
   "cell_type": "code",
   "execution_count": null,
   "metadata": {},
   "outputs": [],
   "source": [
    "def add_to(collection, title, priority=0):\n",
    "    pass"
   ]
  },
  {
   "cell_type": "markdown",
   "metadata": {},
   "source": [
    "Si vous avez bien écrit votre fonction, les instructions suivantes doivent s'exécuter sans erreur."
   ]
  },
  {
   "cell_type": "code",
   "execution_count": null,
   "metadata": {},
   "outputs": [],
   "source": [
    "my_list = []\n",
    "assert add_to(my_list, \"Déclarer les impôts\") == [[\"Déclarer les impôts\", 0, False]]\n",
    "assert add_to(my_list, \"Acheter du pain\") == [[\"Déclarer les impôts\", 0, False],\n",
    "                                                 [\"Acheter du pain\", 0, False]]"
   ]
  },
  {
   "cell_type": "markdown",
   "metadata": {},
   "source": [
    "Modifiez la fonction afin qu'elle accepte le paramètre optionnel `priority` qui par défaut a la valeur 0.\n",
    "les instructions suivantes doivent s'exécuter sans erreur. Notez que les précédentes aussi…"
   ]
  },
  {
   "cell_type": "code",
   "execution_count": null,
   "metadata": {},
   "outputs": [],
   "source": [
    "my_list = []\n",
    "assert add_to(my_list, \"Déclarer les impôts\", 2) == [[\"Déclarer les impôts\", 2, False]]\n",
    "assert add_to(my_list, \"Acheter du pain\", priority=1) == [[\"Déclarer les impôts\", 2, False],\n",
    "                                                 [\"Acheter du pain\", 1, False]]"
   ]
  },
  {
   "cell_type": "markdown",
   "metadata": {},
   "source": [
    "Afin de rendre le code plus lisible, nous pouvons déclarer des constantes `LOW`, `MEDIUM` et `HIGH` avec les valeurs adéquat. Nous pourrons alors écrire le code suivant :"
   ]
  },
  {
   "cell_type": "code",
   "execution_count": null,
   "metadata": {},
   "outputs": [],
   "source": [
    "my_list = []\n",
    "assert add_to(my_list, \"Déclarer les impôts\", HIGH) == [[\"Déclarer les impôts\", 2, False]]\n",
    "assert add_to(my_list, \"Acheter du pain\", priority=MEDIUM) == [[\"Déclarer les impôts\", 2, False],\n",
    "                                                 [\"Acheter du pain\", 1, False]]"
   ]
  },
  {
   "cell_type": "markdown",
   "metadata": {},
   "source": [
    "Ajoutons maintenant une fonction `next(collection)` qui doit retourner le titre et la priorité de **la prochaine tâche non réalisée**. Si il n'y a pas de tâche non réalisé, la fonction doit retourner `None`."
   ]
  },
  {
   "cell_type": "code",
   "execution_count": null,
   "metadata": {},
   "outputs": [],
   "source": [
    "def next(collection, highest_priority=True):\n",
    "    pass"
   ]
  },
  {
   "cell_type": "code",
   "execution_count": null,
   "metadata": {},
   "outputs": [],
   "source": [
    "my_list = [[\"Déclarer les impôts\", 2, True], [\"Acheter du pain\", 1, False]]\n",
    "assert next(my_list) == [\"Acheter du pain\", 1]"
   ]
  },
  {
   "cell_type": "markdown",
   "metadata": {},
   "source": [
    "Modifiez la fonction pour qu'elle accepte un paramètre `highest_priority` optionnel par défaut à `True`. Si ce paramètre est à `True`, la fonction doit retourner la prochaine tâche à faire de la priorité la plus élevée."
   ]
  },
  {
   "cell_type": "code",
   "execution_count": null,
   "metadata": {},
   "outputs": [],
   "source": [
    "my_list = [[\"Déclarer les impôts\", HIGH, True], [\"Acheter du pain\", MEDIUM, True]]\n",
    "assert next(my_list) == None\n",
    "my_list = [[\"Acheter du pain\", MEDIUM, False], [\"Déclarer les impôts\", HIGH, False]]\n",
    "assert next(my_list) == [\"Déclarer les impôts\", 2]\n",
    "my_list = [[\"Acheter du pain\", MEDIUM, False], [\"Déclarer les impôts\", HIGH, False]]\n",
    "assert next(my_list, highest_priority=False) == [\"Acheter du pain\", 1]\n",
    "my_list = [[\"Acheter du pain\", MEDIUM, True], [\"Déclarer les impôts\", HIGH, True]]\n",
    "assert next(my_list) is None"
   ]
  },
  {
   "cell_type": "markdown",
   "metadata": {},
   "source": [
    "Ajoutez une fonction `mark_as_done(collection, task)` où `collection` est une collection de tâches et `task` le titre d'une tâche. Cette fonction doit retourner la collection où l'élément de titre `task` a son second élément à `True`."
   ]
  },
  {
   "cell_type": "code",
   "execution_count": null,
   "metadata": {},
   "outputs": [],
   "source": [
    "def mark_as_done(collection, task):\n",
    "    pass"
   ]
  },
  {
   "cell_type": "code",
   "execution_count": null,
   "metadata": {},
   "outputs": [],
   "source": [
    "my_list = [[\"Acheter du pain\", MEDIUM, False], [\"Déclarer les impôts\", HIGH, False]]\n",
    "assert mark_as_done(my_list, \"Déclarer les impôts\")[1] == [\"Déclarer les impôts\", 2, True]"
   ]
  },
  {
   "cell_type": "markdown",
   "metadata": {},
   "source": [
    "Si vous avez réalisé toutes ces fonctions, vous avez de quoi faire.\n",
    "\n",
    "Créez dans le package `stage` un module `task_manager`. Copiez/collez les fonctions que vous venez de créer."
   ]
  },
  {
   "cell_type": "code",
   "execution_count": null,
   "metadata": {},
   "outputs": [],
   "source": []
  }
 ],
 "metadata": {
  "kernelspec": {
   "display_name": "Python 3",
   "language": "python",
   "name": "python3"
  },
  "language_info": {
   "codemirror_mode": {
    "name": "ipython",
    "version": 3
   },
   "file_extension": ".py",
   "mimetype": "text/x-python",
   "name": "python",
   "nbconvert_exporter": "python",
   "pygments_lexer": "ipython3",
   "version": "3.6.0"
  }
 },
 "nbformat": 4,
 "nbformat_minor": 2
}
