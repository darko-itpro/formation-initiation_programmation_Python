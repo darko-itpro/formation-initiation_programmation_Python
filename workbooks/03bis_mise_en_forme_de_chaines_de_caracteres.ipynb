{
 "cells": [
  {
   "cell_type": "markdown",
   "metadata": {},
   "source": [
    "## Mise en forme de chaines de caractères\n",
    "Les chaines de caractères (`str`) sont un type immuable en Python. C'est à dire que vous ne pouvez pas modifier une valeur. Le symbol de l'addition (`+`) permet de concaténer deux chaines de caractères pour en produire une troisième. Ce n'est pas le moyen le plus efficace pour mettre en forme une chaine.\n",
    "\n",
    "Nous allons commencer par utiliser la méthode `format()` des chaines de caractères :\n",
    "```python\n",
    "pref_string = \"Mon langage favori est {}\"\n",
    "print(pref_string.format(name))\n",
    "```\n",
    "Les accolades permettent de mettre en forme les données à afficher. Le microlangage étant assez complexe, je vous invite à consulter [la documentation](https://docs.python.org/3.6/library/string.html#format-string-syntax) pour les fonctionnalités exhaustives.\n",
    "\n",
    "On retiendra les plus courantes :\n",
    " * `{1}` permet d'afficher le second élément de la liste des données.\n",
    " * `{:.2f}` permet d'afficher la donnée sous forme de réel avec deux chiffres après la virgule\n",
    " * `{:10}` réserve 10 espaces pour afficher la donnée\n",
    " * `{:10.2f}` réserve 10 espaces pour afficher un réel avec deux chiffres après la virgule\n",
    " * `{1:10.2f}` réserve 10 espaces pour afficher sous forme de réel avec deux chiffres après la virgule le second élément de la liste des données\n",
    " \n",
    "Nous pouvons aussi utiliser les f-String :\n",
    "```python\n",
    "pref_string = f\"Mon langage favori est {name}\"\n",
    "print(pref_string).\n",
    "```\n",
    "Réserver un certain nombre de caractères ou spécifier la précision se fait, avec les f-string, de la même manière que pour la fonction `.format()` : `{age:10.2f}`.\n",
    "\n",
    "### Exercices\n",
    "Reprenons l'exercice sur la vitesse calculée précédemment et améliorons l'affichage en imposant deux chiffres après le point décimal et en affichant l'unité (m/s). Essayez d'utiliser la fonction format et les f-string.\n",
    "\n",
    "Un exemple de sortie serait : `Vitesse : 4.83 m/s`"
   ]
  },
  {
   "cell_type": "code",
   "execution_count": null,
   "metadata": {},
   "outputs": [],
   "source": [
    "temps = 6.892\n",
    "distance = 19.7\n"
   ]
  },
  {
   "cell_type": "markdown",
   "metadata": {},
   "source": [
    "## Opérations sur données\n",
    "Nous allons maintenant combiner traitement de données et affichage.\n",
    "### Exercices\n",
    "Il me reste 7 épisodes de 26 minutes de Big Bang Theory à regarder.\n",
    " * Combien de temps (en heures et minutes) cela représente-t-il ?\n",
    " * Sachant qu'il est 20h42, quelle sera l'heure de fin si je les regarde à la suite ?\n",
    "Affichez ces deux résultats à l'aide des templates suivants."
   ]
  },
  {
   "cell_type": "code",
   "execution_count": null,
   "metadata": {},
   "outputs": [],
   "source": [
    "TIME_REMAINING = 'Il reste {:2}h{:02} à visionner.'\n",
    "END_HOURE = 'Vous aurez fini de regarder vos émission à {:2}h{:02}'"
   ]
  },
  {
   "cell_type": "code",
   "execution_count": null,
   "metadata": {},
   "outputs": [],
   "source": []
  }
 ],
 "metadata": {
  "kernelspec": {
   "display_name": "Python 3",
   "language": "python",
   "name": "python3"
  },
  "language_info": {
   "codemirror_mode": {
    "name": "ipython",
    "version": 3
   },
   "file_extension": ".py",
   "mimetype": "text/x-python",
   "name": "python",
   "nbconvert_exporter": "python",
   "pygments_lexer": "ipython3",
   "version": "3.7.0"
  }
 },
 "nbformat": 4,
 "nbformat_minor": 1
}
