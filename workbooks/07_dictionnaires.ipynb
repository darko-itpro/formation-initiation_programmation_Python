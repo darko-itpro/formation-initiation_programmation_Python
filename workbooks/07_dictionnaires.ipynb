{
 "cells": [
  {
   "cell_type": "markdown",
   "metadata": {},
   "source": [
    "## Les collections\n",
    "Les collections sont des types de données qui contiennent plusieurs données. Nous avons vu :\n",
    " * les chaines de caractères (`str`)\n",
    " * les listes (`list`)\n",
    " * les tuples (`tuple`)\n",
    " * les dictionnaires (`dict`)\n",
    "\n",
    "Les Dictionnairs (`dict`) sont des collections non ordonnées de couples clef-valeur.\n",
    "\n",
    "### Exercices - dictionnaires\n",
    "Les questions suivantes vont vous faire manipuler les instructions principales.\n",
    "\n",
    "La cellule suivante crée un dictionnaire vide. Vous voyez qu'il s'agit de transposer l'exemple des listes vers des dictionnaires."
   ]
  },
  {
   "cell_type": "code",
   "execution_count": null,
   "metadata": {},
   "outputs": [],
   "source": [
    "training = {}"
   ]
  },
  {
   "cell_type": "markdown",
   "metadata": {},
   "source": [
    "Ajoutez une clef `subject` avec la valeur `Python`"
   ]
  },
  {
   "cell_type": "code",
   "execution_count": null,
   "metadata": {},
   "outputs": [],
   "source": []
  },
  {
   "cell_type": "markdown",
   "metadata": {},
   "source": [
    "Ajoutez une clef `duration` avec la valeur correspondant au nombre de jours de formation (ce nombre de jours est un entier"
   ]
  },
  {
   "cell_type": "code",
   "execution_count": null,
   "metadata": {},
   "outputs": [],
   "source": []
  },
  {
   "cell_type": "markdown",
   "metadata": {},
   "source": [
    "Affichez si la clef `attendents` existe (l'instruction doit afficher `True` ou `False`)"
   ]
  },
  {
   "cell_type": "code",
   "execution_count": null,
   "metadata": {},
   "outputs": [],
   "source": []
  },
  {
   "cell_type": "markdown",
   "metadata": {},
   "source": [
    "Créez la clef `attendents` et affectez lui une valeur correspondant au nombre de stagiaires."
   ]
  },
  {
   "cell_type": "code",
   "execution_count": null,
   "metadata": {},
   "outputs": [],
   "source": []
  },
  {
   "cell_type": "markdown",
   "metadata": {},
   "source": [
    "Affichez la liste des clefs"
   ]
  },
  {
   "cell_type": "code",
   "execution_count": null,
   "metadata": {},
   "outputs": [],
   "source": []
  },
  {
   "cell_type": "markdown",
   "metadata": {},
   "source": [
    "Modifiez la clef `attendents` pour que la valeur associée soit incrémentée de 2. **Attention**, n'affectez pas une nouvelle valeur mais la valeur actuelle incrémentée de 2."
   ]
  },
  {
   "cell_type": "code",
   "execution_count": null,
   "metadata": {},
   "outputs": [],
   "source": []
  },
  {
   "cell_type": "markdown",
   "metadata": {},
   "source": [
    "Créez une nouvelle formation avec le sujet et la durée de votre choix."
   ]
  },
  {
   "cell_type": "code",
   "execution_count": null,
   "metadata": {},
   "outputs": [],
   "source": []
  },
  {
   "cell_type": "markdown",
   "metadata": {},
   "source": [
    "Testez ci-dessous si la clef `attendents` existe dans cette formation. Si elle n'existe pas, créez la et affectez lui une valeur correspondant au nombre de stagiaires. Sinon, incrémentez cette la valeur associée de 2.\n",
    "\n",
    "Affichez ensuite ce dictionnaire.\n",
    "\n",
    "Exécutez cette cellule plusieurs fois."
   ]
  },
  {
   "cell_type": "code",
   "execution_count": null,
   "metadata": {},
   "outputs": [],
   "source": []
  },
  {
   "cell_type": "markdown",
   "metadata": {},
   "source": [
    "## Avec des fonctions\n",
    "Le dictionnaire créé précédemment sert à manipuler des données. Mais si vous gérez à la main les affectations de données, donc la création des clefs, vous courrez un risque d'erreurs suite à des fautes de frappe que vous ne pourrez pas détecter facilement. Pour éviter ce type d'erreurs, il est préférable d'encapsuler la logique dans des fonctions.\n",
    "\n",
    "Proposez les fonctions dans ce contexte."
   ]
  },
  {
   "cell_type": "code",
   "execution_count": null,
   "metadata": {},
   "outputs": [],
   "source": []
  },
  {
   "cell_type": "code",
   "execution_count": null,
   "metadata": {},
   "outputs": [],
   "source": []
  }
 ],
 "metadata": {
  "kernelspec": {
   "display_name": "Python 3",
   "language": "python",
   "name": "python3"
  },
  "language_info": {
   "codemirror_mode": {
    "name": "ipython",
    "version": 3
   },
   "file_extension": ".py",
   "mimetype": "text/x-python",
   "name": "python",
   "nbconvert_exporter": "python",
   "pygments_lexer": "ipython3",
   "version": "3.7.0"
  }
 },
 "nbformat": 4,
 "nbformat_minor": 2
}
