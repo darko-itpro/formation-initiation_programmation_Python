{
 "cells": [
  {
   "cell_type": "markdown",
   "metadata": {},
   "source": [
    "# Intégrons\n",
    "Ce notebook a pour objectif de montrer comment intégrer ce que nous avons vu pour créer un *programme*. Nous allons utiliser des fonctions qui sont dans une bibliothèque."
   ]
  },
  {
   "cell_type": "code",
   "execution_count": null,
   "metadata": {},
   "outputs": [],
   "source": [
    "from wblib import media"
   ]
  },
  {
   "cell_type": "code",
   "execution_count": null,
   "metadata": {},
   "outputs": [],
   "source": [
    "help(media)"
   ]
  },
  {
   "cell_type": "code",
   "execution_count": null,
   "metadata": {},
   "outputs": [],
   "source": [
    "my_medias = media.create_collection()\n",
    "\n",
    "movies = [[\"The Philosopher's Stone\", 152, True],\n",
    "          [\"The Chamber of Secrets\", 161, True],\n",
    "          [\"The Prisoner of Azkaban\", 142, False],\n",
    "          [\"the Goblet of Fire\", 157, True],\n",
    "          [\"the Order of the Phoenix\", 138, False],\n",
    "          [\"the Half-Blood Prince\", 153, True],\n",
    "          [\"the Deathly Hallows – Part 1\", 126, False],\n",
    "          [\"the Deathly Hallows – Part 2\", 130, False]]\n",
    "\n",
    "\n",
    "for title, duration, viewed in movies:\n",
    "    media.add_movie(my_medias, title, duration)\n",
    "    \n",
    "print(len(my_medias), \"films ajoutés\")\n",
    "print(\"durée totale de \", media.time_remaining(my_medias), \"minutes\")"
   ]
  },
  {
   "cell_type": "code",
   "execution_count": null,
   "metadata": {},
   "outputs": [],
   "source": []
  }
 ],
 "metadata": {
  "kernelspec": {
   "display_name": "Python 3",
   "language": "python",
   "name": "python3"
  },
  "language_info": {
   "codemirror_mode": {
    "name": "ipython",
    "version": 3
   },
   "file_extension": ".py",
   "mimetype": "text/x-python",
   "name": "python",
   "nbconvert_exporter": "python",
   "pygments_lexer": "ipython3",
   "version": "3.8.0"
  }
 },
 "nbformat": 4,
 "nbformat_minor": 2
}
