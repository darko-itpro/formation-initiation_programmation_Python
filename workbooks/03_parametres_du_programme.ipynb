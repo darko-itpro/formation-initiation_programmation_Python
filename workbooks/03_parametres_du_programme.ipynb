{
 "cells": [
  {
   "cell_type": "markdown",
   "metadata": {},
   "source": [
    "## Entrées de l'utilisateur\n",
    "Tout programme a besoin de paramètres. En Python, il est possible de demander à l'utilisateur de fournir des informations. La manière historique repose sur la fonction `input()`. Cette fonction attends une saisie de l'utilisateur et retourne cette saisie sous forme d'une chaine de caractères. Il est donc nécessaire de transtyper au besoin.\n",
    "```python\n",
    "name = input('Quel est votre langage favori ? ')\n",
    "print(name)\n",
    "year = int(input('Quand a-t-il été créé ? ')\n",
    "print(year)\n",
    "```\n",
    "\n",
    "Cette fonction permet une saisie de l'utilisateur via l'invite de commande. Celle-ci est peu ergonomique selon nos standards actuels, nous n'allons pas l'utiliser. Elle a tout de même un intérêt lorsque un programme a besoin d'une information en cours d'exécution (voir notebook bis).\n",
    "\n",
    "Dans le cas des Notebooks, nous allons dédier une cellule pour le renseignement d'informations.\n",
    "\n",
    "### Préparez l'exercice\n",
    "Déclarez dans la cellule suivante une variable `training` avec en valeur le nom de votre formation et une variable `duration`avec en valeur un entier représentant la durée en jours."
   ]
  },
  {
   "cell_type": "code",
   "execution_count": null,
   "metadata": {},
   "outputs": [],
   "source": []
  },
  {
   "cell_type": "markdown",
   "metadata": {},
   "source": [
    "Dans le notebook précédent, vous avez défini une fonction calculant et affichant la durée d'une formation. Recopiez la dans la cellule suivante. Le nom de la fonction doit être `duree_formation`."
   ]
  },
  {
   "cell_type": "code",
   "execution_count": null,
   "metadata": {},
   "outputs": [],
   "source": []
  },
  {
   "cell_type": "markdown",
   "metadata": {},
   "source": [
    "Les cellules suivantes utilisent ces variables et cette fonction. Vous pouvez maintenant exécuter le notebook en choisissant dans le menu `Cellule/Exécuter tout`."
   ]
  },
  {
   "cell_type": "code",
   "execution_count": null,
   "metadata": {},
   "outputs": [],
   "source": [
    "print(f\"Vous êtes en formation de {training}\")"
   ]
  },
  {
   "cell_type": "code",
   "execution_count": null,
   "metadata": {},
   "outputs": [],
   "source": [
    "print(f\"Votre formation dure {duration} jours\")"
   ]
  },
  {
   "cell_type": "code",
   "execution_count": null,
   "metadata": {},
   "outputs": [],
   "source": [
    "print(f'Votre formation a une durée de {duree_formation(duration)} heures')"
   ]
  }
 ],
 "metadata": {
  "kernelspec": {
   "display_name": "Python 3",
   "language": "python",
   "name": "python3"
  },
  "language_info": {
   "codemirror_mode": {
    "name": "ipython",
    "version": 3
   },
   "file_extension": ".py",
   "mimetype": "text/x-python",
   "name": "python",
   "nbconvert_exporter": "python",
   "pygments_lexer": "ipython3",
   "version": "3.7.0"
  }
 },
 "nbformat": 4,
 "nbformat_minor": 1
}
