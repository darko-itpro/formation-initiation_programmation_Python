{
 "cells": [
  {
   "cell_type": "markdown",
   "metadata": {},
   "source": [
    "# Fonctions et paramètres optionnels\n",
    "En Python, une fonction peut avoir un paramère optionnel. Un paramètre optionnel est un paramètre pour lequel l'appelant n'est pas obligé de fournir une donnée. Lors de l'exécution de la fonction, l'interpréteur utilisera le paramètre *par défaut* (au sens premier du terme) renseigné dans la déclaration.\n",
    "\n",
    "Nous avons donc le fonctionnement suivant :"
   ]
  },
  {
   "cell_type": "code",
   "execution_count": null,
   "metadata": {},
   "outputs": [],
   "source": [
    "def say_hello(who=\"World\"):\n",
    "    print(\"Hello\", who)"
   ]
  },
  {
   "cell_type": "code",
   "execution_count": null,
   "metadata": {},
   "outputs": [],
   "source": [
    "say_hello('Me')\n",
    "say_hello()"
   ]
  },
  {
   "cell_type": "markdown",
   "metadata": {},
   "source": [
    "Vous pouvez lors de l'appel d'une fonction déclarer un paramètre par son nom. Ceci esr utile lorsqu'il y a plusieurs paramètres optionnels et que vous souhaitez en modifier un en particulier ou pour améliorer la lisibilité."
   ]
  },
  {
   "cell_type": "code",
   "execution_count": null,
   "metadata": {},
   "outputs": [],
   "source": [
    "say_hello(who=\"Me\")"
   ]
  },
  {
   "cell_type": "markdown",
   "metadata": {},
   "source": [
    "## Exercices\n",
    "Dans la cellule suivante, nous allons généraliser la fonction de calcul de durée totale.\n",
    "\n",
    "Écrivez une fonction `duration_for` qui prend en paramètre une durée et possède un second paramètre qui représentant la durée unitaire. Ce second paramètre sera optionnel avec une valeur par défaut de 7."
   ]
  },
  {
   "cell_type": "code",
   "execution_count": null,
   "metadata": {},
   "outputs": [],
   "source": []
  },
  {
   "cell_type": "markdown",
   "metadata": {},
   "source": [
    "Notez que cette fonction, bien qu'elle s'appelle **duration_for**, n'impose aucune unité. Cette unité sera définie par le contexte d'utilisation.\n",
    "\n",
    "Dans la cellule suivante :\n",
    " - utilisez cette fonction pour calculer et afficher la durée en heure d'une formation de 5 jour (durée par défaut).\n",
    " - utilisez cette fonction pour calculer et afficher la durée en minutes d'une journée de cours ayant 5 cours de 50 minutes."
   ]
  },
  {
   "cell_type": "code",
   "execution_count": null,
   "metadata": {},
   "outputs": [],
   "source": []
  },
  {
   "cell_type": "markdown",
   "metadata": {},
   "source": [
    "Catte fonction généralisée, la prochaine étape est de la rendre disponible afin de l'utiliser dans plusieurs programmes."
   ]
  },
  {
   "cell_type": "code",
   "execution_count": null,
   "metadata": {},
   "outputs": [],
   "source": []
  }
 ],
 "metadata": {
  "kernelspec": {
   "display_name": "Python 3",
   "language": "python",
   "name": "python3"
  },
  "language_info": {
   "codemirror_mode": {
    "name": "ipython",
    "version": 3
   },
   "file_extension": ".py",
   "mimetype": "text/x-python",
   "name": "python",
   "nbconvert_exporter": "python",
   "pygments_lexer": "ipython3",
   "version": "3.7.0"
  }
 },
 "nbformat": 4,
 "nbformat_minor": 2
}
