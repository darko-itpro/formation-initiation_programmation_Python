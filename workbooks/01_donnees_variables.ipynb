{
 "cells": [
  {
   "cell_type": "markdown",
   "metadata": {},
   "source": [
    "# Découverte du langage\n",
    "## Manipuer des données, les variables\n",
    "La programmation a pour but de manipuler des données. Une manipulation commune est le calcul. Les calculs sont réalisés par les opérateurs mathématiques standards.\n",
    "\n",
    "Vous pouvez utiliser des données directement dans les instructions ou les affecter à des variables pour les utiliser *plus tard*. Dans le contexte du notebook, une variable déclarée dans une cellule peut être utilisée dans une autre cellule."
   ]
  },
  {
   "cell_type": "markdown",
   "metadata": {},
   "source": [
    "### Exercices\n",
    "Écrivez dans la cellule suivante la ou les instructions pour **afficher** la somme des valeurs 4 et 3"
   ]
  },
  {
   "cell_type": "code",
   "execution_count": null,
   "metadata": {},
   "outputs": [],
   "source": []
  },
  {
   "cell_type": "markdown",
   "metadata": {},
   "source": [
    "Un critère d'une formation est sa durée. La durée totale en nombre d'heures dépend de la durée d'une journée et du nombre de jours.\n",
    " * Soit une durée en heures de **7**.\n",
    " * Soit une durée de formation en jours de **2**.\n",
    "\n",
    "Dans la cellule suivante, écrivez la ou les instructions pour\n",
    " - afficher la durée en heures de travail par jour\n",
    " - afficher la durée en jours de la formation\n",
    "\n",
    "Mais attention, nous aurons besoin de ces valeurs dans la cellule suivante."
   ]
  },
  {
   "cell_type": "code",
   "execution_count": null,
   "metadata": {},
   "outputs": [],
   "source": []
  },
  {
   "cell_type": "markdown",
   "metadata": {},
   "source": [
    "Calculez et affichez la valeur de la durée en heures de la formation à l'aide des deux variables précédentes dans la cellule suivante."
   ]
  },
  {
   "cell_type": "code",
   "execution_count": null,
   "metadata": {},
   "outputs": [],
   "source": []
  },
  {
   "cell_type": "markdown",
   "metadata": {},
   "source": [
    "La cellule suivante déclare une variable `daily_duration`, vous ne devez évidemment pas modifier cette ligne.\n",
    "\n",
    "Affectez à une variable `days` une valeur correspondant au nombre de jours de formation. Multipliez les deux variables pour obtenir la durée en heure de la formation. **Attention au type…**"
   ]
  },
  {
   "cell_type": "code",
   "execution_count": null,
   "metadata": {},
   "outputs": [],
   "source": [
    "daily_duration = \"7\""
   ]
  }
 ],
 "metadata": {
  "kernelspec": {
   "display_name": "Python 3",
   "language": "python",
   "name": "python3"
  },
  "language_info": {
   "codemirror_mode": {
    "name": "ipython",
    "version": 3
   },
   "file_extension": ".py",
   "mimetype": "text/x-python",
   "name": "python",
   "nbconvert_exporter": "python",
   "pygments_lexer": "ipython3",
   "version": "3.8.0"
  }
 },
 "nbformat": 4,
 "nbformat_minor": 1
}