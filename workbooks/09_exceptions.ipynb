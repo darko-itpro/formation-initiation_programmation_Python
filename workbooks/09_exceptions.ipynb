{
 "cells": [
  {
   "cell_type": "markdown",
   "metadata": {},
   "source": [
    "# Les exceptions\n",
    "Un mecanisme important pour singaler qu'un code ne s'est pas comporté comme attendu est le mécanisme des exceptions. Tout code peut *lever* une exceptions. Par exemple :\n",
    "```pytho`\n",
    "int(\"toto\")\n",
    "```\n",
    "\n",
    "Observez d'ailleurs le comportement :"
   ]
  },
  {
   "cell_type": "code",
   "execution_count": null,
   "metadata": {},
   "outputs": [],
   "source": [
    "int(\"toto\")"
   ]
  },
  {
   "cell_type": "markdown",
   "metadata": {},
   "source": [
    "Une exception a élé levée. Python propose un ensemble d'exceptions, vous pouvez trouver la liste sur [la page de la documentation](https://docs.python.org/3/library/exceptions.html).\n",
    "\n",
    "## Capturer une exception\n",
    "Une exception est un message, une message qui informe qu'un code ne peut se terminer. Une exception doit être *capurée* par un code qui sait la gérer. Pour cela, il faut utiliser le bloc suivant :"
   ]
  },
  {
   "cell_type": "code",
   "execution_count": null,
   "metadata": {},
   "outputs": [],
   "source": [
    "try:\n",
    "    int(\"toto\")\n",
    "except ValueError:\n",
    "    print(\"Ce code a levé une exception et ce bloc l'a capturé\")"
   ]
  },
  {
   "cell_type": "markdown",
   "metadata": {},
   "source": [
    "Plusieurs exceptions peuvent être captuée par un même bloc `try` soit en les cumulant :"
   ]
  },
  {
   "cell_type": "code",
   "execution_count": null,
   "metadata": {},
   "outputs": [],
   "source": [
    "i = 4\n",
    "data = [\"Meaning of life\", \"42\"]\n",
    "try:\n",
    "    int(data[i])\n",
    "except ValueError, IndexError:\n",
    "    print(\"Je ne sais pas faire\")"
   ]
  },
  {
   "cell_type": "markdown",
   "metadata": {},
   "source": [
    "Soit avec plusieurs clauses `except`:"
   ]
  },
  {
   "cell_type": "code",
   "execution_count": null,
   "metadata": {},
   "outputs": [],
   "source": [
    "i = 4\n",
    "data = [\"Meaning of life\", \"42\"]\n",
    "try:\n",
    "    int(data[i])\n",
    "except ValueError:\n",
    "    print(\"Ceci n'est pas un entier\")\n",
    "except IndexError:\n",
    "    print(\"pas de donnée là\")"
   ]
  },
  {
   "cell_type": "markdown",
   "metadata": {},
   "source": [
    "## Lever une exception\n",
    "Un code doit lever une exception pour indiquer qu'il ne peut pas réaliser une tâche. Une exception est levée avec l'instruction `raise`:"
   ]
  },
  {
   "cell_type": "code",
   "execution_count": null,
   "metadata": {},
   "outputs": [],
   "source": [
    "def ma_func(value: int):\n",
    "    if value < 0:\n",
    "        raise ValueError(\"Can't handle negative value\")\n",
    "    \n",
    "    print(\"Ok\")\n",
    "    \n",
    "ma_func(-1)"
   ]
  },
  {
   "cell_type": "markdown",
   "metadata": {},
   "source": [
    "## Exercices\n",
    "\n",
    "Reprenez la fonction `duration_for` et ajoutez une levée d'exception des durées négatives sont passées en paramètre."
   ]
  },
  {
   "cell_type": "code",
   "execution_count": null,
   "metadata": {},
   "outputs": [],
   "source": [
    "def duration_for(how_many: int, unit_duration=7):\n",
    "    return int(how_many) * int(unit_duration)"
   ]
  },
  {
   "cell_type": "markdown",
   "metadata": {},
   "source": [
    "Complétez le code ci-dessous pour qu'il s'exécute bien pour chaque élément, mais qu'il informe lorsqu'il n'a pas pu être exécuté."
   ]
  },
  {
   "cell_type": "code",
   "execution_count": null,
   "metadata": {},
   "outputs": [],
   "source": [
    "trainings_duration = [5, 3, 3, 2, -1, 4]\n"
   ]
  }
 ],
 "metadata": {
  "kernelspec": {
   "display_name": "Python 3",
   "language": "python",
   "name": "python3"
  },
  "language_info": {
   "codemirror_mode": {
    "name": "ipython",
    "version": 3
   },
   "file_extension": ".py",
   "mimetype": "text/x-python",
   "name": "python",
   "nbconvert_exporter": "python",
   "pygments_lexer": "ipython3",
   "version": "3.7.0"
  }
 },
 "nbformat": 4,
 "nbformat_minor": 2
}
