{
 "cells": [
  {
   "cell_type": "markdown",
   "metadata": {},
   "source": [
    "## Les collections\n",
    "Les collections sont des types de données qui contiennent plusieurs données. Nous avons vu :\n",
    " * les chaines de caractères (`str`)\n",
    " * les listes (`list`)\n",
    " * les tuples (`tuple`)\n",
    " * les dictionnaires (`dict`)\n",
    " \n",
    "Listes et chaines de caractères sont des **séquences**. Les éléments sont ordonnés et peuvent être redondants. Vous pouvez accéder à un élément de la collection par son indice avec la sémantique suivante :\n",
    "```python\n",
    "knights = [\"Arthur\", \"Lancelot\", \"Galahad\", \"Robin\", \"Karadoc\"]\n",
    "knights[2] # retourne l'élément à l'indice 2\n",
    "```\n",
    "Vous pouvez tester cette instrucion dans la cellule suivante."
   ]
  },
  {
   "cell_type": "code",
   "execution_count": null,
   "metadata": {},
   "outputs": [],
   "source": [
    "knights = [\"Arthur\", \"Lancelot\", \"Galahad\", \"Robin\", \"Karadoc\"]\n",
    "print(knights[2])"
   ]
  },
  {
   "cell_type": "markdown",
   "metadata": {},
   "source": [
    "Vous pouvez également extraire une partie de la liste en sous-liste grâce au *slicing* :\n",
    "```python\n",
    "knights[2:4] # retourne une liste de 2 éléments\n",
    "knights[:2] # retourne la liste des deux premiers éléments\n",
    "```"
   ]
  },
  {
   "cell_type": "code",
   "execution_count": null,
   "metadata": {},
   "outputs": [],
   "source": [
    "print(knights[2:4])\n",
    "print(knights[:2])"
   ]
  },
  {
   "cell_type": "markdown",
   "metadata": {},
   "source": [
    "Vous pouvez avoir la taille de la collection avec la fonction\n",
    "```python\n",
    "len(knights)\n",
    "```\n",
    "En python, **tout est objet**. Un objet est une entité caractérisée par :\n",
    " - un état (des données)\n",
    " - des comportements (des fonctions associées appelées méthodes)\n",
    " \n",
    "Contrairement aux types numériques, les collections utilisent et se manipulent à l'aide de méthodes. Leur *état* correspond aux données contenues.\n",
    "Ainsi, si nous avons une liste, trier la liste est réalisé par une méthode :\n",
    "```python\n",
    "knights.sort() # tri la liste\n",
    "```\n",
    "Vous pouvez consulter les autres méthodes disponibles pour le type liste par les fonctions `dir(list)` et `help(list)`."
   ]
  },
  {
   "cell_type": "markdown",
   "metadata": {},
   "source": [
    "### Exercices - dictionnaires\n",
    "Les dictionnaires sont des collection clef/valeur. Les questions suivantes vont vous faire manipuler les instructions principales de la même manière que l'exercice précédent sur les listes. La cellule suivante crée un dictionnaire vide."
   ]
  },
  {
   "cell_type": "code",
   "execution_count": null,
   "metadata": {},
   "outputs": [],
   "source": [
    "training = {}"
   ]
  },
  {
   "cell_type": "markdown",
   "metadata": {},
   "source": [
    "Ajoutez une clef `subject` avec la valeur `Python`"
   ]
  },
  {
   "cell_type": "code",
   "execution_count": null,
   "metadata": {},
   "outputs": [],
   "source": []
  },
  {
   "cell_type": "markdown",
   "metadata": {},
   "source": [
    "Ajoutez une clef `duration` avec la valeur correspondant au nombre de jours de formation (ce nombre de jours est un entier"
   ]
  },
  {
   "cell_type": "code",
   "execution_count": null,
   "metadata": {},
   "outputs": [],
   "source": []
  },
  {
   "cell_type": "markdown",
   "metadata": {},
   "source": [
    "Affichez si la clef `attendents` existe (l'instruction doit afficher `True` ou `False`)"
   ]
  },
  {
   "cell_type": "code",
   "execution_count": null,
   "metadata": {},
   "outputs": [],
   "source": []
  },
  {
   "cell_type": "markdown",
   "metadata": {},
   "source": [
    "Créez la clef `attendents` et affectez lui une valeur correspondant au nombre de stagiaires."
   ]
  },
  {
   "cell_type": "code",
   "execution_count": null,
   "metadata": {},
   "outputs": [],
   "source": []
  },
  {
   "cell_type": "markdown",
   "metadata": {},
   "source": [
    "Affichez la liste des clefs"
   ]
  },
  {
   "cell_type": "code",
   "execution_count": null,
   "metadata": {},
   "outputs": [],
   "source": []
  },
  {
   "cell_type": "markdown",
   "metadata": {},
   "source": [
    "Vous avez déjà vu que nous créons ici une donnée structurée représentant une formation de manière similaire à l'exercice sur les listes.\n",
    "\n",
    "Nous allons vouloir incrémenter le nombre de participants. Pour cela, nous allons définir une fonction qui prend 2 paramètres : une collection (le dictionnaire) et un entier (le nombre de participants à ajouter). Cette fonction doit retourner le dictionnaire avec le nombre de participants incrémenté."
   ]
  },
  {
   "cell_type": "code",
   "execution_count": null,
   "metadata": {},
   "outputs": [],
   "source": []
  },
  {
   "cell_type": "code",
   "execution_count": null,
   "metadata": {},
   "outputs": [],
   "source": []
  },
  {
   "cell_type": "markdown",
   "metadata": {},
   "source": [
    "Mais cette fonction a un défaut : si la clef `attendents` n'exsite pas, elle plante.\n",
    "\n",
    "Cette clef a tout de même une particularité : son absence a un sens, c'est à dire peut représenter une valeur. En absence de cette clef, il n'y pas d'inscrits. Si il n'y a pas d'inscrits, leur nombre est de 0.\n",
    "\n",
    "Python permet de représenter cela, la fonction va donc devenir :"
   ]
  },
  {
   "cell_type": "code",
   "execution_count": null,
   "metadata": {},
   "outputs": [],
   "source": []
  }
 ],
 "metadata": {
  "kernelspec": {
   "display_name": "Python 3",
   "language": "python",
   "name": "python3"
  },
  "language_info": {
   "codemirror_mode": {
    "name": "ipython",
    "version": 3
   },
   "file_extension": ".py",
   "mimetype": "text/x-python",
   "name": "python",
   "nbconvert_exporter": "python",
   "pygments_lexer": "ipython3",
   "version": "3.7.0"
  }
 },
 "nbformat": 4,
 "nbformat_minor": 2
}
