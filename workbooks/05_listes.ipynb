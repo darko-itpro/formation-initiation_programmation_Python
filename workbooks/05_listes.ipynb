{
 "cells": [
  {
   "cell_type": "markdown",
   "metadata": {},
   "source": [
    "## Les collections\n",
    "Les collections sont des types de données qui contiennent plusieurs données. Nous avons vu :\n",
    " * les chaines de caractères (`str`)\n",
    " * les listes (`list`)\n",
    " * les tuples (`tuple`)\n",
    " * les dictionnaires (`dict`)\n",
    " \n",
    "Listes et chaines de caractères sont des **séquences**. Les éléments sont ordonnés et peuvent être redondants. Vous pouvez accéder à un élément de la collection par son indice avec la sémantique suivante :\n",
    "```python\n",
    "knights = [\"Arthur\", \"Lancelot\", \"Galahad\", \"Robin\", \"Karadoc\"]\n",
    "knights[2] # retourne l'élément à l'indice 2\n",
    "```\n",
    "Vous pouvez tester cette instrucion dans la cellule suivante."
   ]
  },
  {
   "cell_type": "code",
   "execution_count": null,
   "metadata": {},
   "outputs": [],
   "source": [
    "knights = [\"Arthur\", \"Lancelot\", \"Galahad\", \"Robin\", \"Karadoc\"]\n",
    "print(knights[2])"
   ]
  },
  {
   "cell_type": "markdown",
   "metadata": {},
   "source": [
    "Vous pouvez également extraire une partie de la liste en sous-liste grâce au *slicing* :\n",
    "```python\n",
    "knights[2:4] # retourne une liste de 2 éléments\n",
    "knights[:2] # retourne la liste des deux premiers éléments\n",
    "```"
   ]
  },
  {
   "cell_type": "code",
   "execution_count": null,
   "metadata": {},
   "outputs": [],
   "source": [
    "print(knights[2:4])\n",
    "print(knights[:2])"
   ]
  },
  {
   "cell_type": "markdown",
   "metadata": {},
   "source": [
    "Vous pouvez avoir la taille de la collection avec la fonction\n",
    "```python\n",
    "len(knights)\n",
    "```\n",
    "En python, **tout est objet**. Un objet est une entité caractérisée par :\n",
    " - un état (des données)\n",
    " - des comportements (des fonctions associées appelées méthodes)\n",
    " \n",
    "Contrairement aux types numériques, les collections utilisent et se manipulent à l'aide de méthodes. Leur *état* correspond aux données contenues.\n",
    "Ainsi, si nous avons une liste, trier la liste est réalisé par une méthode :\n",
    "```python\n",
    "knights.sort() # tri la liste\n",
    "```\n",
    "Vous pouvez consulter les autres méthodes disponibles pour le type liste par les fonctions `dir(list)` et `help(list)`."
   ]
  },
  {
   "cell_type": "markdown",
   "metadata": {},
   "source": [
    "### Exercices - listes\n",
    "Pour l'exercice suivant, il y a plusieurs manipulations sur la liste définie ci-dessous. Pour une question de lisibilité, chaque question est à traiter dans sa cellule. **Attention**, l'enchainement des instructions transformera la liste, leur séquence est donc importante. Aussi, je vous conseille à chaque fois d'exécute **toutes** les cellules.\n",
    "\n",
    "La liste suivante représente la saison 12 de Big Bang Theory. Nous allons extraire des informations de cette liste."
   ]
  },
  {
   "cell_type": "code",
   "execution_count": null,
   "metadata": {},
   "outputs": [],
   "source": [
    "bbt_s12 = [\"The Conjugal Configuration\",\n",
    "           \"The Wedding Gift Wormhole\",\n",
    "           \"The Procreation Calculation\",\n",
    "           \"The Tam Turbulence\",\n",
    "           \"The Planetarium Collision\",\n",
    "           \"The Imitation Perturbation\",\n",
    "           \"The Grant Allocation Derivation\",\n",
    "           \"The Consummation Deviation\",\n",
    "           \"The Citation Negation\",\n",
    "           \"The VCR Illumination\",\n",
    "           \"The Paintball Scattering\",\n",
    "           \"The Propagation Proposition\",\n",
    "           \"The Confirmation Polarization\",\n",
    "           \"The Meteorite Manifestation\",\n",
    "           \"The Donation Oscillation\",\n",
    "           \"The D & D Vortex\",\n",
    "           \"The Conference Valuation\",\n",
    "           \"The Laureate Accumulation\",\n",
    "           \"The Inspiration Deprivation\",\n",
    "           \"The Decision Reverberation\",\n",
    "           \"The Plagiarism Schism\",\n",
    "           \"The Maternal Conclusion\",\n",
    "           \"The Change Constant\",\n",
    "           \"The Stockholm Syndrome\"]"
   ]
  },
  {
   "cell_type": "markdown",
   "metadata": {},
   "source": [
    "Nous considérons que chaque épisode dure 24 minutes, combien de temps (en minutes ou en heures/minutes) dure la saison ?"
   ]
  },
  {
   "cell_type": "code",
   "execution_count": null,
   "metadata": {},
   "outputs": [],
   "source": []
  },
  {
   "cell_type": "markdown",
   "metadata": {},
   "source": [
    "Il faudra aller au lit dans 2 heures maximum. Déterminez le nombre d'épisodes qu'il sera possible de visionner à la suite en entier. Créez une liste extraite du début de bbt_s12 de ces épisodes."
   ]
  },
  {
   "cell_type": "code",
   "execution_count": null,
   "metadata": {},
   "outputs": [],
   "source": []
  },
  {
   "cell_type": "markdown",
   "metadata": {},
   "source": [
    "Quel est le titre du dernier épisode de cette liste extraite ?"
   ]
  },
  {
   "cell_type": "code",
   "execution_count": null,
   "metadata": {},
   "outputs": [],
   "source": []
  },
  {
   "cell_type": "markdown",
   "metadata": {},
   "source": [
    "Créez une copie de la liste de la saison 12 associée à la variable `playlist` dans la cellule suivante. Cette variable nous permettra de gérer notre avancée dans la série."
   ]
  },
  {
   "cell_type": "code",
   "execution_count": null,
   "metadata": {},
   "outputs": [],
   "source": []
  },
  {
   "cell_type": "markdown",
   "metadata": {},
   "source": [
    "Récupérez le nom du premier épisode à visionner pour l'afficher et supprimez-le de la liste. Exécutez cette ou ces instruction(s) plusieurs fois (jusqu'à arriver à au dernier épisode à regarder dans les 2 heures par exemple).\n",
    "\n",
    "note : dans le contexte de cet exercice, recopiez la ou les instructions autant de fois que nécessaire. Nous allons voir les itérations dans la partie suivante."
   ]
  },
  {
   "cell_type": "code",
   "execution_count": null,
   "metadata": {},
   "outputs": [],
   "source": []
  },
  {
   "cell_type": "markdown",
   "metadata": {},
   "source": [
    "La variable `playlist` ne contient maintenant que les épisodes restant à voir. Utilisez cette liste pour calculer la durée restante de la saison. Comparez cette durée à celle de la saison entière que vous obtenez grâce à la liste `bbt_s12`.\n",
    "Que remarquez-vous ?"
   ]
  },
  {
   "cell_type": "code",
   "execution_count": null,
   "metadata": {},
   "outputs": [],
   "source": [
    "print('Durée restante :', h.duration_for(len(playlist), 24))\n",
    "print('Durée saison :', h.duration_for(len(bbt_s12), 24))"
   ]
  }
 ],
 "metadata": {
  "kernelspec": {
   "display_name": "Python 3",
   "language": "python",
   "name": "python3"
  },
  "language_info": {
   "codemirror_mode": {
    "name": "ipython",
    "version": 3
   },
   "file_extension": ".py",
   "mimetype": "text/x-python",
   "name": "python",
   "nbconvert_exporter": "python",
   "pygments_lexer": "ipython3",
   "version": "3.7.0"
  }
 },
 "nbformat": 4,
 "nbformat_minor": 2
}
