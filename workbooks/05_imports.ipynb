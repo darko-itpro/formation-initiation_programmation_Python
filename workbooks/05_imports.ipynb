{
 "cells": [
  {
   "cell_type": "markdown",
   "metadata": {},
   "source": [
    "# Imports\n",
    "Avant d'utiliser un module, il faut l'importer.\n",
    "\n",
    "Ce workbook est destiné à illustrer les différents modes d'import et pour ce faire entraine une structure particulière.\n",
    "\n",
    "Le répertoire workbooks contient un package `stage` contenant un module uniquement destiné à cette illustration. Il ne s'agit pas du package racine. Ceci est nécessaire du fait du répertoire de lancement des notebooks."
   ]
  },
  {
   "cell_type": "code",
   "execution_count": 2,
   "metadata": {},
   "outputs": [],
   "source": [
    "collection = []"
   ]
  }
 ],
 "metadata": {
  "kernelspec": {
   "display_name": "Python 3",
   "language": "python",
   "name": "python3"
  },
  "language_info": {
   "codemirror_mode": {
    "name": "ipython",
    "version": 3
   },
   "file_extension": ".py",
   "mimetype": "text/x-python",
   "name": "python",
   "nbconvert_exporter": "python",
   "pygments_lexer": "ipython3",
   "version": "3.7.0"
  }
 },
 "nbformat": 4,
 "nbformat_minor": 2
}
