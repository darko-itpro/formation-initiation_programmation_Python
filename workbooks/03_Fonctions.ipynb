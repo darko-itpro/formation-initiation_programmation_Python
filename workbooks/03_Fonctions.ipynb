{
 "cells": [
  {
   "cell_type": "markdown",
   "metadata": {},
   "source": [
    "# Les Fonctions\n",
    "Les fonctions permettent de grouper des instructions et de les appeler par un nom logique. Ceci permet entre-autres de limiter la duplication de code. Les fonctions peuvent attendre des paramètres et retourner des données.\n",
    "\n",
    "Les fonctions sont définies par l'instruction **def** et sont appelées par leur nom suivi de parenthèses. Les parenthèses déclarent les paramètres attendus."
   ]
  },
  {
   "cell_type": "code",
   "execution_count": null,
   "metadata": {},
   "outputs": [
    {
     "name": "stdout",
     "output_type": "stream",
     "text": [
      "Something\n"
     ]
    }
   ],
   "source": [
    "def print_something():\n",
    "    print(\"Something\")\n",
    "    \n",
    "print_something()"
   ]
  },
  {
   "cell_type": "markdown",
   "metadata": {},
   "source": [
    "`print_something` n'attends pas de paramètre. Vous pouvez l'appeler dans la cellule suivante (après avoir exécuté la cellule précédente afin que la fonction soit connue dans le notebook actuel)."
   ]
  },
  {
   "cell_type": "code",
   "execution_count": null,
   "metadata": {
    "collapsed": true
   },
   "outputs": [],
   "source": []
  },
  {
   "cell_type": "markdown",
   "metadata": {},
   "source": [
    "Les fonctions peuvent avoir des paramètres. Vous pouvez tester la fonction suivante en lui passant un paramètre."
   ]
  },
  {
   "cell_type": "code",
   "execution_count": null,
   "metadata": {
    "collapsed": true
   },
   "outputs": [],
   "source": [
    "def print_param(param_to_print):\n",
    "    print(\"exécuté avec\", param_to_print)"
   ]
  },
  {
   "cell_type": "code",
   "execution_count": null,
   "metadata": {},
   "outputs": [],
   "source": []
  },
  {
   "cell_type": "markdown",
   "metadata": {},
   "source": [
    "Vous pouvez déclarer des paramètres optionnels. Pour cela, une valeur par défaut doit être attribuée dans la signature de la fonction."
   ]
  },
  {
   "cell_type": "code",
   "execution_count": null,
   "metadata": {},
   "outputs": [],
   "source": [
    "def print_hello(who=\"World\"):\n",
    "    print(\"Hello {}\".format(who))\n",
    "    \n",
    "print_hello()\n",
    "print_hello(\"Me\")\n",
    "print_hello(who=\"You\")"
   ]
  },
  {
   "cell_type": "markdown",
   "metadata": {},
   "source": [
    "## Exercices\n",
    "\n",
    "### Compteur d'éléments\n",
    "Vous vous souvenez que les instructions des derniers exercices sur les boucles étaient très similaires ? Écrivez une fonction qui permet d'afficher chaque élément d'une séquence.\n",
    "\n",
    "* Affichez chaque caractère d'une chaine à l'aide de cette fonction.\n",
    "* Affichez chaque élément d'une liste à l'aide de cette fonction.\n",
    "* Afficher chaque mot de la chaîne de caractère à l'aide de cette fonction."
   ]
  },
  {
   "cell_type": "code",
   "execution_count": null,
   "metadata": {
    "collapsed": true
   },
   "outputs": [],
   "source": [
    "CHAR_STRING = \"Chaine de plusieurs mots\"\n",
    "ELEMENTS_LIST = [\"Liste\", \"de\", \"plusieurs\", \"elements\"]\n",
    "# Écrivez votre fonction à la suite"
   ]
  },
  {
   "cell_type": "code",
   "execution_count": null,
   "metadata": {},
   "outputs": [],
   "source": [
    "#Affichez chaque caractère d'une chaine à l'aide de cette fonction."
   ]
  },
  {
   "cell_type": "code",
   "execution_count": null,
   "metadata": {},
   "outputs": [],
   "source": [
    "#Affichez chaque élément d'une liste à l'aide de cette fonction."
   ]
  },
  {
   "cell_type": "code",
   "execution_count": null,
   "metadata": {},
   "outputs": [],
   "source": [
    "#Afficher chaque mot de la chaîne de caractère à l'aide de cette fonction."
   ]
  },
  {
   "cell_type": "markdown",
   "metadata": {},
   "source": [
    "Avez-vous remarqué que vous avez utilisé la même fonction pour des paramètres de types différents ? En Python, le type des données n'est pas important, c'est le principe du Duck Typing qui se résume par :\n",
    "\n",
    "> Si je vois un animal qui vole comme un canard, cancane comme un canard, et nage comme un canard, alors j'appelle cet oiseau un canard"
   ]
  },
  {
   "cell_type": "markdown",
   "metadata": {},
   "source": [
    "### Test de palindromes - exercice d'illustration\n",
    "Une fonction permet également d'éviter les imbrications excessives de structures et ainsi rendre le code plus compréhensible.\n",
    "\n",
    "Pour l'exercice suivant, nous souhaitons tester si chaque chaine de la liste `SENTENCES` est un palindrome. Le palindrome est une figure de style désignant un texte ou un mot dont l'ordre des lettres (hors espaces) reste le même qu'on le lise de gauche à droite ou de droite à gauche.\n",
    "\n",
    "Nous souhaitons donc générer une liste `palindrom_result` où chaque élément `palindrom_result[i]` est un booléen de valeur `True` si l'élément à `SENTENCES[i]` est un palindrome, `False` sinon.\n",
    "\n",
    "Vous n'avez à priori pas besoin d'une fonction pour générer cette liste. Écrivez le code générant la liste `palindrom_result`.\n",
    "\n",
    "**Rappel** : pour itérer sur une collection tout en récupérant l'indice, vous avez la fonction `enumerate(collection)` :\n",
    "```python\n",
    ">>> for element in enumerate('radar'):\n",
    "...     print(element)\n",
    "...\n",
    "(0, 'r')\n",
    "(1, 'a')\n",
    "(2, 'd')\n",
    "(3, 'a')\n",
    "(4, 'r')\n",
    "```\n",
    "L'usage d'indices négatifs permet d'accéder aux éléments d'une collection à partir de la fin :\n",
    "```python\n",
    ">>> print('Esope'[-1])\n",
    "e\n",
    "```"
   ]
  },
  {
   "cell_type": "code",
   "execution_count": null,
   "metadata": {},
   "outputs": [],
   "source": [
    "SENTENCES = [\"Esope reste ici et se repose\",\n",
    "             \"La mariée ira mal\",\n",
    "             \"radar\"]"
   ]
  },
  {
   "cell_type": "markdown",
   "metadata": {},
   "source": [
    "Vous pouvez extraire une fonction de ce code. La fonction s'appellera `is_palindrome(sequence)` et retournera un booléen. Réécrivez le en conséquence."
   ]
  },
  {
   "cell_type": "code",
   "execution_count": null,
   "metadata": {},
   "outputs": [],
   "source": []
  },
  {
   "cell_type": "markdown",
   "metadata": {},
   "source": [
    "Si vous êtes en avance, vous pouvez voir les [exercices avancés](http://localhost:8888/notebooks/workbooks/03bis_fonctions.ipynb)."
   ]
  },
  {
   "cell_type": "code",
   "execution_count": null,
   "metadata": {},
   "outputs": [],
   "source": []
  }
 ],
 "metadata": {
  "kernelspec": {
   "display_name": "Python 3",
   "language": "python",
   "name": "python3"
  },
  "language_info": {
   "codemirror_mode": {
    "name": "ipython",
    "version": 3
   },
   "file_extension": ".py",
   "mimetype": "text/x-python",
   "name": "python",
   "nbconvert_exporter": "python",
   "pygments_lexer": "ipython3",
   "version": "3.7.0"
  }
 },
 "nbformat": 4,
 "nbformat_minor": 1
}
