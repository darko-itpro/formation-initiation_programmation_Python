{
 "cells": [
  {
   "cell_type": "markdown",
   "metadata": {},
   "source": [
    "### Synthèse : Tables de multiplication\n",
    "\n",
    "Cet exercice va vous permettre d'exploiter plusieurs techniques vues jusqu'ici.\n",
    "* Ecrire une fonction qui affiche une table de multiplication de la valeur passée en paramètre sous la forme ci-dessous (pour la table de 4). La manière la plus simple d'afficher des données sous cette forme est dans un paramètre de la fonction print(). Il ne vous a pas été présenté, mais vous devez être capable de le retrouver.\n",
    "\n",
    "```\n",
    "   4 |   8 |  12 |  16 |  20 |  24 |  28 |  32 |  36 |  40\n",
    "```\n",
    "* La fonction table multiplication doit avoir un paramètre optionnel **multiplicateur_max** qui est par défaut à 10.\n",
    "* Ecrire une fonction qui à l'aide de la fonction précédente affiche la table de Pythagore avec le format suivant :\n",
    "\n",
    "```\n",
    "---------------------------------------------------------\n",
    "  1 |   2 |   3 |   4 |   5 |   6 |   7 |   8 |   9 |  10\n",
    "  2 |   4 |   6 |   8 |  10 |  12 |  14 |  16 |  18 |  20\n",
    "  3 |   6 |   9 |  12 |  15 |  18 |  21 |  24 |  27 |  30\n",
    "  4 |   8 |  12 |  16 |  20 |  24 |  28 |  32 |  36 |  40\n",
    "  5 |  10 |  15 |  20 |  25 |  30 |  35 |  40 |  45 |  50\n",
    "  6 |  12 |  18 |  24 |  30 |  36 |  42 |  48 |  54 |  60\n",
    "  7 |  14 |  21 |  28 |  35 |  42 |  49 |  56 |  63 |  70\n",
    "  8 |  16 |  24 |  32 |  40 |  48 |  56 |  64 |  72 |  80\n",
    "  9 |  18 |  27 |  36 |  45 |  54 |  63 |  72 |  81 |  90\n",
    " 10 |  20 |  30 |  40 |  50 |  60 |  70 |  80 |  90 | 100\n",
    " ---------------------------------------------------------\n",
    " ```"
   ]
  },
  {
   "cell_type": "code",
   "execution_count": null,
   "metadata": {
    "collapsed": true
   },
   "outputs": [],
   "source": []
  }
 ],
 "metadata": {
  "kernelspec": {
   "display_name": "Python 3",
   "language": "python",
   "name": "python3"
  },
  "language_info": {
   "codemirror_mode": {
    "name": "ipython",
    "version": 3
   },
   "file_extension": ".py",
   "mimetype": "text/x-python",
   "name": "python",
   "nbconvert_exporter": "python",
   "pygments_lexer": "ipython3",
   "version": "3.6.0"
  }
 },
 "nbformat": 4,
 "nbformat_minor": 2
}
