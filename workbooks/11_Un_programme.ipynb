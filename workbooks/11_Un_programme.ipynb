{
 "cells": [
  {
   "cell_type": "markdown",
   "metadata": {},
   "source": [
    "# Un programme dans un calepin\n",
    "\n",
    "Les calepins Jupyter peuvent être considérés comme des programmes. Ce calepin va justement servir à créer un programme au fur et à mesure de la formation. Le sujet sera donné durant la formation.\n",
    "\n",
    "Pour commencer, un programme nécessite des données à traiter. Dans le cas des calepins, nous allons dédier la première cellule de code à la déclaration des données nécessaires."
   ]
  },
  {
   "cell_type": "code",
   "execution_count": null,
   "metadata": {},
   "outputs": [],
   "source": []
  },
  {
   "cell_type": "markdown",
   "metadata": {},
   "source": [
    "Dans la suivante, si nécessaire nous allons commencer par importer les dépendances. Puis si nécessaire déclarer les constantes et fonctions. Puis les traitements nécessaires."
   ]
  },
  {
   "cell_type": "code",
   "execution_count": null,
   "metadata": {},
   "outputs": [],
   "source": []
  }
 ],
 "metadata": {
  "kernelspec": {
   "display_name": "Python 3",
   "language": "python",
   "name": "python3"
  },
  "language_info": {
   "codemirror_mode": {
    "name": "ipython",
    "version": 3
   },
   "file_extension": ".py",
   "mimetype": "text/x-python",
   "name": "python",
   "nbconvert_exporter": "python",
   "pygments_lexer": "ipython3",
   "version": "3.8.0"
  }
 },
 "nbformat": 4,
 "nbformat_minor": 2
}
