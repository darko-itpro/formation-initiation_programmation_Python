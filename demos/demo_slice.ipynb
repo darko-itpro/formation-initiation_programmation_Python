{
 "cells": [
  {
   "metadata": {},
   "cell_type": "markdown",
   "source": "# Listes, seconde partie",
   "id": "ffab0ccfa90f9adc"
  },
  {
   "cell_type": "code",
   "id": "initial_id",
   "metadata": {
    "collapsed": true,
    "ExecuteTime": {
     "end_time": "2024-10-31T14:16:29.187850Z",
     "start_time": "2024-10-31T14:16:29.185359Z"
    }
   },
   "source": "camelot = [\"Arthur\", \"Merlin\", \"Lancelot\", \"Robin\", \"Perceval\", \"Karadoc\"]",
   "outputs": [],
   "execution_count": 1
  },
  {
   "metadata": {
    "ExecuteTime": {
     "end_time": "2024-10-31T14:16:39.979107Z",
     "start_time": "2024-10-31T14:16:39.973770Z"
    }
   },
   "cell_type": "code",
   "source": "\"Merlin\" in camelot",
   "id": "3246261e74a50a88",
   "outputs": [
    {
     "data": {
      "text/plain": [
       "True"
      ]
     },
     "execution_count": 2,
     "metadata": {},
     "output_type": "execute_result"
    }
   ],
   "execution_count": 2
  },
  {
   "metadata": {
    "ExecuteTime": {
     "end_time": "2024-10-31T14:18:31.055257Z",
     "start_time": "2024-10-31T14:18:31.050780Z"
    }
   },
   "cell_type": "code",
   "source": "camelot[-1]",
   "id": "ba10941ede9a115",
   "outputs": [
    {
     "data": {
      "text/plain": [
       "'Karadoc'"
      ]
     },
     "execution_count": 5,
     "metadata": {},
     "output_type": "execute_result"
    }
   ],
   "execution_count": 5
  },
  {
   "metadata": {
    "ExecuteTime": {
     "end_time": "2024-10-31T14:19:42.003Z",
     "start_time": "2024-10-31T14:19:41.999836Z"
    }
   },
   "cell_type": "code",
   "source": "camelot = [\"Arthur\", \"Merlin\", \"Lancelot\", \"Robin\", \"Perceval\", \"Karadoc\"]",
   "id": "2a8ad307b9fc2724",
   "outputs": [],
   "execution_count": 6
  },
  {
   "metadata": {
    "ExecuteTime": {
     "end_time": "2024-10-31T14:20:19.541175Z",
     "start_time": "2024-10-31T14:20:19.537057Z"
    }
   },
   "cell_type": "code",
   "source": "camelot[1:4]",
   "id": "6e623c86105296f9",
   "outputs": [
    {
     "data": {
      "text/plain": [
       "['Merlin', 'Lancelot', 'Robin']"
      ]
     },
     "execution_count": 7,
     "metadata": {},
     "output_type": "execute_result"
    }
   ],
   "execution_count": 7
  },
  {
   "metadata": {
    "ExecuteTime": {
     "end_time": "2024-10-31T14:21:22.911461Z",
     "start_time": "2024-10-31T14:21:22.908373Z"
    }
   },
   "cell_type": "code",
   "source": "camelot[3:10]",
   "id": "92d1868567fda4ff",
   "outputs": [
    {
     "data": {
      "text/plain": [
       "['Robin', 'Perceval', 'Karadoc']"
      ]
     },
     "execution_count": 8,
     "metadata": {},
     "output_type": "execute_result"
    }
   ],
   "execution_count": 8
  },
  {
   "metadata": {
    "ExecuteTime": {
     "end_time": "2024-10-31T14:21:33.296371Z",
     "start_time": "2024-10-31T14:21:33.292959Z"
    }
   },
   "cell_type": "code",
   "source": "camelot[10:100]",
   "id": "a10ec78cb7030e18",
   "outputs": [
    {
     "data": {
      "text/plain": [
       "[]"
      ]
     },
     "execution_count": 9,
     "metadata": {},
     "output_type": "execute_result"
    }
   ],
   "execution_count": 9
  },
  {
   "metadata": {
    "ExecuteTime": {
     "end_time": "2024-10-31T14:22:26.024783Z",
     "start_time": "2024-10-31T14:22:26.022132Z"
    }
   },
   "cell_type": "code",
   "source": "camelot[:2]",
   "id": "c33a025bdfd953d5",
   "outputs": [
    {
     "data": {
      "text/plain": [
       "['Arthur', 'Merlin']"
      ]
     },
     "execution_count": 10,
     "metadata": {},
     "output_type": "execute_result"
    }
   ],
   "execution_count": 10
  },
  {
   "metadata": {
    "ExecuteTime": {
     "end_time": "2024-10-31T14:24:12.696197Z",
     "start_time": "2024-10-31T14:24:12.691898Z"
    }
   },
   "cell_type": "code",
   "source": "camelot[2:]",
   "id": "d2b333190f11dde0",
   "outputs": [
    {
     "data": {
      "text/plain": [
       "['Lancelot', 'Robin', 'Perceval', 'Karadoc']"
      ]
     },
     "execution_count": 11,
     "metadata": {},
     "output_type": "execute_result"
    }
   ],
   "execution_count": 11
  },
  {
   "metadata": {
    "ExecuteTime": {
     "end_time": "2024-10-31T14:24:34.604995Z",
     "start_time": "2024-10-31T14:24:34.602380Z"
    }
   },
   "cell_type": "code",
   "source": "camelot[-2:]",
   "id": "e9a1fcc026a70a81",
   "outputs": [
    {
     "data": {
      "text/plain": [
       "['Perceval', 'Karadoc']"
      ]
     },
     "execution_count": 12,
     "metadata": {},
     "output_type": "execute_result"
    }
   ],
   "execution_count": 12
  },
  {
   "metadata": {
    "ExecuteTime": {
     "end_time": "2024-10-31T14:25:03.342526Z",
     "start_time": "2024-10-31T14:25:03.338411Z"
    }
   },
   "cell_type": "code",
   "source": "camelot[:]",
   "id": "81c6389b671d3c12",
   "outputs": [
    {
     "data": {
      "text/plain": [
       "['Arthur', 'Merlin', 'Lancelot', 'Robin', 'Perceval', 'Karadoc']"
      ]
     },
     "execution_count": 13,
     "metadata": {},
     "output_type": "execute_result"
    }
   ],
   "execution_count": 13
  },
  {
   "metadata": {
    "ExecuteTime": {
     "end_time": "2024-10-31T14:25:22.970901Z",
     "start_time": "2024-10-31T14:25:22.966614Z"
    }
   },
   "cell_type": "code",
   "source": "camelot[::2]",
   "id": "6f385caf39cf58ff",
   "outputs": [
    {
     "data": {
      "text/plain": [
       "['Arthur', 'Lancelot', 'Perceval']"
      ]
     },
     "execution_count": 14,
     "metadata": {},
     "output_type": "execute_result"
    }
   ],
   "execution_count": 14
  },
  {
   "metadata": {
    "ExecuteTime": {
     "end_time": "2024-10-31T14:27:03.049842Z",
     "start_time": "2024-10-31T14:27:03.046320Z"
    }
   },
   "cell_type": "code",
   "source": "camelot[0][::-1]",
   "id": "1605b0c1a8077c30",
   "outputs": [
    {
     "data": {
      "text/plain": [
       "'ruhtrA'"
      ]
     },
     "execution_count": 18,
     "metadata": {},
     "output_type": "execute_result"
    }
   ],
   "execution_count": 18
  },
  {
   "metadata": {
    "ExecuteTime": {
     "end_time": "2024-10-31T14:31:56.266502Z",
     "start_time": "2024-10-31T14:31:56.263681Z"
    }
   },
   "cell_type": "code",
   "source": "camelot[0:2]",
   "id": "8efc751f83d6885c",
   "outputs": [
    {
     "data": {
      "text/plain": [
       "['Arthur', 'Merlin']"
      ]
     },
     "execution_count": 19,
     "metadata": {},
     "output_type": "execute_result"
    }
   ],
   "execution_count": 19
  },
  {
   "metadata": {
    "ExecuteTime": {
     "end_time": "2024-10-31T14:32:20.870420Z",
     "start_time": "2024-10-31T14:32:20.866960Z"
    }
   },
   "cell_type": "code",
   "source": "camelot[2:4]",
   "id": "803fba1043f1e900",
   "outputs": [
    {
     "data": {
      "text/plain": [
       "['Lancelot', 'Robin']"
      ]
     },
     "execution_count": 20,
     "metadata": {},
     "output_type": "execute_result"
    }
   ],
   "execution_count": 20
  },
  {
   "metadata": {},
   "cell_type": "code",
   "outputs": [],
   "execution_count": null,
   "source": "",
   "id": "c03ab573bc1ab575"
  }
 ],
 "metadata": {
  "kernelspec": {
   "display_name": "Python 3",
   "language": "python",
   "name": "python3"
  },
  "language_info": {
   "codemirror_mode": {
    "name": "ipython",
    "version": 2
   },
   "file_extension": ".py",
   "mimetype": "text/x-python",
   "name": "python",
   "nbconvert_exporter": "python",
   "pygments_lexer": "ipython2",
   "version": "2.7.6"
  }
 },
 "nbformat": 4,
 "nbformat_minor": 5
}
