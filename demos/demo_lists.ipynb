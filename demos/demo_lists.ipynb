{
 "cells": [
  {
   "metadata": {},
   "cell_type": "markdown",
   "source": [
    "# Les listes\n",
    "Présrantion des listes"
   ],
   "id": "db942fdfd57b7818"
  },
  {
   "metadata": {
    "ExecuteTime": {
     "end_time": "2024-10-28T14:17:49.139212Z",
     "start_time": "2024-10-28T14:17:49.134232Z"
    }
   },
   "cell_type": "code",
   "source": "type([])",
   "id": "397eab07a48c3088",
   "outputs": [
    {
     "data": {
      "text/plain": [
       "list"
      ]
     },
     "execution_count": 3,
     "metadata": {},
     "output_type": "execute_result"
    }
   ],
   "execution_count": 3
  },
  {
   "metadata": {
    "ExecuteTime": {
     "end_time": "2024-10-28T14:18:49.270715Z",
     "start_time": "2024-10-28T14:18:49.268405Z"
    }
   },
   "cell_type": "code",
   "source": "quizz = [\"Meaning of life\", 42]",
   "id": "686208bc2d7e6ff",
   "outputs": [],
   "execution_count": 5
  },
  {
   "metadata": {
    "ExecuteTime": {
     "end_time": "2024-10-28T14:19:19.064872Z",
     "start_time": "2024-10-28T14:19:19.061420Z"
    }
   },
   "cell_type": "code",
   "source": "quizz[0]",
   "id": "34d1e18f14355944",
   "outputs": [
    {
     "data": {
      "text/plain": [
       "'Meaning of life'"
      ]
     },
     "execution_count": 6,
     "metadata": {},
     "output_type": "execute_result"
    }
   ],
   "execution_count": 6
  },
  {
   "metadata": {
    "ExecuteTime": {
     "end_time": "2024-10-28T14:19:24.674313Z",
     "start_time": "2024-10-28T14:19:24.671411Z"
    }
   },
   "cell_type": "code",
   "source": "quizz[1]",
   "id": "fbb42713cdf4c8b4",
   "outputs": [
    {
     "data": {
      "text/plain": [
       "42"
      ]
     },
     "execution_count": 7,
     "metadata": {},
     "output_type": "execute_result"
    }
   ],
   "execution_count": 7
  },
  {
   "metadata": {
    "ExecuteTime": {
     "end_time": "2024-10-28T14:19:57.253399Z",
     "start_time": "2024-10-28T14:19:57.250886Z"
    }
   },
   "cell_type": "code",
   "source": "len(quizz)",
   "id": "c3d90452db77744b",
   "outputs": [
    {
     "data": {
      "text/plain": [
       "2"
      ]
     },
     "execution_count": 9,
     "metadata": {},
     "output_type": "execute_result"
    }
   ],
   "execution_count": 9
  },
  {
   "metadata": {
    "ExecuteTime": {
     "end_time": "2024-10-28T14:20:51.304464Z",
     "start_time": "2024-10-28T14:20:51.302519Z"
    }
   },
   "cell_type": "code",
   "source": "quizz[1] = 52",
   "id": "7eaf7e44470f76de",
   "outputs": [],
   "execution_count": 11
  },
  {
   "metadata": {
    "ExecuteTime": {
     "end_time": "2024-10-28T14:20:55.353962Z",
     "start_time": "2024-10-28T14:20:55.350534Z"
    }
   },
   "cell_type": "code",
   "source": "quizz",
   "id": "4c55ce8156af1d0",
   "outputs": [
    {
     "data": {
      "text/plain": [
       "['Meaning of life', 52]"
      ]
     },
     "execution_count": 12,
     "metadata": {},
     "output_type": "execute_result"
    }
   ],
   "execution_count": 12
  },
  {
   "metadata": {
    "ExecuteTime": {
     "end_time": "2024-10-28T14:21:43.882493Z",
     "start_time": "2024-10-28T14:21:43.879840Z"
    }
   },
   "cell_type": "code",
   "source": "quizz = [\"Meaning of life\", 42]",
   "id": "6c2e953f4d012c96",
   "outputs": [],
   "execution_count": 13
  },
  {
   "metadata": {
    "ExecuteTime": {
     "end_time": "2024-10-28T14:23:54.799973Z",
     "start_time": "2024-10-28T14:23:54.797250Z"
    }
   },
   "cell_type": "code",
   "source": "question, answer = quizz",
   "id": "f381722fce7cf91c",
   "outputs": [],
   "execution_count": 17
  },
  {
   "metadata": {
    "ExecuteTime": {
     "end_time": "2024-10-28T14:23:55.128024Z",
     "start_time": "2024-10-28T14:23:55.124836Z"
    }
   },
   "cell_type": "code",
   "source": "question",
   "id": "c5f6b1fa2ef215f6",
   "outputs": [
    {
     "data": {
      "text/plain": [
       "'Meaning of life'"
      ]
     },
     "execution_count": 18,
     "metadata": {},
     "output_type": "execute_result"
    }
   ],
   "execution_count": 18
  },
  {
   "metadata": {
    "ExecuteTime": {
     "end_time": "2024-10-28T14:23:55.320733Z",
     "start_time": "2024-10-28T14:23:55.317971Z"
    }
   },
   "cell_type": "code",
   "source": "answer",
   "id": "1465ee2eee0e7664",
   "outputs": [
    {
     "data": {
      "text/plain": [
       "42"
      ]
     },
     "execution_count": 19,
     "metadata": {},
     "output_type": "execute_result"
    }
   ],
   "execution_count": 19
  },
  {
   "metadata": {},
   "cell_type": "code",
   "outputs": [],
   "execution_count": null,
   "source": "",
   "id": "d9440e5581fd9a4b"
  }
 ],
 "metadata": {
  "kernelspec": {
   "display_name": "Python 3",
   "language": "python",
   "name": "python3"
  },
  "language_info": {
   "codemirror_mode": {
    "name": "ipython",
    "version": 2
   },
   "file_extension": ".py",
   "mimetype": "text/x-python",
   "name": "python",
   "nbconvert_exporter": "python",
   "pygments_lexer": "ipython2",
   "version": "2.7.6"
  }
 },
 "nbformat": 4,
 "nbformat_minor": 5
}
