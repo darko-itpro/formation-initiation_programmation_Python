{
 "cells": [
  {
   "cell_type": "markdown",
   "id": "53b7df0d-642e-4af8-81e4-0672dbcf44b0",
   "metadata": {},
   "source": [
    "# Les listes"
   ]
  },
  {
   "cell_type": "code",
   "execution_count": 2,
   "id": "4d8e1445-b9ea-4c41-a171-ba762d728c08",
   "metadata": {},
   "outputs": [],
   "source": [
    "quizz = [\"Meaning of life\", 42]"
   ]
  },
  {
   "cell_type": "code",
   "execution_count": 4,
   "id": "b8617c0b",
   "metadata": {},
   "outputs": [
    {
     "data": {
      "text/plain": [
       "2"
      ]
     },
     "execution_count": 4,
     "metadata": {},
     "output_type": "execute_result"
    }
   ],
   "source": [
    "len(quizz)"
   ]
  },
  {
   "cell_type": "code",
   "execution_count": 6,
   "id": "36a5ce17",
   "metadata": {},
   "outputs": [
    {
     "data": {
      "text/plain": [
       "'Meaning of life'"
      ]
     },
     "execution_count": 6,
     "metadata": {},
     "output_type": "execute_result"
    }
   ],
   "source": [
    "quizz[0]"
   ]
  },
  {
   "cell_type": "code",
   "execution_count": 10,
   "id": "a2566710",
   "metadata": {},
   "outputs": [],
   "source": [
    "quizz[1] = 43"
   ]
  },
  {
   "cell_type": "code",
   "execution_count": 11,
   "id": "cb7d27ed",
   "metadata": {},
   "outputs": [
    {
     "data": {
      "text/plain": [
       "['Meaning of life', 43]"
      ]
     },
     "execution_count": 11,
     "metadata": {},
     "output_type": "execute_result"
    }
   ],
   "source": [
    "quizz"
   ]
  },
  {
   "cell_type": "code",
   "execution_count": 12,
   "id": "b0e22850",
   "metadata": {},
   "outputs": [],
   "source": [
    "question, answer = [\"Meaning of life\", 42]"
   ]
  },
  {
   "cell_type": "code",
   "execution_count": 13,
   "id": "d762a227",
   "metadata": {},
   "outputs": [
    {
     "data": {
      "text/plain": [
       "'Meaning of life'"
      ]
     },
     "execution_count": 13,
     "metadata": {},
     "output_type": "execute_result"
    }
   ],
   "source": [
    "question"
   ]
  },
  {
   "cell_type": "code",
   "execution_count": null,
   "id": "070f2abc",
   "metadata": {},
   "outputs": [],
   "source": []
  }
 ],
 "metadata": {
  "kernelspec": {
   "display_name": "generic312",
   "language": "python",
   "name": "python3"
  },
  "language_info": {
   "codemirror_mode": {
    "name": "ipython",
    "version": 3
   },
   "file_extension": ".py",
   "mimetype": "text/x-python",
   "name": "python",
   "nbconvert_exporter": "python",
   "pygments_lexer": "ipython3",
   "version": "3.12.7"
  }
 },
 "nbformat": 4,
 "nbformat_minor": 5
}
