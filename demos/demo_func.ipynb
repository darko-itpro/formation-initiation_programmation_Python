{
 "cells": [
  {
   "cell_type": "markdown",
   "metadata": {},
   "source": [
    "# Les fonctions"
   ]
  },
  {
   "cell_type": "code",
   "execution_count": 16,
   "metadata": {},
   "outputs": [],
   "source": [
    "def say_hello():\n",
    "    print('Hello World')\n",
    "    print('to all')\n",
    "    "
   ]
  },
  {
   "cell_type": "code",
   "execution_count": 17,
   "metadata": {},
   "outputs": [
    {
     "name": "stdout",
     "output_type": "stream",
     "text": [
      "Hello World\n",
      "to all\n"
     ]
    }
   ],
   "source": [
    "say_hello()"
   ]
  },
  {
   "cell_type": "code",
   "execution_count": 15,
   "metadata": {},
   "outputs": [
    {
     "name": "stdout",
     "output_type": "stream",
     "text": [
      "Hello given\n",
      "J'ai appelé la fonction\n"
     ]
    }
   ],
   "source": [
    "def give_hello():\n",
    "    value = \"Hello given\"\n",
    "    return value\n",
    "\n",
    "print(give_hello())\n",
    "print(\"J'ai appelé la fonction\")"
   ]
  },
  {
   "cell_type": "code",
   "execution_count": 18,
   "metadata": {},
   "outputs": [],
   "source": [
    "def say_hello_to(name:str):\n",
    "    print(\"Hello\", name)"
   ]
  },
  {
   "cell_type": "code",
   "execution_count": 21,
   "metadata": {},
   "outputs": [
    {
     "name": "stdout",
     "output_type": "stream",
     "text": [
      "Hello John Doe\n"
     ]
    }
   ],
   "source": [
    "say_hello_to(\"John Doe\")"
   ]
  },
  {
   "cell_type": "code",
   "execution_count": null,
   "metadata": {},
   "outputs": [],
   "source": []
  },
  {
   "metadata": {
    "ExecuteTime": {
     "end_time": "2024-10-31T12:47:55.320063Z",
     "start_time": "2024-10-31T12:47:55.316813Z"
    }
   },
   "cell_type": "code",
   "source": [
    "def say_hello(name:str=\"World\"):\n",
    "    print(\"Hello\", name)\n",
    "    \n",
    "say_hello()\n",
    "say_hello(\"John doe\")"
   ],
   "outputs": [
    {
     "name": "stdout",
     "output_type": "stream",
     "text": [
      "Hello World\n",
      "Hello John doe\n"
     ]
    }
   ],
   "execution_count": 3
  },
  {
   "metadata": {
    "ExecuteTime": {
     "end_time": "2024-10-31T12:53:08.697587Z",
     "start_time": "2024-10-31T12:53:08.693792Z"
    }
   },
   "cell_type": "code",
   "source": [
    "def create_account(user_id, value:int=100, overdraft:bool=False):\n",
    "    print(user_id, value, overdraft)\n",
    "    \n",
    "create_account(\"ID456\", 10_000_000_000, True)\n",
    "create_account(\"ID456\", 10_000_000_000)\n",
    "create_account(\"ID456\")\n",
    "\n",
    "create_account(\"ID2343\", overdraft=True)"
   ],
   "outputs": [
    {
     "name": "stdout",
     "output_type": "stream",
     "text": [
      "ID456 10000000000 True\n",
      "ID456 10000000000 False\n",
      "ID456 100 False\n",
      "ID2343 100 True\n"
     ]
    }
   ],
   "execution_count": 7
  },
  {
   "metadata": {
    "ExecuteTime": {
     "end_time": "2024-10-31T12:55:01.691136Z",
     "start_time": "2024-10-31T12:55:01.687209Z"
    }
   },
   "cell_type": "code",
   "source": "help(print)",
   "outputs": [
    {
     "name": "stdout",
     "output_type": "stream",
     "text": [
      "Help on built-in function print in module builtins:\n",
      "\n",
      "print(*args, sep=' ', end='\\n', file=None, flush=False)\n",
      "    Prints the values to a stream, or to sys.stdout by default.\n",
      "\n",
      "    sep\n",
      "      string inserted between values, default a space.\n",
      "    end\n",
      "      string appended after the last value, default a newline.\n",
      "    file\n",
      "      a file-like object (stream); defaults to the current sys.stdout.\n",
      "    flush\n",
      "      whether to forcibly flush the stream.\n",
      "\n"
     ]
    }
   ],
   "execution_count": 8
  },
  {
   "metadata": {
    "ExecuteTime": {
     "end_time": "2024-10-31T12:56:32.031509Z",
     "start_time": "2024-10-31T12:56:32.028283Z"
    }
   },
   "cell_type": "code",
   "source": "print(\"riri\", \"fifi\", sep=\" | \")",
   "outputs": [
    {
     "name": "stdout",
     "output_type": "stream",
     "text": [
      "riri | fifi\n"
     ]
    }
   ],
   "execution_count": 9
  },
  {
   "metadata": {},
   "cell_type": "code",
   "outputs": [],
   "execution_count": null,
   "source": ""
  }
 ],
 "metadata": {
  "kernelspec": {
   "display_name": "generic312",
   "language": "python",
   "name": "python3"
  },
  "language_info": {
   "codemirror_mode": {
    "name": "ipython",
    "version": 3
   },
   "file_extension": ".py",
   "mimetype": "text/x-python",
   "name": "python",
   "nbconvert_exporter": "python",
   "pygments_lexer": "ipython3",
   "version": "3.12.7"
  }
 },
 "nbformat": 4,
 "nbformat_minor": 2
}
