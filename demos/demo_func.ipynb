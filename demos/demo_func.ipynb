{
 "cells": [
  {
   "metadata": {},
   "cell_type": "markdown",
   "source": "# Les fonctions",
   "id": "899140d82ffdf959"
  },
  {
   "cell_type": "code",
   "id": "initial_id",
   "metadata": {
    "collapsed": true,
    "ExecuteTime": {
     "end_time": "2024-10-29T08:32:31.257548Z",
     "start_time": "2024-10-29T08:32:31.255315Z"
    }
   },
   "source": [
    "def say_hello():\n",
    "    print(\"Hello world\")\n",
    "    print(\"To all\")\n",
    "    "
   ],
   "outputs": [],
   "execution_count": 15
  },
  {
   "metadata": {
    "ExecuteTime": {
     "end_time": "2024-10-29T08:32:00.540668Z",
     "start_time": "2024-10-29T08:32:00.538350Z"
    }
   },
   "cell_type": "code",
   "outputs": [
    {
     "name": "stdout",
     "output_type": "stream",
     "text": [
      "Hello world\n",
      "To all\n",
      "None\n"
     ]
    }
   ],
   "execution_count": 14,
   "source": "print(say_hello())",
   "id": "ae61e3a72ed161ca"
  },
  {
   "metadata": {
    "ExecuteTime": {
     "end_time": "2024-10-29T08:34:31.338072Z",
     "start_time": "2024-10-29T08:34:31.335284Z"
    }
   },
   "cell_type": "code",
   "outputs": [
    {
     "name": "stdout",
     "output_type": "stream",
     "text": [
      "('Hello given', 1, 2)\n",
      "Done\n"
     ]
    }
   ],
   "execution_count": 18,
   "source": [
    "def give_hello() -> str:\n",
    "    value = \"Hello given\"\n",
    "    return value\n",
    "\n",
    "print(give_hello())\n",
    "print(\"Done\")"
   ],
   "id": "154c7e6e56e65ffe"
  },
  {
   "metadata": {
    "ExecuteTime": {
     "end_time": "2024-10-29T08:35:34.520043Z",
     "start_time": "2024-10-29T08:35:34.516974Z"
    }
   },
   "cell_type": "code",
   "source": [
    "def say_hello_to(name:str):\n",
    "    print(\"Hello\", name)\n",
    "    \n",
    "say_hello_to(\"John Doe\")"
   ],
   "id": "da1821ea0fb1bab3",
   "outputs": [
    {
     "name": "stdout",
     "output_type": "stream",
     "text": [
      "Hello John Doe\n"
     ]
    }
   ],
   "execution_count": 21
  },
  {
   "metadata": {
    "ExecuteTime": {
     "end_time": "2024-10-29T12:52:45.708537Z",
     "start_time": "2024-10-29T12:52:45.705581Z"
    }
   },
   "cell_type": "code",
   "source": [
    "def say_hello(name=\"World\"):\n",
    "    print(\"Hello\", name)\n",
    "\n",
    "say_hello()\n",
    "say_hello(\"John Doe\")"
   ],
   "id": "d262b6d019dcfe0c",
   "outputs": [
    {
     "name": "stdout",
     "output_type": "stream",
     "text": [
      "Hello World\n",
      "Hello John Doe\n"
     ]
    }
   ],
   "execution_count": 1
  },
  {
   "metadata": {
    "ExecuteTime": {
     "end_time": "2024-10-29T12:57:10.362064Z",
     "start_time": "2024-10-29T12:57:10.358577Z"
    }
   },
   "cell_type": "code",
   "source": [
    "def create_account(id, value:int = 100, overdraft:bool = False):\n",
    "    print(id, value, overdraft)\n",
    "    \n",
    "create_account(\"My id\", 1_000_000_000, True)\n",
    "create_account(\"My id\", 1_000_000_000)\n",
    "create_account(\"My id\")"
   ],
   "id": "24cd333fda1a031e",
   "outputs": [
    {
     "name": "stdout",
     "output_type": "stream",
     "text": [
      "My id 1000000000 True\n",
      "My id 1000000000 False\n",
      "My id 100 False\n"
     ]
    }
   ],
   "execution_count": 6
  },
  {
   "metadata": {
    "ExecuteTime": {
     "end_time": "2024-10-29T12:57:58.962749Z",
     "start_time": "2024-10-29T12:57:58.959939Z"
    }
   },
   "cell_type": "code",
   "source": "create_account(\"My Id\", overdraft=True)",
   "id": "8a21a90a056806aa",
   "outputs": [
    {
     "name": "stdout",
     "output_type": "stream",
     "text": [
      "My Id 100 True\n"
     ]
    }
   ],
   "execution_count": 8
  },
  {
   "metadata": {},
   "cell_type": "code",
   "outputs": [],
   "execution_count": null,
   "source": "",
   "id": "97ff8e25d1eeac5e"
  }
 ],
 "metadata": {
  "kernelspec": {
   "display_name": "Python 3",
   "language": "python",
   "name": "python3"
  },
  "language_info": {
   "codemirror_mode": {
    "name": "ipython",
    "version": 2
   },
   "file_extension": ".py",
   "mimetype": "text/x-python",
   "name": "python",
   "nbconvert_exporter": "python",
   "pygments_lexer": "ipython2",
   "version": "2.7.6"
  }
 },
 "nbformat": 4,
 "nbformat_minor": 5
}
