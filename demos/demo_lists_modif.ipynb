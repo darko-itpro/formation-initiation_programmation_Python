{
 "cells": [
  {
   "metadata": {},
   "cell_type": "markdown",
   "source": "# Listes, troisième partie",
   "id": "6d5a8551a5034075"
  },
  {
   "cell_type": "code",
   "id": "initial_id",
   "metadata": {
    "collapsed": true,
    "ExecuteTime": {
     "end_time": "2024-10-31T15:00:09.993820Z",
     "start_time": "2024-10-31T15:00:09.991736Z"
    }
   },
   "source": "camelot = [\"Arthur\", \"Merlin\", \"Lnacelot\"]",
   "outputs": [],
   "execution_count": 4
  },
  {
   "metadata": {
    "ExecuteTime": {
     "end_time": "2024-10-31T15:00:19.723080Z",
     "start_time": "2024-10-31T15:00:19.720061Z"
    }
   },
   "cell_type": "code",
   "source": "del camelot[1]",
   "id": "29645163a63242d3",
   "outputs": [],
   "execution_count": 5
  },
  {
   "metadata": {
    "ExecuteTime": {
     "end_time": "2024-10-31T15:00:20.571323Z",
     "start_time": "2024-10-31T15:00:20.566887Z"
    }
   },
   "cell_type": "code",
   "source": "camelot",
   "id": "90db11ecec2e335e",
   "outputs": [
    {
     "data": {
      "text/plain": [
       "['Arthur', 'Lnacelot']"
      ]
     },
     "execution_count": 6,
     "metadata": {},
     "output_type": "execute_result"
    }
   ],
   "execution_count": 6
  },
  {
   "metadata": {
    "ExecuteTime": {
     "end_time": "2024-10-31T15:01:24.344241Z",
     "start_time": "2024-10-31T15:01:24.341965Z"
    }
   },
   "cell_type": "code",
   "source": "camelot = [\"Arthur\", \"Merlin\", \"Lnacelot\"]",
   "id": "5ed8a7ba7d9457fa",
   "outputs": [],
   "execution_count": 7
  },
  {
   "metadata": {
    "ExecuteTime": {
     "end_time": "2024-10-31T15:02:03.841649Z",
     "start_time": "2024-10-31T15:02:03.839474Z"
    }
   },
   "cell_type": "code",
   "source": "camelot.append(\"Robin\")",
   "id": "96a3de16863725e9",
   "outputs": [],
   "execution_count": 8
  },
  {
   "metadata": {
    "ExecuteTime": {
     "end_time": "2024-10-31T15:02:11.048912Z",
     "start_time": "2024-10-31T15:02:11.045445Z"
    }
   },
   "cell_type": "code",
   "source": "camelot",
   "id": "f95b09be2f16bebd",
   "outputs": [
    {
     "data": {
      "text/plain": [
       "['Arthur', 'Merlin', 'Lnacelot', 'Robin']"
      ]
     },
     "execution_count": 9,
     "metadata": {},
     "output_type": "execute_result"
    }
   ],
   "execution_count": 9
  },
  {
   "metadata": {
    "ExecuteTime": {
     "end_time": "2024-10-31T15:02:31.132023Z",
     "start_time": "2024-10-31T15:02:31.128406Z"
    }
   },
   "cell_type": "code",
   "source": "camelot.pop()",
   "id": "f5e35b345052b9a6",
   "outputs": [
    {
     "data": {
      "text/plain": [
       "'Robin'"
      ]
     },
     "execution_count": 10,
     "metadata": {},
     "output_type": "execute_result"
    }
   ],
   "execution_count": 10
  },
  {
   "metadata": {
    "ExecuteTime": {
     "end_time": "2024-10-31T15:02:40.000179Z",
     "start_time": "2024-10-31T15:02:39.997172Z"
    }
   },
   "cell_type": "code",
   "source": "camelot",
   "id": "6eab912da712eb4b",
   "outputs": [
    {
     "data": {
      "text/plain": [
       "['Arthur', 'Merlin', 'Lnacelot']"
      ]
     },
     "execution_count": 11,
     "metadata": {},
     "output_type": "execute_result"
    }
   ],
   "execution_count": 11
  },
  {
   "metadata": {
    "ExecuteTime": {
     "end_time": "2024-10-31T15:05:43.530755Z",
     "start_time": "2024-10-31T15:05:43.526973Z"
    }
   },
   "cell_type": "code",
   "source": "camelot.pop(0)",
   "id": "2be88b5c8f7a67c5",
   "outputs": [
    {
     "data": {
      "text/plain": [
       "'Arthur'"
      ]
     },
     "execution_count": 12,
     "metadata": {},
     "output_type": "execute_result"
    }
   ],
   "execution_count": 12
  },
  {
   "metadata": {
    "ExecuteTime": {
     "end_time": "2024-10-31T15:06:34.586222Z",
     "start_time": "2024-10-31T15:06:34.584611Z"
    }
   },
   "cell_type": "code",
   "source": "camelot = [\"Arthur\", \"Merlin\", \"Lnacelot\"]",
   "id": "2985553feef26d40",
   "outputs": [],
   "execution_count": 13
  },
  {
   "metadata": {
    "ExecuteTime": {
     "end_time": "2024-10-31T15:07:59.375610Z",
     "start_time": "2024-10-31T15:07:59.373783Z"
    }
   },
   "cell_type": "code",
   "source": "camelot.insert(1, \"Robin\")",
   "id": "3ca6be3f1e37ef1b",
   "outputs": [],
   "execution_count": 14
  },
  {
   "metadata": {
    "ExecuteTime": {
     "end_time": "2024-10-31T15:08:03.028195Z",
     "start_time": "2024-10-31T15:08:03.025946Z"
    }
   },
   "cell_type": "code",
   "source": "camelot",
   "id": "7c132beb6007fe5",
   "outputs": [
    {
     "data": {
      "text/plain": [
       "['Arthur', 'Robin', 'Merlin', 'Lnacelot']"
      ]
     },
     "execution_count": 15,
     "metadata": {},
     "output_type": "execute_result"
    }
   ],
   "execution_count": 15
  },
  {
   "metadata": {},
   "cell_type": "code",
   "outputs": [],
   "execution_count": null,
   "source": "",
   "id": "486fa6d18d1dc5c8"
  },
  {
   "metadata": {
    "ExecuteTime": {
     "end_time": "2024-10-31T15:23:31.560732Z",
     "start_time": "2024-10-31T15:23:31.558510Z"
    }
   },
   "cell_type": "code",
   "source": "value = 1, 2, 3,",
   "id": "e56f12ac914036e2",
   "outputs": [],
   "execution_count": 28
  },
  {
   "metadata": {
    "ExecuteTime": {
     "end_time": "2024-10-31T15:23:31.753633Z",
     "start_time": "2024-10-31T15:23:31.750264Z"
    }
   },
   "cell_type": "code",
   "source": "type(value)",
   "id": "e4db05338f129b62",
   "outputs": [
    {
     "data": {
      "text/plain": [
       "tuple"
      ]
     },
     "execution_count": 29,
     "metadata": {},
     "output_type": "execute_result"
    }
   ],
   "execution_count": 29
  },
  {
   "metadata": {
    "ExecuteTime": {
     "end_time": "2024-10-31T15:23:31.917469Z",
     "start_time": "2024-10-31T15:23:31.915170Z"
    }
   },
   "cell_type": "code",
   "source": "value",
   "id": "452a9b9b8ed9be08",
   "outputs": [
    {
     "data": {
      "text/plain": [
       "(1, 2, 3)"
      ]
     },
     "execution_count": 30,
     "metadata": {},
     "output_type": "execute_result"
    }
   ],
   "execution_count": 30
  },
  {
   "metadata": {
    "ExecuteTime": {
     "end_time": "2024-10-31T15:24:23.763891Z",
     "start_time": "2024-10-31T15:24:23.761030Z"
    }
   },
   "cell_type": "code",
   "source": [
    "def truc():\n",
    "    return 1, 2, 3"
   ],
   "id": "efb715a5b1276dd1",
   "outputs": [],
   "execution_count": 31
  },
  {
   "metadata": {
    "ExecuteTime": {
     "end_time": "2024-10-31T15:24:35.322950Z",
     "start_time": "2024-10-31T15:24:35.320420Z"
    }
   },
   "cell_type": "code",
   "source": "truc()",
   "id": "7f68435d1f764aa9",
   "outputs": [
    {
     "data": {
      "text/plain": [
       "(1, 2, 3)"
      ]
     },
     "execution_count": 32,
     "metadata": {},
     "output_type": "execute_result"
    }
   ],
   "execution_count": 32
  },
  {
   "metadata": {
    "ExecuteTime": {
     "end_time": "2024-10-31T15:26:05.549499Z",
     "start_time": "2024-10-31T15:26:05.546808Z"
    }
   },
   "cell_type": "code",
   "source": [
    "question = 42\n",
    "answer = \"Meaning of life\""
   ],
   "id": "bc0e52b19436c40a",
   "outputs": [],
   "execution_count": 33
  },
  {
   "metadata": {
    "ExecuteTime": {
     "end_time": "2024-10-31T15:27:14.302787Z",
     "start_time": "2024-10-31T15:27:14.299743Z"
    }
   },
   "cell_type": "code",
   "source": "question, answer = answer, question",
   "id": "652ea236df64ec2f",
   "outputs": [],
   "execution_count": 34
  },
  {
   "metadata": {
    "ExecuteTime": {
     "end_time": "2024-10-31T15:27:17.264036Z",
     "start_time": "2024-10-31T15:27:17.261255Z"
    }
   },
   "cell_type": "code",
   "source": "question",
   "id": "e782e06111dae103",
   "outputs": [
    {
     "data": {
      "text/plain": [
       "'Meaning of life'"
      ]
     },
     "execution_count": 35,
     "metadata": {},
     "output_type": "execute_result"
    }
   ],
   "execution_count": 35
  },
  {
   "metadata": {
    "ExecuteTime": {
     "end_time": "2024-10-31T15:27:21.550564Z",
     "start_time": "2024-10-31T15:27:21.548130Z"
    }
   },
   "cell_type": "code",
   "source": "answer",
   "id": "2db3b4d75908ec3",
   "outputs": [
    {
     "data": {
      "text/plain": [
       "42"
      ]
     },
     "execution_count": 36,
     "metadata": {},
     "output_type": "execute_result"
    }
   ],
   "execution_count": 36
  },
  {
   "metadata": {},
   "cell_type": "code",
   "outputs": [],
   "execution_count": null,
   "source": "",
   "id": "6fc7ef60f54f6933"
  }
 ],
 "metadata": {
  "kernelspec": {
   "display_name": "Python 3",
   "language": "python",
   "name": "python3"
  },
  "language_info": {
   "codemirror_mode": {
    "name": "ipython",
    "version": 2
   },
   "file_extension": ".py",
   "mimetype": "text/x-python",
   "name": "python",
   "nbconvert_exporter": "python",
   "pygments_lexer": "ipython2",
   "version": "2.7.6"
  }
 },
 "nbformat": 4,
 "nbformat_minor": 5
}
