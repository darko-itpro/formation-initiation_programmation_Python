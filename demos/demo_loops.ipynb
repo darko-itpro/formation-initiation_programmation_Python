{
 "cells": [
  {
   "metadata": {},
   "cell_type": "markdown",
   "source": [
    "# Les boucles\n",
    "## Itérations avec for"
   ],
   "id": "5fea6a70624ee2b2"
  },
  {
   "cell_type": "code",
   "id": "initial_id",
   "metadata": {
    "collapsed": true,
    "ExecuteTime": {
     "end_time": "2024-10-29T15:51:12.375210Z",
     "start_time": "2024-10-29T15:51:12.373186Z"
    }
   },
   "source": "camelot = ['Arthur', \"Merlin\", \"Lancelot\", \"Robin\"]",
   "outputs": [],
   "execution_count": 1
  },
  {
   "metadata": {
    "ExecuteTime": {
     "end_time": "2024-10-29T15:52:20.048509Z",
     "start_time": "2024-10-29T15:52:20.044615Z"
    }
   },
   "cell_type": "code",
   "source": [
    "for knight in camelot:\n",
    "    print(knight)"
   ],
   "id": "131c5decd357f7a5",
   "outputs": [
    {
     "name": "stdout",
     "output_type": "stream",
     "text": [
      "Arthur\n",
      "Merlin\n",
      "Lancelot\n",
      "Robin\n"
     ]
    }
   ],
   "execution_count": 2
  },
  {
   "metadata": {
    "ExecuteTime": {
     "end_time": "2024-10-29T15:54:49.914176Z",
     "start_time": "2024-10-29T15:54:49.910848Z"
    }
   },
   "cell_type": "code",
   "source": [
    "for index, knight in enumerate(camelot):\n",
    "    if index % 2:\n",
    "        print(\"------\")\n",
    "    else:\n",
    "        print(\"======\")\n",
    "    print(knight)"
   ],
   "id": "a671deb649d75412",
   "outputs": [
    {
     "name": "stdout",
     "output_type": "stream",
     "text": [
      "======\n",
      "Arthur\n",
      "------\n",
      "Merlin\n",
      "======\n",
      "Lancelot\n",
      "------\n",
      "Robin\n"
     ]
    }
   ],
   "execution_count": 4
  },
  {
   "metadata": {
    "ExecuteTime": {
     "end_time": "2024-10-29T15:56:32.862988Z",
     "start_time": "2024-10-29T15:56:32.859555Z"
    }
   },
   "cell_type": "code",
   "source": [
    "for _ in range(4):\n",
    "    print(\"turn left\")"
   ],
   "id": "ecb9a0e3244f4896",
   "outputs": [
    {
     "name": "stdout",
     "output_type": "stream",
     "text": [
      "turn left\n",
      "turn left\n",
      "turn left\n",
      "turn left\n"
     ]
    }
   ],
   "execution_count": 6
  },
  {
   "metadata": {
    "ExecuteTime": {
     "end_time": "2024-10-29T15:57:11.958946Z",
     "start_time": "2024-10-29T15:57:11.952439Z"
    }
   },
   "cell_type": "code",
   "source": "range(10)",
   "id": "a92f6ae04821e761",
   "outputs": [
    {
     "data": {
      "text/plain": [
       "range(0, 10)"
      ]
     },
     "execution_count": 7,
     "metadata": {},
     "output_type": "execute_result"
    }
   ],
   "execution_count": 7
  },
  {
   "metadata": {},
   "cell_type": "markdown",
   "source": "## Itérations avec while",
   "id": "7851bbd9e7e1d3a0"
  },
  {
   "metadata": {
    "ExecuteTime": {
     "end_time": "2024-10-29T16:04:33.242958Z",
     "start_time": "2024-10-29T16:04:33.239332Z"
    }
   },
   "cell_type": "code",
   "source": [
    "value = 1\n",
    "previous = 1\n",
    "\n",
    "while value < 500:\n",
    "    print(value / previous)\n",
    "    value, previous = (value + previous, value)"
   ],
   "id": "375eef9bf399c636",
   "outputs": [
    {
     "name": "stdout",
     "output_type": "stream",
     "text": [
      "1.0\n",
      "2.0\n",
      "1.5\n",
      "1.6666666666666667\n",
      "1.6\n",
      "1.625\n",
      "1.6153846153846154\n",
      "1.619047619047619\n",
      "1.6176470588235294\n",
      "1.6181818181818182\n",
      "1.6179775280898876\n",
      "1.6180555555555556\n",
      "1.6180257510729614\n"
     ]
    }
   ],
   "execution_count": 10
  }
 ],
 "metadata": {
  "kernelspec": {
   "display_name": "Python 3",
   "language": "python",
   "name": "python3"
  },
  "language_info": {
   "codemirror_mode": {
    "name": "ipython",
    "version": 2
   },
   "file_extension": ".py",
   "mimetype": "text/x-python",
   "name": "python",
   "nbconvert_exporter": "python",
   "pygments_lexer": "ipython2",
   "version": "2.7.6"
  }
 },
 "nbformat": 4,
 "nbformat_minor": 5
}
