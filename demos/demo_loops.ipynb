{
 "cells": [
  {
   "metadata": {
    "collapsed": true,
    "ExecuteTime": {
     "end_time": "2024-10-31T15:29:58.012881Z",
     "start_time": "2024-10-31T15:29:58.010628Z"
    }
   },
   "cell_type": "code",
   "outputs": [],
   "execution_count": 1,
   "source": "camelot = [\"Arthur\", \"Merlin\", \"Lancelot\", \"Robin\", \"Perceval\", \"Karadoc\"]",
   "id": "initial_id"
  },
  {
   "metadata": {
    "ExecuteTime": {
     "end_time": "2024-10-31T15:31:21.963099Z",
     "start_time": "2024-10-31T15:31:21.959264Z"
    }
   },
   "cell_type": "code",
   "source": [
    "for knight in camelot:\n",
    "    print(knight)"
   ],
   "id": "cd802119c1160c7e",
   "outputs": [
    {
     "name": "stdout",
     "output_type": "stream",
     "text": [
      "Arthur\n",
      "Merlin\n",
      "Lancelot\n",
      "Robin\n",
      "Perceval\n",
      "Karadoc\n"
     ]
    }
   ],
   "execution_count": 2
  },
  {
   "metadata": {
    "ExecuteTime": {
     "end_time": "2024-10-31T15:33:26.726564Z",
     "start_time": "2024-10-31T15:33:26.722898Z"
    }
   },
   "cell_type": "code",
   "source": [
    "for index, knight in enumerate(camelot):\n",
    "    print(knight, index)"
   ],
   "id": "add5efda83c78933",
   "outputs": [
    {
     "name": "stdout",
     "output_type": "stream",
     "text": [
      "Arthur 0\n",
      "Merlin 1\n",
      "Lancelot 2\n",
      "Robin 3\n",
      "Perceval 4\n",
      "Karadoc 5\n"
     ]
    }
   ],
   "execution_count": 4
  },
  {
   "metadata": {
    "ExecuteTime": {
     "end_time": "2024-10-31T15:36:33.089844Z",
     "start_time": "2024-10-31T15:36:33.087986Z"
    }
   },
   "cell_type": "code",
   "source": [
    "for _ in range(4):\n",
    "    print(\"turn left\")"
   ],
   "id": "bc9b7c840b4cd27e",
   "outputs": [
    {
     "name": "stdout",
     "output_type": "stream",
     "text": [
      "turn left\n",
      "turn left\n",
      "turn left\n",
      "turn left\n"
     ]
    }
   ],
   "execution_count": 6
  },
  {
   "metadata": {
    "ExecuteTime": {
     "end_time": "2024-10-31T15:43:39.262187Z",
     "start_time": "2024-10-31T15:43:39.260013Z"
    }
   },
   "cell_type": "code",
   "source": [
    "value = 1\n",
    "previous = 1\n",
    "\n",
    "while value < 500:\n",
    "    print(value / previous)\n",
    "    value, previous = value + previous, value"
   ],
   "id": "d337d19c129e304a",
   "outputs": [
    {
     "name": "stdout",
     "output_type": "stream",
     "text": [
      "1.0\n",
      "2.0\n",
      "1.5\n",
      "1.6666666666666667\n",
      "1.6\n",
      "1.625\n",
      "1.6153846153846154\n",
      "1.619047619047619\n",
      "1.6176470588235294\n",
      "1.6181818181818182\n",
      "1.6179775280898876\n",
      "1.6180555555555556\n",
      "1.6180257510729614\n"
     ]
    }
   ],
   "execution_count": 10
  },
  {
   "metadata": {
    "ExecuteTime": {
     "end_time": "2024-10-31T15:43:17.173768Z",
     "start_time": "2024-10-31T15:43:17.171994Z"
    }
   },
   "cell_type": "code",
   "source": "",
   "id": "c49b139bf8ece2c8",
   "outputs": [],
   "execution_count": null
  },
  {
   "metadata": {},
   "cell_type": "code",
   "outputs": [],
   "execution_count": null,
   "source": "",
   "id": "878e09b93e86bfe4"
  }
 ],
 "metadata": {
  "kernelspec": {
   "display_name": "Python 3",
   "language": "python",
   "name": "python3"
  },
  "language_info": {
   "codemirror_mode": {
    "name": "ipython",
    "version": 2
   },
   "file_extension": ".py",
   "mimetype": "text/x-python",
   "name": "python",
   "nbconvert_exporter": "python",
   "pygments_lexer": "ipython2",
   "version": "2.7.6"
  }
 },
 "nbformat": 4,
 "nbformat_minor": 5
}
