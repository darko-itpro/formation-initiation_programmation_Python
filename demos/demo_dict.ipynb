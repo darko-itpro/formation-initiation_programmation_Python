{
 "cells": [
  {
   "metadata": {},
   "cell_type": "markdown",
   "source": "# Les dictionnaire",
   "id": "797cd83d43056e4d"
  },
  {
   "cell_type": "code",
   "id": "initial_id",
   "metadata": {
    "collapsed": true,
    "ExecuteTime": {
     "end_time": "2024-10-31T10:22:25.830020Z",
     "start_time": "2024-10-31T10:22:25.827620Z"
    }
   },
   "source": "camelot = {\"king\":\"Arthur\", \"wizard\":\"Merlin\"}",
   "outputs": [],
   "execution_count": 5
  },
  {
   "metadata": {
    "ExecuteTime": {
     "end_time": "2024-10-31T10:22:27.152305Z",
     "start_time": "2024-10-31T10:22:27.149217Z"
    }
   },
   "cell_type": "code",
   "source": "type(camelot)",
   "id": "db343ab48af00d21",
   "outputs": [
    {
     "data": {
      "text/plain": [
       "dict"
      ]
     },
     "execution_count": 6,
     "metadata": {},
     "output_type": "execute_result"
    }
   ],
   "execution_count": 6
  },
  {
   "metadata": {
    "ExecuteTime": {
     "end_time": "2024-10-31T10:22:27.695261Z",
     "start_time": "2024-10-31T10:22:27.692441Z"
    }
   },
   "cell_type": "code",
   "source": "len(camelot)",
   "id": "8ffe4af9683c67aa",
   "outputs": [
    {
     "data": {
      "text/plain": [
       "2"
      ]
     },
     "execution_count": 7,
     "metadata": {},
     "output_type": "execute_result"
    }
   ],
   "execution_count": 7
  },
  {
   "metadata": {
    "ExecuteTime": {
     "end_time": "2024-10-31T10:23:47.964709Z",
     "start_time": "2024-10-31T10:23:47.961731Z"
    }
   },
   "cell_type": "code",
   "source": "camelot[\"king\"]",
   "id": "a462cd0dbc3c5702",
   "outputs": [
    {
     "data": {
      "text/plain": [
       "'Arthur'"
      ]
     },
     "execution_count": 9,
     "metadata": {},
     "output_type": "execute_result"
    }
   ],
   "execution_count": 9
  },
  {
   "metadata": {
    "ExecuteTime": {
     "end_time": "2024-10-31T10:24:35.655226Z",
     "start_time": "2024-10-31T10:24:35.653150Z"
    }
   },
   "cell_type": "code",
   "source": "camelot[\"king\"] = \"Pendragon\"",
   "id": "2ae99476d54517d4",
   "outputs": [],
   "execution_count": 10
  },
  {
   "metadata": {
    "ExecuteTime": {
     "end_time": "2024-10-31T10:24:38.098708Z",
     "start_time": "2024-10-31T10:24:38.095514Z"
    }
   },
   "cell_type": "code",
   "source": "camelot",
   "id": "14ab4d4ac0b2f37a",
   "outputs": [
    {
     "data": {
      "text/plain": [
       "{'king': 'Pendragon', 'wizard': 'Merlin'}"
      ]
     },
     "execution_count": 11,
     "metadata": {},
     "output_type": "execute_result"
    }
   ],
   "execution_count": 11
  },
  {
   "metadata": {
    "ExecuteTime": {
     "end_time": "2024-10-31T10:24:58.720951Z",
     "start_time": "2024-10-31T10:24:58.631747Z"
    }
   },
   "cell_type": "code",
   "source": "camelot[\"queen\"]",
   "id": "6a2eee1a9f5eca07",
   "outputs": [
    {
     "ename": "KeyError",
     "evalue": "'queen'",
     "output_type": "error",
     "traceback": [
      "\u001B[0;31m---------------------------------------------------------------------------\u001B[0m",
      "\u001B[0;31mKeyError\u001B[0m                                  Traceback (most recent call last)",
      "Cell \u001B[0;32mIn[12], line 1\u001B[0m\n\u001B[0;32m----> 1\u001B[0m \u001B[43mcamelot\u001B[49m\u001B[43m[\u001B[49m\u001B[38;5;124;43m\"\u001B[39;49m\u001B[38;5;124;43mqueen\u001B[39;49m\u001B[38;5;124;43m\"\u001B[39;49m\u001B[43m]\u001B[49m\n",
      "\u001B[0;31mKeyError\u001B[0m: 'queen'"
     ]
    }
   ],
   "execution_count": 12
  },
  {
   "metadata": {
    "ExecuteTime": {
     "end_time": "2024-10-31T10:25:28.286450Z",
     "start_time": "2024-10-31T10:25:28.284631Z"
    }
   },
   "cell_type": "code",
   "source": "camelot[\"queen\"] = \"Gueniever\"",
   "id": "a6c2aa012c9533ad",
   "outputs": [],
   "execution_count": 13
  },
  {
   "metadata": {
    "ExecuteTime": {
     "end_time": "2024-10-31T10:25:30.367068Z",
     "start_time": "2024-10-31T10:25:30.364794Z"
    }
   },
   "cell_type": "code",
   "source": "camelot",
   "id": "df24540b61783ad4",
   "outputs": [
    {
     "data": {
      "text/plain": [
       "{'king': 'Pendragon', 'wizard': 'Merlin', 'queen': 'Gueniever'}"
      ]
     },
     "execution_count": 14,
     "metadata": {},
     "output_type": "execute_result"
    }
   ],
   "execution_count": 14
  },
  {
   "metadata": {
    "ExecuteTime": {
     "end_time": "2024-10-31T10:26:52.727184Z",
     "start_time": "2024-10-31T10:26:52.724933Z"
    }
   },
   "cell_type": "code",
   "source": "\"king\" in camelot",
   "id": "b578aca72ff0002b",
   "outputs": [
    {
     "data": {
      "text/plain": [
       "True"
      ]
     },
     "execution_count": 15,
     "metadata": {},
     "output_type": "execute_result"
    }
   ],
   "execution_count": 15
  },
  {
   "metadata": {
    "ExecuteTime": {
     "end_time": "2024-10-31T10:27:07.527193Z",
     "start_time": "2024-10-31T10:27:07.524203Z"
    }
   },
   "cell_type": "code",
   "source": "\"Merlin\" in camelot",
   "id": "d4533709ae9fba8",
   "outputs": [
    {
     "data": {
      "text/plain": [
       "False"
      ]
     },
     "execution_count": 16,
     "metadata": {},
     "output_type": "execute_result"
    }
   ],
   "execution_count": 16
  },
  {
   "metadata": {},
   "cell_type": "code",
   "outputs": [],
   "execution_count": null,
   "source": "",
   "id": "8b7694a0bcd34e5e"
  }
 ],
 "metadata": {
  "kernelspec": {
   "display_name": "Python 3",
   "language": "python",
   "name": "python3"
  },
  "language_info": {
   "codemirror_mode": {
    "name": "ipython",
    "version": 2
   },
   "file_extension": ".py",
   "mimetype": "text/x-python",
   "name": "python",
   "nbconvert_exporter": "python",
   "pygments_lexer": "ipython2",
   "version": "2.7.6"
  }
 },
 "nbformat": 4,
 "nbformat_minor": 5
}
