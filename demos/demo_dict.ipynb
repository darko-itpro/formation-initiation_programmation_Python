{
 "cells": [
  {
   "metadata": {},
   "cell_type": "markdown",
   "source": "# Les dictionnaires",
   "id": "47ee165b7f93e466"
  },
  {
   "cell_type": "code",
   "id": "initial_id",
   "metadata": {
    "collapsed": true,
    "ExecuteTime": {
     "end_time": "2024-10-29T10:42:44.036550Z",
     "start_time": "2024-10-29T10:42:44.033509Z"
    }
   },
   "source": "camelot = {\"king\":\"Arthur\", \"wizard\":\"Merlin\"}",
   "outputs": [],
   "execution_count": 4
  },
  {
   "metadata": {
    "ExecuteTime": {
     "end_time": "2024-10-29T10:42:44.486006Z",
     "start_time": "2024-10-29T10:42:44.483110Z"
    }
   },
   "cell_type": "code",
   "source": "len(camelot)",
   "id": "66f0ac5f53360e77",
   "outputs": [
    {
     "data": {
      "text/plain": [
       "2"
      ]
     },
     "execution_count": 5,
     "metadata": {},
     "output_type": "execute_result"
    }
   ],
   "execution_count": 5
  },
  {
   "metadata": {
    "ExecuteTime": {
     "end_time": "2024-10-29T10:42:45.638480Z",
     "start_time": "2024-10-29T10:42:45.635540Z"
    }
   },
   "cell_type": "code",
   "source": "print(camelot)",
   "id": "63fe6d70c483c449",
   "outputs": [
    {
     "name": "stdout",
     "output_type": "stream",
     "text": [
      "{'king': 'Arthur', 'wizard': 'Merlin'}\n"
     ]
    }
   ],
   "execution_count": 6
  },
  {
   "metadata": {
    "ExecuteTime": {
     "end_time": "2024-10-29T10:43:36.748228Z",
     "start_time": "2024-10-29T10:43:36.744578Z"
    }
   },
   "cell_type": "code",
   "source": "camelot[\"king\"]",
   "id": "79e2237c7dc2d463",
   "outputs": [
    {
     "data": {
      "text/plain": [
       "'Arthur'"
      ]
     },
     "execution_count": 7,
     "metadata": {},
     "output_type": "execute_result"
    }
   ],
   "execution_count": 7
  },
  {
   "metadata": {
    "ExecuteTime": {
     "end_time": "2024-10-29T10:43:49.920990Z",
     "start_time": "2024-10-29T10:43:49.831017Z"
    }
   },
   "cell_type": "code",
   "source": "camelot['queen']",
   "id": "c3a9e90a07997262",
   "outputs": [
    {
     "ename": "KeyError",
     "evalue": "'queen'",
     "output_type": "error",
     "traceback": [
      "\u001B[0;31m---------------------------------------------------------------------------\u001B[0m",
      "\u001B[0;31mKeyError\u001B[0m                                  Traceback (most recent call last)",
      "Cell \u001B[0;32mIn[8], line 1\u001B[0m\n\u001B[0;32m----> 1\u001B[0m \u001B[43mcamelot\u001B[49m\u001B[43m[\u001B[49m\u001B[38;5;124;43m'\u001B[39;49m\u001B[38;5;124;43mqueen\u001B[39;49m\u001B[38;5;124;43m'\u001B[39;49m\u001B[43m]\u001B[49m\n",
      "\u001B[0;31mKeyError\u001B[0m: 'queen'"
     ]
    }
   ],
   "execution_count": 8
  },
  {
   "metadata": {
    "ExecuteTime": {
     "end_time": "2024-10-29T10:44:48.449852Z",
     "start_time": "2024-10-29T10:44:48.446234Z"
    }
   },
   "cell_type": "code",
   "source": "\"king\" in camelot",
   "id": "53f885cd126dfe09",
   "outputs": [
    {
     "data": {
      "text/plain": [
       "True"
      ]
     },
     "execution_count": 12,
     "metadata": {},
     "output_type": "execute_result"
    }
   ],
   "execution_count": 12
  },
  {
   "metadata": {
    "ExecuteTime": {
     "end_time": "2024-10-29T10:45:04.385840Z",
     "start_time": "2024-10-29T10:45:04.381771Z"
    }
   },
   "cell_type": "code",
   "source": "camelot",
   "id": "3acc4c11781fce9b",
   "outputs": [
    {
     "data": {
      "text/plain": [
       "{'king': 'Arthur', 'wizard': 'Merlin'}"
      ]
     },
     "execution_count": 13,
     "metadata": {},
     "output_type": "execute_result"
    }
   ],
   "execution_count": 13
  },
  {
   "metadata": {
    "ExecuteTime": {
     "end_time": "2024-10-29T10:45:24.548329Z",
     "start_time": "2024-10-29T10:45:24.545975Z"
    }
   },
   "cell_type": "code",
   "source": "camelot[\"king\"] = \"Pendragon\"",
   "id": "836fe4ba3ede0720",
   "outputs": [],
   "execution_count": 14
  },
  {
   "metadata": {
    "ExecuteTime": {
     "end_time": "2024-10-29T10:45:26.589319Z",
     "start_time": "2024-10-29T10:45:26.584998Z"
    }
   },
   "cell_type": "code",
   "source": "camelot",
   "id": "671d2fc969478a54",
   "outputs": [
    {
     "data": {
      "text/plain": [
       "{'king': 'Pendragon', 'wizard': 'Merlin'}"
      ]
     },
     "execution_count": 15,
     "metadata": {},
     "output_type": "execute_result"
    }
   ],
   "execution_count": 15
  },
  {
   "metadata": {
    "ExecuteTime": {
     "end_time": "2024-10-29T10:45:48.951356Z",
     "start_time": "2024-10-29T10:45:48.949145Z"
    }
   },
   "cell_type": "code",
   "source": "camelot['queen'] = \"Gueniever\"",
   "id": "98e7300ab73e789d",
   "outputs": [],
   "execution_count": 16
  },
  {
   "metadata": {
    "ExecuteTime": {
     "end_time": "2024-10-29T10:45:52.298913Z",
     "start_time": "2024-10-29T10:45:52.294393Z"
    }
   },
   "cell_type": "code",
   "source": "camelot",
   "id": "414948d1632fb3f",
   "outputs": [
    {
     "data": {
      "text/plain": [
       "{'king': 'Pendragon', 'wizard': 'Merlin', 'queen': 'Gueniever'}"
      ]
     },
     "execution_count": 17,
     "metadata": {},
     "output_type": "execute_result"
    }
   ],
   "execution_count": 17
  },
  {
   "metadata": {},
   "cell_type": "code",
   "outputs": [],
   "execution_count": null,
   "source": "",
   "id": "7e65f37fbf2b9f9f"
  }
 ],
 "metadata": {
  "kernelspec": {
   "display_name": "Python 3",
   "language": "python",
   "name": "python3"
  },
  "language_info": {
   "codemirror_mode": {
    "name": "ipython",
    "version": 2
   },
   "file_extension": ".py",
   "mimetype": "text/x-python",
   "name": "python",
   "nbconvert_exporter": "python",
   "pygments_lexer": "ipython2",
   "version": "2.7.6"
  }
 },
 "nbformat": 4,
 "nbformat_minor": 5
}
