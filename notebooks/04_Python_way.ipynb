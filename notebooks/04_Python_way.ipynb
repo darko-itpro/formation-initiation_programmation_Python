{
 "cells": [
  {
   "cell_type": "markdown",
   "metadata": {},
   "source": [
    "# Lets do it the Python way\n",
    "Jusqu'ici, nous avons vu la sémantique du langage Python. Avec les connaissance acquises jusqu'ici, vous savez écrire un programme avec la sémantique Python mais vous n'avez pas encore réellement vu les caractéristiques du langage."
   ]
  },
  {
   "cell_type": "markdown",
   "metadata": {},
   "source": [
    "## Manipuler les listes\n",
    "Pour transformer et/ou filtrer les listes, Python propose un mécanisme inspiré du langage Haskell : les *Comprehension lists*. Soit les listes suivantes :\n",
    "```python\n",
    "camelot = [\"Arthur\", \"Merlin\", \"Lancelot\", \"Galahad\", \"Robin\", \"Karadoc\"]\n",
    "wizards = ['Merlin', \"Morgan\"]\n",
    "```\n",
    "Nous pouvons obtenir une liste de la taille des éléments de la liste `camelot` de la manière suivante :\n",
    "```python\n",
    "[len(element) for element in camelot]\n",
    "```\n",
    "Nous pouvons obtenir la liste des chevaliers (éléments qui ne sont pas dans la liste `wizards`) de la manière suivante :\n",
    "```python\n",
    "[knight for knight in knights if knight not in wizards]\n",
    "```"
   ]
  },
  {
   "cell_type": "markdown",
   "metadata": {},
   "source": [
    "### Exercices\n",
    "Soit la liste de médias suivante. Chaque élément est une liste de deux éléments, une chaine et un booléen. Le bolléen représente si un média a été visionné (True) ou non (False).\n",
    "\n",
    "Générez et affichez une liste contenant uniquement les titres des médias"
   ]
  },
  {
   "cell_type": "code",
   "execution_count": null,
   "metadata": {},
   "outputs": [],
   "source": [
    "medias = [[\"The Philosopher's Stone\", True],\n",
    "          [\"The Chamber of Secrets\", True],\n",
    "          [\"The Prisoner of Azkaban\", False],\n",
    "          [\"the Goblet of Fire\", True],\n",
    "          [\"the Order of the Phoenix\", False],\n",
    "          [\"the Half-Blood Prince\", True],\n",
    "          [\"the Deathly Hallows – Part 1\", False],\n",
    "          [\"the Deathly Hallows – Part 2\", False]]"
   ]
  },
  {
   "cell_type": "markdown",
   "metadata": {},
   "source": [
    "Générez et affichez une liste des titres des médias **non visionnés**."
   ]
  },
  {
   "cell_type": "code",
   "execution_count": null,
   "metadata": {},
   "outputs": [],
   "source": []
  },
  {
   "cell_type": "markdown",
   "metadata": {},
   "source": [
    "Simplifions la recherche de palindromes\n",
    "\n",
    "Dans le notebook sur les [fonctions](http://localhost:8888/notebooks/03_fonctions.ipynb), vous avez créé une fonction qui facilite la lecture du code. Vous avez ajouté cette fonction dans une bibliothèque dans le notebook sur [les dépendances](http://localhost:8888/notebooks/04_dependances). Cette fonction peut s'intégrer dans une *List Comprehension*.\n",
    " * Exécutez la cellule suivante afin de charger les modules nécessaires\n",
    " * Dans la seconde cellule, à l'aide d'une comprehension list et de la fonction `is_palindrom(sequence)`, affichez une liste de booléens comme dans l'exercice sur les [fonctions](http://localhost:8888/notebooks/03_fonctions.ipynb)."
   ]
  },
  {
   "cell_type": "code",
   "execution_count": null,
   "metadata": {},
   "outputs": [],
   "source": [
    "import nb_paths\n",
    "import importlib\n",
    "from stage import display_utilities"
   ]
  },
  {
   "cell_type": "code",
   "execution_count": null,
   "metadata": {},
   "outputs": [],
   "source": [
    "importlib.reload(display_utilities)\n",
    "\n",
    "SENTENCES = [\"Esope reste ici et se repose\",\n",
    "             \"La mariée ira mal\",\n",
    "             \"radar\"]"
   ]
  },
  {
   "cell_type": "markdown",
   "metadata": {},
   "source": [
    "*****\n",
    "## Les fonctions\n",
    "En Python, **tout est objet**. Les fonctions sont donc des objets… Il ne faut donc pas confondre les instructions\n",
    "```python\n",
    "print_hello()\n",
    "```\n",
    "qui est un appel de la fonction et qui retourne le retour de la fonction (None dans ce cas) et\n",
    "```python\n",
    "print_hello\n",
    "```\n",
    "qui est une référence à la fonction et retourne donc… La fonction.\n",
    "\n",
    "Une fonction est un *callable* et pour être *appelé*, sa déclaration doit le suivre de parenthèses.\n",
    "\n",
    "Si le nom de la fonction retourne la fonction et que ce retour peut être exécuté par ajout de parenthèses, alors nous pouvons affecter une fonction à une variable, un paramètre de fonction ou un retour de fonction…\n",
    "\n",
    "Voyons ça avec ces deux fonctions qui permettent de calculer la TVA pleine ou réduite :"
   ]
  },
  {
   "cell_type": "code",
   "execution_count": 11,
   "metadata": {},
   "outputs": [],
   "source": [
    "def vat_full(value):\n",
    "    return value * 1.2\n",
    "\n",
    "def vat_low(value):\n",
    "    return value * 1.055"
   ]
  },
  {
   "cell_type": "markdown",
   "metadata": {},
   "source": [
    "La fonction suivante s'occupe de générer la chaine de caractères indiquant le prix total. Elle même ne connait pas le calcul, elle attends donc l'algorithme permétant ce calcul."
   ]
  },
  {
   "cell_type": "code",
   "execution_count": 12,
   "metadata": {},
   "outputs": [
    {
     "name": "stdout",
     "output_type": "stream",
     "text": [
      "Prix total : 36.0 €\n",
      "Prix total : 31.65 €\n"
     ]
    }
   ],
   "source": [
    "def displayable_full_price(price, vat_fct):\n",
    "    return \"Prix total : {} €\".format(vat_fct(price))\n",
    "\n",
    "print(displayable_full_price(30, vat_full))\n",
    "print(displayable_full_price(30, vat_low))"
   ]
  },
  {
   "cell_type": "markdown",
   "metadata": {},
   "source": [
    "### Exercice\n",
    "La liste de produits `products_list` contient des listes de deux éléments où le premier et le prix et le second la catégorie.\n",
    "Pour le dictionnaire `category_vat`, les clefs sont des chaines de caractères représentant les catégories et les valeurs des références vers les fonctions de calcul du prix total.\n",
    "\n",
    "Calculez le prix total des courses."
   ]
  },
  {
   "cell_type": "code",
   "execution_count": null,
   "metadata": {},
   "outputs": [],
   "source": [
    "products_list = [[24, 'restaurant'],\n",
    "                [16, 'food'],\n",
    "                [54, 'house'],\n",
    "                [24, 'house'],\n",
    "                [12, 'food']]\n",
    "\n",
    "category_vat = {'restaurant': vat_low, 'food': vat_low, 'house': vat_full}"
   ]
  },
  {
   "cell_type": "markdown",
   "metadata": {},
   "source": [
    "## Et si vous êtes en avance\n",
    "Soit la liste des médias suivants, pour chacun, posez la question si il a été vu ou non."
   ]
  },
  {
   "cell_type": "code",
   "execution_count": null,
   "metadata": {},
   "outputs": [],
   "source": [
    "medias = [\"The Philosopher's Stone\",\n",
    "          \"The Chamber of Secrets\",\n",
    "          \"The Prisoner of Azkaban\",\n",
    "          \"the gOblet of Fire\",\n",
    "          \"the Order of the Phoenix\",\n",
    "          \"the Half-BlOOd Prince\",\n",
    "          \"the Deathly Hallows – Part 1\",\n",
    "          \"the Deathly Hallows – Part 2\"]"
   ]
  },
  {
   "cell_type": "markdown",
   "metadata": {},
   "source": [
    "Affichez le nombre de films restant à voir"
   ]
  },
  {
   "cell_type": "code",
   "execution_count": null,
   "metadata": {},
   "outputs": [],
   "source": [
    "HOW_MANY = \"Il reste {} films à voir\"\n",
    "NO_MORE = \"Il n'y a plus de film à voir\""
   ]
  }
 ],
 "metadata": {
  "kernelspec": {
   "display_name": "Python 3",
   "language": "python",
   "name": "python3"
  },
  "language_info": {
   "codemirror_mode": {
    "name": "ipython",
    "version": 3
   },
   "file_extension": ".py",
   "mimetype": "text/x-python",
   "name": "python",
   "nbconvert_exporter": "python",
   "pygments_lexer": "ipython3",
   "version": "3.6.0"
  }
 },
 "nbformat": 4,
 "nbformat_minor": 2
}
